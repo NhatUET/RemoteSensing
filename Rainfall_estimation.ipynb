{
  "nbformat": 4,
  "nbformat_minor": 0,
  "metadata": {
    "colab": {
      "provenance": [],
      "collapsed_sections": [
        "Fdq281ize04u",
        "IlHUNpAMfATs",
        "CmKpsSmQb0w1"
      ],
      "gpuType": "T4"
    },
    "kernelspec": {
      "name": "python3",
      "display_name": "Python 3"
    },
    "language_info": {
      "name": "python"
    },
    "gpuClass": "standard",
    "accelerator": "GPU"
  },
  "cells": [
    {
      "cell_type": "code",
      "execution_count": null,
      "metadata": {
        "id": "OI7tzIXIfEg_"
      },
      "outputs": [],
      "source": [
        "import pandas as pd"
      ]
    },
    {
      "cell_type": "code",
      "source": [
        "from google.colab import drive\n",
        "drive.mount(\"/content/myDrive\")"
      ],
      "metadata": {
        "colab": {
          "base_uri": "https://localhost:8080/"
        },
        "id": "E3TaiKPKY_gZ",
        "outputId": "4cb5ab68-05cb-42e4-a4f7-f017fa5df081"
      },
      "execution_count": null,
      "outputs": [
        {
          "output_type": "stream",
          "name": "stdout",
          "text": [
            "Mounted at /content/myDrive\n"
          ]
        }
      ]
    },
    {
      "cell_type": "markdown",
      "source": [
        "# Do some statistic with dataset 1\n"
      ],
      "metadata": {
        "id": "Fdq281ize04u"
      }
    },
    {
      "cell_type": "code",
      "source": [
        "import pandas as pd\n",
        "df_9_ex = pd.read_excel(\"/content/myDrive/MyDrive/BTL VD KHMT/Data/Dataset1/data_match9.xlsx\").dropna()\n",
        "df_9_ex.head(3)"
      ],
      "metadata": {
        "id": "fJx-MY5C9dhc"
      },
      "execution_count": null,
      "outputs": []
    },
    {
      "cell_type": "code",
      "source": [
        "df_9_ex[df_9_ex['id'] == '090059']['lon'].unique()"
      ],
      "metadata": {
        "id": "vX0I3gTJBXGB"
      },
      "execution_count": null,
      "outputs": []
    },
    {
      "cell_type": "code",
      "source": [
        "import pandas as pd\n",
        "df_10_ex = pd.read_excel(\"/content/myDrive/MyDrive/BTL VD KHMT/Data/Dataset1/data_match10.xlsx\").dropna()\n",
        "df_10_ex.head(3)"
      ],
      "metadata": {
        "id": "R1Zmos8shlXh"
      },
      "execution_count": null,
      "outputs": []
    },
    {
      "cell_type": "code",
      "source": [
        "len(df_10_ex['name'])"
      ],
      "metadata": {
        "id": "vtFH-xTIhtO3"
      },
      "execution_count": null,
      "outputs": []
    },
    {
      "cell_type": "code",
      "source": [
        "len(df_9_ex['name'])"
      ],
      "metadata": {
        "id": "CYDrra_h-Hfd"
      },
      "execution_count": null,
      "outputs": []
    },
    {
      "cell_type": "code",
      "source": [
        "import numpy as np"
      ],
      "metadata": {
        "id": "0yrVhc1_-I0I"
      },
      "execution_count": null,
      "outputs": []
    },
    {
      "cell_type": "code",
      "source": [
        "pd.Series(np.array(df_9_ex['datetime']))"
      ],
      "metadata": {
        "colab": {
          "base_uri": "https://localhost:8080/"
        },
        "id": "XoInyUWE9927",
        "outputId": "9e8fbd10-00d3-4075-d624-abc7e5c2e979"
      },
      "execution_count": null,
      "outputs": [
        {
          "output_type": "execute_result",
          "data": {
            "text/plain": [
              "0       2019-09-02 00:00:00\n",
              "1       2019-09-02 06:00:00\n",
              "2       2019-09-02 07:00:00\n",
              "3       2019-09-02 08:00:00\n",
              "4       2019-09-02 09:00:00\n",
              "                ...        \n",
              "86266   2019-09-30 19:00:00\n",
              "86267   2019-09-30 20:00:00\n",
              "86268   2019-09-30 21:00:00\n",
              "86269   2019-09-30 22:00:00\n",
              "86270   2019-09-30 23:00:00\n",
              "Length: 86271, dtype: datetime64[ns]"
            ]
          },
          "metadata": {},
          "execution_count": 159
        }
      ]
    },
    {
      "cell_type": "code",
      "source": [
        "tmp_df = df_9_ex[df_9_ex['name'] == \"MuongLong\"]"
      ],
      "metadata": {
        "id": "rXB4s0Ix-LRF"
      },
      "execution_count": null,
      "outputs": []
    },
    {
      "cell_type": "code",
      "source": [
        "print(df_9_ex[df_9_ex['id'] == '-']['name'].unique())"
      ],
      "metadata": {
        "colab": {
          "base_uri": "https://localhost:8080/"
        },
        "id": "Mn_1q2JTTYf6",
        "outputId": "2681ce3d-ba4a-4fd0-8a29-e7e4f0f442b9"
      },
      "execution_count": null,
      "outputs": [
        {
          "output_type": "stream",
          "name": "stdout",
          "text": [
            "['DonPhuc' 'PhucTrach']\n"
          ]
        }
      ]
    },
    {
      "cell_type": "code",
      "source": [
        "for id in df_10_ex['id'].unique():\n",
        "  print(df_10_ex[df_10_ex['id'] == id]['name'].unique())"
      ],
      "metadata": {
        "id": "bw-3VZYfOcbr"
      },
      "execution_count": null,
      "outputs": []
    },
    {
      "cell_type": "code",
      "source": [
        "print(df_9_ex[df_9_ex['id'] == '264504']['name'].unique())"
      ],
      "metadata": {
        "id": "P1MR2H122X3U",
        "colab": {
          "base_uri": "https://localhost:8080/"
        },
        "outputId": "2c1fdcbd-2616-4388-f2c5-3ff77e77d1d0"
      },
      "execution_count": null,
      "outputs": [
        {
          "output_type": "stream",
          "name": "stdout",
          "text": [
            "['TamHop' 'TamHop2']\n"
          ]
        }
      ]
    },
    {
      "cell_type": "code",
      "source": [
        "print(df_9_ex[df_9_ex['name'] == 'TamHop']['lon'].unique())"
      ],
      "metadata": {
        "colab": {
          "base_uri": "https://localhost:8080/"
        },
        "id": "97PgbjR_EtZu",
        "outputId": "861840b5-00ea-4c73-f605-2f683d0198e6"
      },
      "execution_count": null,
      "outputs": [
        {
          "output_type": "stream",
          "name": "stdout",
          "text": [
            "[104.448333]\n"
          ]
        }
      ]
    },
    {
      "cell_type": "code",
      "source": [
        "print(df_9_ex[df_9_ex['name'] == 'TamHop2']['lon'].unique())"
      ],
      "metadata": {
        "colab": {
          "base_uri": "https://localhost:8080/"
        },
        "id": "IYaO--YVEzEy",
        "outputId": "f8d3ba34-e8d4-4ffe-d13b-fb8154c4c8f7"
      },
      "execution_count": null,
      "outputs": [
        {
          "output_type": "stream",
          "name": "stdout",
          "text": [
            "[104.448333]\n"
          ]
        }
      ]
    },
    {
      "cell_type": "markdown",
      "source": [
        "# Building data and model based on dataset 1\n"
      ],
      "metadata": {
        "id": "IlHUNpAMfATs"
      }
    },
    {
      "cell_type": "code",
      "source": [
        "def process_time_column(data_path):\n",
        "  df = pd.read_excel(data_path).dropna()\n",
        "  df['datetime'] = pd.to_datetime(df['datetime'])\n",
        "  df['day'], df['time'] = df['datetime'].dt.date, df['datetime'].dt.time\n",
        "  return df.sort_values(by=['id', 'day', 'time']).drop(columns=['lat', 'lon', 'day', 'time'])"
      ],
      "metadata": {
        "id": "DsZzyTlwHGqs"
      },
      "execution_count": null,
      "outputs": []
    },
    {
      "cell_type": "code",
      "source": [
        "df_9 = process_time_column(\"/content/myDrive/MyDrive/BTL VD KHMT/Data/Dataset1/data_match9.xlsx\")\n",
        "df_10 = process_time_column(\"/content/myDrive/MyDrive/BTL VD KHMT/Data/Dataset1/data_match10.xlsx\")"
      ],
      "metadata": {
        "id": "BVUStje3JHPb"
      },
      "execution_count": null,
      "outputs": []
    },
    {
      "cell_type": "code",
      "source": [
        "df_9.drop(columns=[\"id\", 'name']).iloc[0, 0]"
      ],
      "metadata": {
        "colab": {
          "base_uri": "https://localhost:8080/"
        },
        "id": "z3ZcOtk8RG2A",
        "outputId": "4665d82e-7679-4698-8b5f-c35c5acfeea5"
      },
      "execution_count": null,
      "outputs": [
        {
          "output_type": "execute_result",
          "data": {
            "text/plain": [
              "0.0"
            ]
          },
          "metadata": {},
          "execution_count": 120
        }
      ]
    },
    {
      "cell_type": "code",
      "source": [
        "df_9.drop(columns=[\"id\", 'name']).iloc[0, [i for i in range(2, 20)]]"
      ],
      "metadata": {
        "colab": {
          "base_uri": "https://localhost:8080/"
        },
        "id": "g__jRE_aL7Jx",
        "outputId": "24a473e6-1f32-41c5-e6cd-1816d886d351"
      },
      "execution_count": null,
      "outputs": [
        {
          "output_type": "execute_result",
          "data": {
            "text/plain": [
              "B04B       0.31354\n",
              "B05B      0.133524\n",
              "B06B      0.095137\n",
              "B09B    238.541565\n",
              "B10B    245.962646\n",
              "B11B    262.033875\n",
              "B12B    248.734024\n",
              "B14B    259.075958\n",
              "B16B    248.668777\n",
              "I2B     255.719315\n",
              "I4B     278.503326\n",
              "IRB     262.328064\n",
              "VSB       0.278758\n",
              "WVB     230.306183\n",
              "CAPE      364.8125\n",
              "TCC       0.999995\n",
              "TCW       68.29744\n",
              "TCWV     66.952896\n",
              "Name: 64277, dtype: object"
            ]
          },
          "metadata": {},
          "execution_count": 121
        }
      ]
    },
    {
      "cell_type": "code",
      "source": [
        "df_9.drop(columns=['id', 'name']).iloc[0]"
      ],
      "metadata": {
        "colab": {
          "base_uri": "https://localhost:8080/"
        },
        "id": "QQG24Rd6RLE0",
        "outputId": "84d3637c-7dbd-41aa-8a10-92213cddd022"
      },
      "execution_count": null,
      "outputs": [
        {
          "output_type": "execute_result",
          "data": {
            "text/plain": [
              "value                       0.0\n",
              "datetime    2019-09-02 00:00:00\n",
              "B04B                    0.31354\n",
              "B05B                   0.133524\n",
              "B06B                   0.095137\n",
              "B09B                 238.541565\n",
              "B10B                 245.962646\n",
              "B11B                 262.033875\n",
              "B12B                 248.734024\n",
              "B14B                 259.075958\n",
              "B16B                 248.668777\n",
              "I2B                  255.719315\n",
              "I4B                  278.503326\n",
              "IRB                  262.328064\n",
              "VSB                    0.278758\n",
              "WVB                  230.306183\n",
              "CAPE                   364.8125\n",
              "TCC                    0.999995\n",
              "TCW                    68.29744\n",
              "TCWV                  66.952896\n",
              "IMERG                  5.654023\n",
              "Name: 64277, dtype: object"
            ]
          },
          "metadata": {},
          "execution_count": 122
        }
      ]
    },
    {
      "cell_type": "code",
      "source": [
        "len(df_9['name'])"
      ],
      "metadata": {
        "colab": {
          "base_uri": "https://localhost:8080/"
        },
        "id": "5xwg-ZQv401U",
        "outputId": "a2d08754-8b44-488d-8b66-3e89d275bcfa"
      },
      "execution_count": null,
      "outputs": [
        {
          "output_type": "execute_result",
          "data": {
            "text/plain": [
              "86271"
            ]
          },
          "metadata": {},
          "execution_count": 123
        }
      ]
    },
    {
      "cell_type": "code",
      "source": [
        "len(df_10['name'])"
      ],
      "metadata": {
        "colab": {
          "base_uri": "https://localhost:8080/"
        },
        "id": "HeZwvds6hcR6",
        "outputId": "c209870f-d141-4eb1-bd37-5fc99a7c6a18"
      },
      "execution_count": null,
      "outputs": [
        {
          "output_type": "execute_result",
          "data": {
            "text/plain": [
              "75665"
            ]
          },
          "metadata": {},
          "execution_count": 124
        }
      ]
    },
    {
      "cell_type": "code",
      "source": [
        "df_9.loc[(df_9['id'] == '-') & (df_9['name'] == 'PhucTrach')].drop(columns=['id', 'name'])"
      ],
      "metadata": {
        "colab": {
          "base_uri": "https://localhost:8080/",
          "height": 835
        },
        "id": "692Vyy7Fh_He",
        "outputId": "33c71f8a-b7f4-45ba-cff8-53c11b12ebd9"
      },
      "execution_count": null,
      "outputs": [
        {
          "output_type": "execute_result",
          "data": {
            "text/plain": [
              "       value            datetime      B04B      B05B      B06B        B09B  \\\n",
              "64277    0.0 2019-09-02 00:00:00  0.313540  0.133524  0.095137  238.541565   \n",
              "64278    0.0 2019-09-02 01:00:00  0.590572  0.162384  0.166667  230.304245   \n",
              "64279    0.0 2019-09-02 02:00:00  0.683031  0.245129  0.226969  225.412323   \n",
              "64280    0.0 2019-09-02 03:00:00  0.628140  0.288306  0.243869  225.670959   \n",
              "64281    0.0 2019-09-02 04:00:00  0.781289  0.243488  0.269933  218.464905   \n",
              "...      ...                 ...       ...       ...       ...         ...   \n",
              "64919    0.0 2019-09-30 19:00:00  0.000000  0.000000  0.000000  257.774109   \n",
              "64920    0.0 2019-09-30 20:00:00  0.000000  0.000000  0.000000  258.104736   \n",
              "64921    0.0 2019-09-30 21:00:00  0.000000  0.000000  0.000000  258.527832   \n",
              "64922    0.0 2019-09-30 22:00:00  0.001953  0.000326  0.000000  258.218719   \n",
              "64923    0.0 2019-09-30 23:00:00  0.064998  0.030970  0.008203  257.851654   \n",
              "\n",
              "             B10B        B11B        B12B        B14B  ...         I2B  \\\n",
              "64277  245.962646  262.033875  248.734024  259.075958  ...  255.719315   \n",
              "64278  233.701889  240.938919  235.206284  237.305557  ...  235.135544   \n",
              "64279  228.928345  235.638397  232.283081  231.105865  ...  228.971252   \n",
              "64280  229.552170  239.089691  235.701401  234.415634  ...  231.001572   \n",
              "64281  220.495850  223.731186  225.530075  220.254578  ...  218.747665   \n",
              "...           ...         ...         ...         ...  ...         ...   \n",
              "64919  265.805664  289.543213  266.369995  292.359955  ...  290.621582   \n",
              "64920  265.876343  289.364014  266.296295  292.151611  ...  290.424713   \n",
              "64921  265.876343  289.268005  266.109100  292.037140  ...  290.327820   \n",
              "64922  265.876343  289.086639  265.920441  291.894012  ...  290.085571   \n",
              "64923  265.876343  289.822784  266.463104  292.477020  ...  290.554932   \n",
              "\n",
              "              I4B         IRB       VSB         WVB      CAPE       TCC  \\\n",
              "64277  278.503326  262.328064  0.278758  230.306183  364.8125  0.999995   \n",
              "64278  266.168732  240.089828  0.553570  224.959763  377.4375  1.000000   \n",
              "64279  270.727539  234.563675  0.642138  221.015671  478.3125  1.000004   \n",
              "64280  277.428070  243.170700  0.524425  220.880875  458.4375  0.999994   \n",
              "64281  263.031219  222.371674  0.764798  215.765320  422.8750  0.999996   \n",
              "...           ...         ...       ...         ...       ...       ...   \n",
              "64919  291.317780  291.963196  0.000000  247.069168   18.6250  0.006042   \n",
              "64920  291.188843  291.825409  0.000000  247.472153   17.1250  0.004700   \n",
              "64921  291.056641  291.672211  0.000000  247.589401   24.3125  0.003998   \n",
              "64922  290.885712  291.515564  0.001276  247.303635   19.0000  0.148254   \n",
              "64923  292.077606  292.197174  0.024220  247.257935   28.3125  0.046265   \n",
              "\n",
              "             TCW       TCWV      IMERG  \n",
              "64277  68.297440  66.952896   5.654023  \n",
              "64278  68.985672  67.447006  14.114376  \n",
              "64279  69.505859  67.773071  17.704895  \n",
              "64280  69.178131  67.046738   7.502751  \n",
              "64281  68.782532  66.633911  16.779648  \n",
              "...          ...        ...        ...  \n",
              "64919  23.856400  23.854248   0.000000  \n",
              "64920  24.651154  24.648041   0.000000  \n",
              "64921  25.577911  25.573029   0.000000  \n",
              "64922  26.693649  26.691696   0.000000  \n",
              "64923  27.580841  27.575958   0.000000  \n",
              "\n",
              "[632 rows x 21 columns]"
            ],
            "text/html": [
              "\n",
              "  <div id=\"df-5fdba551-9ff0-4b57-915e-a992ce4d3f78\">\n",
              "    <div class=\"colab-df-container\">\n",
              "      <div>\n",
              "<style scoped>\n",
              "    .dataframe tbody tr th:only-of-type {\n",
              "        vertical-align: middle;\n",
              "    }\n",
              "\n",
              "    .dataframe tbody tr th {\n",
              "        vertical-align: top;\n",
              "    }\n",
              "\n",
              "    .dataframe thead th {\n",
              "        text-align: right;\n",
              "    }\n",
              "</style>\n",
              "<table border=\"1\" class=\"dataframe\">\n",
              "  <thead>\n",
              "    <tr style=\"text-align: right;\">\n",
              "      <th></th>\n",
              "      <th>value</th>\n",
              "      <th>datetime</th>\n",
              "      <th>B04B</th>\n",
              "      <th>B05B</th>\n",
              "      <th>B06B</th>\n",
              "      <th>B09B</th>\n",
              "      <th>B10B</th>\n",
              "      <th>B11B</th>\n",
              "      <th>B12B</th>\n",
              "      <th>B14B</th>\n",
              "      <th>...</th>\n",
              "      <th>I2B</th>\n",
              "      <th>I4B</th>\n",
              "      <th>IRB</th>\n",
              "      <th>VSB</th>\n",
              "      <th>WVB</th>\n",
              "      <th>CAPE</th>\n",
              "      <th>TCC</th>\n",
              "      <th>TCW</th>\n",
              "      <th>TCWV</th>\n",
              "      <th>IMERG</th>\n",
              "    </tr>\n",
              "  </thead>\n",
              "  <tbody>\n",
              "    <tr>\n",
              "      <th>64277</th>\n",
              "      <td>0.0</td>\n",
              "      <td>2019-09-02 00:00:00</td>\n",
              "      <td>0.313540</td>\n",
              "      <td>0.133524</td>\n",
              "      <td>0.095137</td>\n",
              "      <td>238.541565</td>\n",
              "      <td>245.962646</td>\n",
              "      <td>262.033875</td>\n",
              "      <td>248.734024</td>\n",
              "      <td>259.075958</td>\n",
              "      <td>...</td>\n",
              "      <td>255.719315</td>\n",
              "      <td>278.503326</td>\n",
              "      <td>262.328064</td>\n",
              "      <td>0.278758</td>\n",
              "      <td>230.306183</td>\n",
              "      <td>364.8125</td>\n",
              "      <td>0.999995</td>\n",
              "      <td>68.297440</td>\n",
              "      <td>66.952896</td>\n",
              "      <td>5.654023</td>\n",
              "    </tr>\n",
              "    <tr>\n",
              "      <th>64278</th>\n",
              "      <td>0.0</td>\n",
              "      <td>2019-09-02 01:00:00</td>\n",
              "      <td>0.590572</td>\n",
              "      <td>0.162384</td>\n",
              "      <td>0.166667</td>\n",
              "      <td>230.304245</td>\n",
              "      <td>233.701889</td>\n",
              "      <td>240.938919</td>\n",
              "      <td>235.206284</td>\n",
              "      <td>237.305557</td>\n",
              "      <td>...</td>\n",
              "      <td>235.135544</td>\n",
              "      <td>266.168732</td>\n",
              "      <td>240.089828</td>\n",
              "      <td>0.553570</td>\n",
              "      <td>224.959763</td>\n",
              "      <td>377.4375</td>\n",
              "      <td>1.000000</td>\n",
              "      <td>68.985672</td>\n",
              "      <td>67.447006</td>\n",
              "      <td>14.114376</td>\n",
              "    </tr>\n",
              "    <tr>\n",
              "      <th>64279</th>\n",
              "      <td>0.0</td>\n",
              "      <td>2019-09-02 02:00:00</td>\n",
              "      <td>0.683031</td>\n",
              "      <td>0.245129</td>\n",
              "      <td>0.226969</td>\n",
              "      <td>225.412323</td>\n",
              "      <td>228.928345</td>\n",
              "      <td>235.638397</td>\n",
              "      <td>232.283081</td>\n",
              "      <td>231.105865</td>\n",
              "      <td>...</td>\n",
              "      <td>228.971252</td>\n",
              "      <td>270.727539</td>\n",
              "      <td>234.563675</td>\n",
              "      <td>0.642138</td>\n",
              "      <td>221.015671</td>\n",
              "      <td>478.3125</td>\n",
              "      <td>1.000004</td>\n",
              "      <td>69.505859</td>\n",
              "      <td>67.773071</td>\n",
              "      <td>17.704895</td>\n",
              "    </tr>\n",
              "    <tr>\n",
              "      <th>64280</th>\n",
              "      <td>0.0</td>\n",
              "      <td>2019-09-02 03:00:00</td>\n",
              "      <td>0.628140</td>\n",
              "      <td>0.288306</td>\n",
              "      <td>0.243869</td>\n",
              "      <td>225.670959</td>\n",
              "      <td>229.552170</td>\n",
              "      <td>239.089691</td>\n",
              "      <td>235.701401</td>\n",
              "      <td>234.415634</td>\n",
              "      <td>...</td>\n",
              "      <td>231.001572</td>\n",
              "      <td>277.428070</td>\n",
              "      <td>243.170700</td>\n",
              "      <td>0.524425</td>\n",
              "      <td>220.880875</td>\n",
              "      <td>458.4375</td>\n",
              "      <td>0.999994</td>\n",
              "      <td>69.178131</td>\n",
              "      <td>67.046738</td>\n",
              "      <td>7.502751</td>\n",
              "    </tr>\n",
              "    <tr>\n",
              "      <th>64281</th>\n",
              "      <td>0.0</td>\n",
              "      <td>2019-09-02 04:00:00</td>\n",
              "      <td>0.781289</td>\n",
              "      <td>0.243488</td>\n",
              "      <td>0.269933</td>\n",
              "      <td>218.464905</td>\n",
              "      <td>220.495850</td>\n",
              "      <td>223.731186</td>\n",
              "      <td>225.530075</td>\n",
              "      <td>220.254578</td>\n",
              "      <td>...</td>\n",
              "      <td>218.747665</td>\n",
              "      <td>263.031219</td>\n",
              "      <td>222.371674</td>\n",
              "      <td>0.764798</td>\n",
              "      <td>215.765320</td>\n",
              "      <td>422.8750</td>\n",
              "      <td>0.999996</td>\n",
              "      <td>68.782532</td>\n",
              "      <td>66.633911</td>\n",
              "      <td>16.779648</td>\n",
              "    </tr>\n",
              "    <tr>\n",
              "      <th>...</th>\n",
              "      <td>...</td>\n",
              "      <td>...</td>\n",
              "      <td>...</td>\n",
              "      <td>...</td>\n",
              "      <td>...</td>\n",
              "      <td>...</td>\n",
              "      <td>...</td>\n",
              "      <td>...</td>\n",
              "      <td>...</td>\n",
              "      <td>...</td>\n",
              "      <td>...</td>\n",
              "      <td>...</td>\n",
              "      <td>...</td>\n",
              "      <td>...</td>\n",
              "      <td>...</td>\n",
              "      <td>...</td>\n",
              "      <td>...</td>\n",
              "      <td>...</td>\n",
              "      <td>...</td>\n",
              "      <td>...</td>\n",
              "      <td>...</td>\n",
              "    </tr>\n",
              "    <tr>\n",
              "      <th>64919</th>\n",
              "      <td>0.0</td>\n",
              "      <td>2019-09-30 19:00:00</td>\n",
              "      <td>0.000000</td>\n",
              "      <td>0.000000</td>\n",
              "      <td>0.000000</td>\n",
              "      <td>257.774109</td>\n",
              "      <td>265.805664</td>\n",
              "      <td>289.543213</td>\n",
              "      <td>266.369995</td>\n",
              "      <td>292.359955</td>\n",
              "      <td>...</td>\n",
              "      <td>290.621582</td>\n",
              "      <td>291.317780</td>\n",
              "      <td>291.963196</td>\n",
              "      <td>0.000000</td>\n",
              "      <td>247.069168</td>\n",
              "      <td>18.6250</td>\n",
              "      <td>0.006042</td>\n",
              "      <td>23.856400</td>\n",
              "      <td>23.854248</td>\n",
              "      <td>0.000000</td>\n",
              "    </tr>\n",
              "    <tr>\n",
              "      <th>64920</th>\n",
              "      <td>0.0</td>\n",
              "      <td>2019-09-30 20:00:00</td>\n",
              "      <td>0.000000</td>\n",
              "      <td>0.000000</td>\n",
              "      <td>0.000000</td>\n",
              "      <td>258.104736</td>\n",
              "      <td>265.876343</td>\n",
              "      <td>289.364014</td>\n",
              "      <td>266.296295</td>\n",
              "      <td>292.151611</td>\n",
              "      <td>...</td>\n",
              "      <td>290.424713</td>\n",
              "      <td>291.188843</td>\n",
              "      <td>291.825409</td>\n",
              "      <td>0.000000</td>\n",
              "      <td>247.472153</td>\n",
              "      <td>17.1250</td>\n",
              "      <td>0.004700</td>\n",
              "      <td>24.651154</td>\n",
              "      <td>24.648041</td>\n",
              "      <td>0.000000</td>\n",
              "    </tr>\n",
              "    <tr>\n",
              "      <th>64921</th>\n",
              "      <td>0.0</td>\n",
              "      <td>2019-09-30 21:00:00</td>\n",
              "      <td>0.000000</td>\n",
              "      <td>0.000000</td>\n",
              "      <td>0.000000</td>\n",
              "      <td>258.527832</td>\n",
              "      <td>265.876343</td>\n",
              "      <td>289.268005</td>\n",
              "      <td>266.109100</td>\n",
              "      <td>292.037140</td>\n",
              "      <td>...</td>\n",
              "      <td>290.327820</td>\n",
              "      <td>291.056641</td>\n",
              "      <td>291.672211</td>\n",
              "      <td>0.000000</td>\n",
              "      <td>247.589401</td>\n",
              "      <td>24.3125</td>\n",
              "      <td>0.003998</td>\n",
              "      <td>25.577911</td>\n",
              "      <td>25.573029</td>\n",
              "      <td>0.000000</td>\n",
              "    </tr>\n",
              "    <tr>\n",
              "      <th>64922</th>\n",
              "      <td>0.0</td>\n",
              "      <td>2019-09-30 22:00:00</td>\n",
              "      <td>0.001953</td>\n",
              "      <td>0.000326</td>\n",
              "      <td>0.000000</td>\n",
              "      <td>258.218719</td>\n",
              "      <td>265.876343</td>\n",
              "      <td>289.086639</td>\n",
              "      <td>265.920441</td>\n",
              "      <td>291.894012</td>\n",
              "      <td>...</td>\n",
              "      <td>290.085571</td>\n",
              "      <td>290.885712</td>\n",
              "      <td>291.515564</td>\n",
              "      <td>0.001276</td>\n",
              "      <td>247.303635</td>\n",
              "      <td>19.0000</td>\n",
              "      <td>0.148254</td>\n",
              "      <td>26.693649</td>\n",
              "      <td>26.691696</td>\n",
              "      <td>0.000000</td>\n",
              "    </tr>\n",
              "    <tr>\n",
              "      <th>64923</th>\n",
              "      <td>0.0</td>\n",
              "      <td>2019-09-30 23:00:00</td>\n",
              "      <td>0.064998</td>\n",
              "      <td>0.030970</td>\n",
              "      <td>0.008203</td>\n",
              "      <td>257.851654</td>\n",
              "      <td>265.876343</td>\n",
              "      <td>289.822784</td>\n",
              "      <td>266.463104</td>\n",
              "      <td>292.477020</td>\n",
              "      <td>...</td>\n",
              "      <td>290.554932</td>\n",
              "      <td>292.077606</td>\n",
              "      <td>292.197174</td>\n",
              "      <td>0.024220</td>\n",
              "      <td>247.257935</td>\n",
              "      <td>28.3125</td>\n",
              "      <td>0.046265</td>\n",
              "      <td>27.580841</td>\n",
              "      <td>27.575958</td>\n",
              "      <td>0.000000</td>\n",
              "    </tr>\n",
              "  </tbody>\n",
              "</table>\n",
              "<p>632 rows × 21 columns</p>\n",
              "</div>\n",
              "      <button class=\"colab-df-convert\" onclick=\"convertToInteractive('df-5fdba551-9ff0-4b57-915e-a992ce4d3f78')\"\n",
              "              title=\"Convert this dataframe to an interactive table.\"\n",
              "              style=\"display:none;\">\n",
              "        \n",
              "  <svg xmlns=\"http://www.w3.org/2000/svg\" height=\"24px\"viewBox=\"0 0 24 24\"\n",
              "       width=\"24px\">\n",
              "    <path d=\"M0 0h24v24H0V0z\" fill=\"none\"/>\n",
              "    <path d=\"M18.56 5.44l.94 2.06.94-2.06 2.06-.94-2.06-.94-.94-2.06-.94 2.06-2.06.94zm-11 1L8.5 8.5l.94-2.06 2.06-.94-2.06-.94L8.5 2.5l-.94 2.06-2.06.94zm10 10l.94 2.06.94-2.06 2.06-.94-2.06-.94-.94-2.06-.94 2.06-2.06.94z\"/><path d=\"M17.41 7.96l-1.37-1.37c-.4-.4-.92-.59-1.43-.59-.52 0-1.04.2-1.43.59L10.3 9.45l-7.72 7.72c-.78.78-.78 2.05 0 2.83L4 21.41c.39.39.9.59 1.41.59.51 0 1.02-.2 1.41-.59l7.78-7.78 2.81-2.81c.8-.78.8-2.07 0-2.86zM5.41 20L4 18.59l7.72-7.72 1.47 1.35L5.41 20z\"/>\n",
              "  </svg>\n",
              "      </button>\n",
              "      \n",
              "  <style>\n",
              "    .colab-df-container {\n",
              "      display:flex;\n",
              "      flex-wrap:wrap;\n",
              "      gap: 12px;\n",
              "    }\n",
              "\n",
              "    .colab-df-convert {\n",
              "      background-color: #E8F0FE;\n",
              "      border: none;\n",
              "      border-radius: 50%;\n",
              "      cursor: pointer;\n",
              "      display: none;\n",
              "      fill: #1967D2;\n",
              "      height: 32px;\n",
              "      padding: 0 0 0 0;\n",
              "      width: 32px;\n",
              "    }\n",
              "\n",
              "    .colab-df-convert:hover {\n",
              "      background-color: #E2EBFA;\n",
              "      box-shadow: 0px 1px 2px rgba(60, 64, 67, 0.3), 0px 1px 3px 1px rgba(60, 64, 67, 0.15);\n",
              "      fill: #174EA6;\n",
              "    }\n",
              "\n",
              "    [theme=dark] .colab-df-convert {\n",
              "      background-color: #3B4455;\n",
              "      fill: #D2E3FC;\n",
              "    }\n",
              "\n",
              "    [theme=dark] .colab-df-convert:hover {\n",
              "      background-color: #434B5C;\n",
              "      box-shadow: 0px 1px 3px 1px rgba(0, 0, 0, 0.15);\n",
              "      filter: drop-shadow(0px 1px 2px rgba(0, 0, 0, 0.3));\n",
              "      fill: #FFFFFF;\n",
              "    }\n",
              "  </style>\n",
              "\n",
              "      <script>\n",
              "        const buttonEl =\n",
              "          document.querySelector('#df-5fdba551-9ff0-4b57-915e-a992ce4d3f78 button.colab-df-convert');\n",
              "        buttonEl.style.display =\n",
              "          google.colab.kernel.accessAllowed ? 'block' : 'none';\n",
              "\n",
              "        async function convertToInteractive(key) {\n",
              "          const element = document.querySelector('#df-5fdba551-9ff0-4b57-915e-a992ce4d3f78');\n",
              "          const dataTable =\n",
              "            await google.colab.kernel.invokeFunction('convertToInteractive',\n",
              "                                                     [key], {});\n",
              "          if (!dataTable) return;\n",
              "\n",
              "          const docLinkHtml = 'Like what you see? Visit the ' +\n",
              "            '<a target=\"_blank\" href=https://colab.research.google.com/notebooks/data_table.ipynb>data table notebook</a>'\n",
              "            + ' to learn more about interactive tables.';\n",
              "          element.innerHTML = '';\n",
              "          dataTable['output_type'] = 'display_data';\n",
              "          await google.colab.output.renderOutput(dataTable, element);\n",
              "          const docLink = document.createElement('div');\n",
              "          docLink.innerHTML = docLinkHtml;\n",
              "          element.appendChild(docLink);\n",
              "        }\n",
              "      </script>\n",
              "    </div>\n",
              "  </div>\n",
              "  "
            ]
          },
          "metadata": {},
          "execution_count": 125
        }
      ]
    },
    {
      "cell_type": "code",
      "source": [
        "for i in range(len(df_9)):\n",
        "  if df_9.iloc[i, 0] == '-':\n",
        "    df_9.iloc[i, 0] = df_9.iloc[i, 1]"
      ],
      "metadata": {
        "id": "iMiv8p9dJbcW"
      },
      "execution_count": null,
      "outputs": []
    },
    {
      "cell_type": "code",
      "source": [
        "df_9[df_9['name'] == 'PhucTrach' ]"
      ],
      "metadata": {
        "colab": {
          "base_uri": "https://localhost:8080/",
          "height": 835
        },
        "id": "fs23IwOFKG7r",
        "outputId": "f7096aef-8f97-4f0d-84ce-798734933396"
      },
      "execution_count": null,
      "outputs": [
        {
          "output_type": "execute_result",
          "data": {
            "text/plain": [
              "              id       name  value            datetime      B04B      B05B  \\\n",
              "64277  PhucTrach  PhucTrach    0.0 2019-09-02 00:00:00  0.313540  0.133524   \n",
              "64278  PhucTrach  PhucTrach    0.0 2019-09-02 01:00:00  0.590572  0.162384   \n",
              "64279  PhucTrach  PhucTrach    0.0 2019-09-02 02:00:00  0.683031  0.245129   \n",
              "64280  PhucTrach  PhucTrach    0.0 2019-09-02 03:00:00  0.628140  0.288306   \n",
              "64281  PhucTrach  PhucTrach    0.0 2019-09-02 04:00:00  0.781289  0.243488   \n",
              "...          ...        ...    ...                 ...       ...       ...   \n",
              "64919  PhucTrach  PhucTrach    0.0 2019-09-30 19:00:00  0.000000  0.000000   \n",
              "64920  PhucTrach  PhucTrach    0.0 2019-09-30 20:00:00  0.000000  0.000000   \n",
              "64921  PhucTrach  PhucTrach    0.0 2019-09-30 21:00:00  0.000000  0.000000   \n",
              "64922  PhucTrach  PhucTrach    0.0 2019-09-30 22:00:00  0.001953  0.000326   \n",
              "64923  PhucTrach  PhucTrach    0.0 2019-09-30 23:00:00  0.064998  0.030970   \n",
              "\n",
              "           B06B        B09B        B10B        B11B  ...         I2B  \\\n",
              "64277  0.095137  238.541565  245.962646  262.033875  ...  255.719315   \n",
              "64278  0.166667  230.304245  233.701889  240.938919  ...  235.135544   \n",
              "64279  0.226969  225.412323  228.928345  235.638397  ...  228.971252   \n",
              "64280  0.243869  225.670959  229.552170  239.089691  ...  231.001572   \n",
              "64281  0.269933  218.464905  220.495850  223.731186  ...  218.747665   \n",
              "...         ...         ...         ...         ...  ...         ...   \n",
              "64919  0.000000  257.774109  265.805664  289.543213  ...  290.621582   \n",
              "64920  0.000000  258.104736  265.876343  289.364014  ...  290.424713   \n",
              "64921  0.000000  258.527832  265.876343  289.268005  ...  290.327820   \n",
              "64922  0.000000  258.218719  265.876343  289.086639  ...  290.085571   \n",
              "64923  0.008203  257.851654  265.876343  289.822784  ...  290.554932   \n",
              "\n",
              "              I4B         IRB       VSB         WVB      CAPE       TCC  \\\n",
              "64277  278.503326  262.328064  0.278758  230.306183  364.8125  0.999995   \n",
              "64278  266.168732  240.089828  0.553570  224.959763  377.4375  1.000000   \n",
              "64279  270.727539  234.563675  0.642138  221.015671  478.3125  1.000004   \n",
              "64280  277.428070  243.170700  0.524425  220.880875  458.4375  0.999994   \n",
              "64281  263.031219  222.371674  0.764798  215.765320  422.8750  0.999996   \n",
              "...           ...         ...       ...         ...       ...       ...   \n",
              "64919  291.317780  291.963196  0.000000  247.069168   18.6250  0.006042   \n",
              "64920  291.188843  291.825409  0.000000  247.472153   17.1250  0.004700   \n",
              "64921  291.056641  291.672211  0.000000  247.589401   24.3125  0.003998   \n",
              "64922  290.885712  291.515564  0.001276  247.303635   19.0000  0.148254   \n",
              "64923  292.077606  292.197174  0.024220  247.257935   28.3125  0.046265   \n",
              "\n",
              "             TCW       TCWV      IMERG  \n",
              "64277  68.297440  66.952896   5.654023  \n",
              "64278  68.985672  67.447006  14.114376  \n",
              "64279  69.505859  67.773071  17.704895  \n",
              "64280  69.178131  67.046738   7.502751  \n",
              "64281  68.782532  66.633911  16.779648  \n",
              "...          ...        ...        ...  \n",
              "64919  23.856400  23.854248   0.000000  \n",
              "64920  24.651154  24.648041   0.000000  \n",
              "64921  25.577911  25.573029   0.000000  \n",
              "64922  26.693649  26.691696   0.000000  \n",
              "64923  27.580841  27.575958   0.000000  \n",
              "\n",
              "[632 rows x 23 columns]"
            ],
            "text/html": [
              "\n",
              "  <div id=\"df-7488ccda-fa41-4731-8cb2-0d8d6cffbece\">\n",
              "    <div class=\"colab-df-container\">\n",
              "      <div>\n",
              "<style scoped>\n",
              "    .dataframe tbody tr th:only-of-type {\n",
              "        vertical-align: middle;\n",
              "    }\n",
              "\n",
              "    .dataframe tbody tr th {\n",
              "        vertical-align: top;\n",
              "    }\n",
              "\n",
              "    .dataframe thead th {\n",
              "        text-align: right;\n",
              "    }\n",
              "</style>\n",
              "<table border=\"1\" class=\"dataframe\">\n",
              "  <thead>\n",
              "    <tr style=\"text-align: right;\">\n",
              "      <th></th>\n",
              "      <th>id</th>\n",
              "      <th>name</th>\n",
              "      <th>value</th>\n",
              "      <th>datetime</th>\n",
              "      <th>B04B</th>\n",
              "      <th>B05B</th>\n",
              "      <th>B06B</th>\n",
              "      <th>B09B</th>\n",
              "      <th>B10B</th>\n",
              "      <th>B11B</th>\n",
              "      <th>...</th>\n",
              "      <th>I2B</th>\n",
              "      <th>I4B</th>\n",
              "      <th>IRB</th>\n",
              "      <th>VSB</th>\n",
              "      <th>WVB</th>\n",
              "      <th>CAPE</th>\n",
              "      <th>TCC</th>\n",
              "      <th>TCW</th>\n",
              "      <th>TCWV</th>\n",
              "      <th>IMERG</th>\n",
              "    </tr>\n",
              "  </thead>\n",
              "  <tbody>\n",
              "    <tr>\n",
              "      <th>64277</th>\n",
              "      <td>PhucTrach</td>\n",
              "      <td>PhucTrach</td>\n",
              "      <td>0.0</td>\n",
              "      <td>2019-09-02 00:00:00</td>\n",
              "      <td>0.313540</td>\n",
              "      <td>0.133524</td>\n",
              "      <td>0.095137</td>\n",
              "      <td>238.541565</td>\n",
              "      <td>245.962646</td>\n",
              "      <td>262.033875</td>\n",
              "      <td>...</td>\n",
              "      <td>255.719315</td>\n",
              "      <td>278.503326</td>\n",
              "      <td>262.328064</td>\n",
              "      <td>0.278758</td>\n",
              "      <td>230.306183</td>\n",
              "      <td>364.8125</td>\n",
              "      <td>0.999995</td>\n",
              "      <td>68.297440</td>\n",
              "      <td>66.952896</td>\n",
              "      <td>5.654023</td>\n",
              "    </tr>\n",
              "    <tr>\n",
              "      <th>64278</th>\n",
              "      <td>PhucTrach</td>\n",
              "      <td>PhucTrach</td>\n",
              "      <td>0.0</td>\n",
              "      <td>2019-09-02 01:00:00</td>\n",
              "      <td>0.590572</td>\n",
              "      <td>0.162384</td>\n",
              "      <td>0.166667</td>\n",
              "      <td>230.304245</td>\n",
              "      <td>233.701889</td>\n",
              "      <td>240.938919</td>\n",
              "      <td>...</td>\n",
              "      <td>235.135544</td>\n",
              "      <td>266.168732</td>\n",
              "      <td>240.089828</td>\n",
              "      <td>0.553570</td>\n",
              "      <td>224.959763</td>\n",
              "      <td>377.4375</td>\n",
              "      <td>1.000000</td>\n",
              "      <td>68.985672</td>\n",
              "      <td>67.447006</td>\n",
              "      <td>14.114376</td>\n",
              "    </tr>\n",
              "    <tr>\n",
              "      <th>64279</th>\n",
              "      <td>PhucTrach</td>\n",
              "      <td>PhucTrach</td>\n",
              "      <td>0.0</td>\n",
              "      <td>2019-09-02 02:00:00</td>\n",
              "      <td>0.683031</td>\n",
              "      <td>0.245129</td>\n",
              "      <td>0.226969</td>\n",
              "      <td>225.412323</td>\n",
              "      <td>228.928345</td>\n",
              "      <td>235.638397</td>\n",
              "      <td>...</td>\n",
              "      <td>228.971252</td>\n",
              "      <td>270.727539</td>\n",
              "      <td>234.563675</td>\n",
              "      <td>0.642138</td>\n",
              "      <td>221.015671</td>\n",
              "      <td>478.3125</td>\n",
              "      <td>1.000004</td>\n",
              "      <td>69.505859</td>\n",
              "      <td>67.773071</td>\n",
              "      <td>17.704895</td>\n",
              "    </tr>\n",
              "    <tr>\n",
              "      <th>64280</th>\n",
              "      <td>PhucTrach</td>\n",
              "      <td>PhucTrach</td>\n",
              "      <td>0.0</td>\n",
              "      <td>2019-09-02 03:00:00</td>\n",
              "      <td>0.628140</td>\n",
              "      <td>0.288306</td>\n",
              "      <td>0.243869</td>\n",
              "      <td>225.670959</td>\n",
              "      <td>229.552170</td>\n",
              "      <td>239.089691</td>\n",
              "      <td>...</td>\n",
              "      <td>231.001572</td>\n",
              "      <td>277.428070</td>\n",
              "      <td>243.170700</td>\n",
              "      <td>0.524425</td>\n",
              "      <td>220.880875</td>\n",
              "      <td>458.4375</td>\n",
              "      <td>0.999994</td>\n",
              "      <td>69.178131</td>\n",
              "      <td>67.046738</td>\n",
              "      <td>7.502751</td>\n",
              "    </tr>\n",
              "    <tr>\n",
              "      <th>64281</th>\n",
              "      <td>PhucTrach</td>\n",
              "      <td>PhucTrach</td>\n",
              "      <td>0.0</td>\n",
              "      <td>2019-09-02 04:00:00</td>\n",
              "      <td>0.781289</td>\n",
              "      <td>0.243488</td>\n",
              "      <td>0.269933</td>\n",
              "      <td>218.464905</td>\n",
              "      <td>220.495850</td>\n",
              "      <td>223.731186</td>\n",
              "      <td>...</td>\n",
              "      <td>218.747665</td>\n",
              "      <td>263.031219</td>\n",
              "      <td>222.371674</td>\n",
              "      <td>0.764798</td>\n",
              "      <td>215.765320</td>\n",
              "      <td>422.8750</td>\n",
              "      <td>0.999996</td>\n",
              "      <td>68.782532</td>\n",
              "      <td>66.633911</td>\n",
              "      <td>16.779648</td>\n",
              "    </tr>\n",
              "    <tr>\n",
              "      <th>...</th>\n",
              "      <td>...</td>\n",
              "      <td>...</td>\n",
              "      <td>...</td>\n",
              "      <td>...</td>\n",
              "      <td>...</td>\n",
              "      <td>...</td>\n",
              "      <td>...</td>\n",
              "      <td>...</td>\n",
              "      <td>...</td>\n",
              "      <td>...</td>\n",
              "      <td>...</td>\n",
              "      <td>...</td>\n",
              "      <td>...</td>\n",
              "      <td>...</td>\n",
              "      <td>...</td>\n",
              "      <td>...</td>\n",
              "      <td>...</td>\n",
              "      <td>...</td>\n",
              "      <td>...</td>\n",
              "      <td>...</td>\n",
              "      <td>...</td>\n",
              "    </tr>\n",
              "    <tr>\n",
              "      <th>64919</th>\n",
              "      <td>PhucTrach</td>\n",
              "      <td>PhucTrach</td>\n",
              "      <td>0.0</td>\n",
              "      <td>2019-09-30 19:00:00</td>\n",
              "      <td>0.000000</td>\n",
              "      <td>0.000000</td>\n",
              "      <td>0.000000</td>\n",
              "      <td>257.774109</td>\n",
              "      <td>265.805664</td>\n",
              "      <td>289.543213</td>\n",
              "      <td>...</td>\n",
              "      <td>290.621582</td>\n",
              "      <td>291.317780</td>\n",
              "      <td>291.963196</td>\n",
              "      <td>0.000000</td>\n",
              "      <td>247.069168</td>\n",
              "      <td>18.6250</td>\n",
              "      <td>0.006042</td>\n",
              "      <td>23.856400</td>\n",
              "      <td>23.854248</td>\n",
              "      <td>0.000000</td>\n",
              "    </tr>\n",
              "    <tr>\n",
              "      <th>64920</th>\n",
              "      <td>PhucTrach</td>\n",
              "      <td>PhucTrach</td>\n",
              "      <td>0.0</td>\n",
              "      <td>2019-09-30 20:00:00</td>\n",
              "      <td>0.000000</td>\n",
              "      <td>0.000000</td>\n",
              "      <td>0.000000</td>\n",
              "      <td>258.104736</td>\n",
              "      <td>265.876343</td>\n",
              "      <td>289.364014</td>\n",
              "      <td>...</td>\n",
              "      <td>290.424713</td>\n",
              "      <td>291.188843</td>\n",
              "      <td>291.825409</td>\n",
              "      <td>0.000000</td>\n",
              "      <td>247.472153</td>\n",
              "      <td>17.1250</td>\n",
              "      <td>0.004700</td>\n",
              "      <td>24.651154</td>\n",
              "      <td>24.648041</td>\n",
              "      <td>0.000000</td>\n",
              "    </tr>\n",
              "    <tr>\n",
              "      <th>64921</th>\n",
              "      <td>PhucTrach</td>\n",
              "      <td>PhucTrach</td>\n",
              "      <td>0.0</td>\n",
              "      <td>2019-09-30 21:00:00</td>\n",
              "      <td>0.000000</td>\n",
              "      <td>0.000000</td>\n",
              "      <td>0.000000</td>\n",
              "      <td>258.527832</td>\n",
              "      <td>265.876343</td>\n",
              "      <td>289.268005</td>\n",
              "      <td>...</td>\n",
              "      <td>290.327820</td>\n",
              "      <td>291.056641</td>\n",
              "      <td>291.672211</td>\n",
              "      <td>0.000000</td>\n",
              "      <td>247.589401</td>\n",
              "      <td>24.3125</td>\n",
              "      <td>0.003998</td>\n",
              "      <td>25.577911</td>\n",
              "      <td>25.573029</td>\n",
              "      <td>0.000000</td>\n",
              "    </tr>\n",
              "    <tr>\n",
              "      <th>64922</th>\n",
              "      <td>PhucTrach</td>\n",
              "      <td>PhucTrach</td>\n",
              "      <td>0.0</td>\n",
              "      <td>2019-09-30 22:00:00</td>\n",
              "      <td>0.001953</td>\n",
              "      <td>0.000326</td>\n",
              "      <td>0.000000</td>\n",
              "      <td>258.218719</td>\n",
              "      <td>265.876343</td>\n",
              "      <td>289.086639</td>\n",
              "      <td>...</td>\n",
              "      <td>290.085571</td>\n",
              "      <td>290.885712</td>\n",
              "      <td>291.515564</td>\n",
              "      <td>0.001276</td>\n",
              "      <td>247.303635</td>\n",
              "      <td>19.0000</td>\n",
              "      <td>0.148254</td>\n",
              "      <td>26.693649</td>\n",
              "      <td>26.691696</td>\n",
              "      <td>0.000000</td>\n",
              "    </tr>\n",
              "    <tr>\n",
              "      <th>64923</th>\n",
              "      <td>PhucTrach</td>\n",
              "      <td>PhucTrach</td>\n",
              "      <td>0.0</td>\n",
              "      <td>2019-09-30 23:00:00</td>\n",
              "      <td>0.064998</td>\n",
              "      <td>0.030970</td>\n",
              "      <td>0.008203</td>\n",
              "      <td>257.851654</td>\n",
              "      <td>265.876343</td>\n",
              "      <td>289.822784</td>\n",
              "      <td>...</td>\n",
              "      <td>290.554932</td>\n",
              "      <td>292.077606</td>\n",
              "      <td>292.197174</td>\n",
              "      <td>0.024220</td>\n",
              "      <td>247.257935</td>\n",
              "      <td>28.3125</td>\n",
              "      <td>0.046265</td>\n",
              "      <td>27.580841</td>\n",
              "      <td>27.575958</td>\n",
              "      <td>0.000000</td>\n",
              "    </tr>\n",
              "  </tbody>\n",
              "</table>\n",
              "<p>632 rows × 23 columns</p>\n",
              "</div>\n",
              "      <button class=\"colab-df-convert\" onclick=\"convertToInteractive('df-7488ccda-fa41-4731-8cb2-0d8d6cffbece')\"\n",
              "              title=\"Convert this dataframe to an interactive table.\"\n",
              "              style=\"display:none;\">\n",
              "        \n",
              "  <svg xmlns=\"http://www.w3.org/2000/svg\" height=\"24px\"viewBox=\"0 0 24 24\"\n",
              "       width=\"24px\">\n",
              "    <path d=\"M0 0h24v24H0V0z\" fill=\"none\"/>\n",
              "    <path d=\"M18.56 5.44l.94 2.06.94-2.06 2.06-.94-2.06-.94-.94-2.06-.94 2.06-2.06.94zm-11 1L8.5 8.5l.94-2.06 2.06-.94-2.06-.94L8.5 2.5l-.94 2.06-2.06.94zm10 10l.94 2.06.94-2.06 2.06-.94-2.06-.94-.94-2.06-.94 2.06-2.06.94z\"/><path d=\"M17.41 7.96l-1.37-1.37c-.4-.4-.92-.59-1.43-.59-.52 0-1.04.2-1.43.59L10.3 9.45l-7.72 7.72c-.78.78-.78 2.05 0 2.83L4 21.41c.39.39.9.59 1.41.59.51 0 1.02-.2 1.41-.59l7.78-7.78 2.81-2.81c.8-.78.8-2.07 0-2.86zM5.41 20L4 18.59l7.72-7.72 1.47 1.35L5.41 20z\"/>\n",
              "  </svg>\n",
              "      </button>\n",
              "      \n",
              "  <style>\n",
              "    .colab-df-container {\n",
              "      display:flex;\n",
              "      flex-wrap:wrap;\n",
              "      gap: 12px;\n",
              "    }\n",
              "\n",
              "    .colab-df-convert {\n",
              "      background-color: #E8F0FE;\n",
              "      border: none;\n",
              "      border-radius: 50%;\n",
              "      cursor: pointer;\n",
              "      display: none;\n",
              "      fill: #1967D2;\n",
              "      height: 32px;\n",
              "      padding: 0 0 0 0;\n",
              "      width: 32px;\n",
              "    }\n",
              "\n",
              "    .colab-df-convert:hover {\n",
              "      background-color: #E2EBFA;\n",
              "      box-shadow: 0px 1px 2px rgba(60, 64, 67, 0.3), 0px 1px 3px 1px rgba(60, 64, 67, 0.15);\n",
              "      fill: #174EA6;\n",
              "    }\n",
              "\n",
              "    [theme=dark] .colab-df-convert {\n",
              "      background-color: #3B4455;\n",
              "      fill: #D2E3FC;\n",
              "    }\n",
              "\n",
              "    [theme=dark] .colab-df-convert:hover {\n",
              "      background-color: #434B5C;\n",
              "      box-shadow: 0px 1px 3px 1px rgba(0, 0, 0, 0.15);\n",
              "      filter: drop-shadow(0px 1px 2px rgba(0, 0, 0, 0.3));\n",
              "      fill: #FFFFFF;\n",
              "    }\n",
              "  </style>\n",
              "\n",
              "      <script>\n",
              "        const buttonEl =\n",
              "          document.querySelector('#df-7488ccda-fa41-4731-8cb2-0d8d6cffbece button.colab-df-convert');\n",
              "        buttonEl.style.display =\n",
              "          google.colab.kernel.accessAllowed ? 'block' : 'none';\n",
              "\n",
              "        async function convertToInteractive(key) {\n",
              "          const element = document.querySelector('#df-7488ccda-fa41-4731-8cb2-0d8d6cffbece');\n",
              "          const dataTable =\n",
              "            await google.colab.kernel.invokeFunction('convertToInteractive',\n",
              "                                                     [key], {});\n",
              "          if (!dataTable) return;\n",
              "\n",
              "          const docLinkHtml = 'Like what you see? Visit the ' +\n",
              "            '<a target=\"_blank\" href=https://colab.research.google.com/notebooks/data_table.ipynb>data table notebook</a>'\n",
              "            + ' to learn more about interactive tables.';\n",
              "          element.innerHTML = '';\n",
              "          dataTable['output_type'] = 'display_data';\n",
              "          await google.colab.output.renderOutput(dataTable, element);\n",
              "          const docLink = document.createElement('div');\n",
              "          docLink.innerHTML = docLinkHtml;\n",
              "          element.appendChild(docLink);\n",
              "        }\n",
              "      </script>\n",
              "    </div>\n",
              "  </div>\n",
              "  "
            ]
          },
          "metadata": {},
          "execution_count": 127
        }
      ]
    },
    {
      "cell_type": "code",
      "source": [
        "for id in df_9['id'].unique():\n",
        "  print(df_9[df_9['id'] == id]['name'].unique())"
      ],
      "metadata": {
        "colab": {
          "base_uri": "https://localhost:8080/"
        },
        "id": "oE9XP2MYMP9K",
        "outputId": "5c6aa029-682c-49fb-9f52-94547b9d66ea"
      },
      "execution_count": null,
      "outputs": [
        {
          "output_type": "stream",
          "name": "stdout",
          "text": [
            "['PhucTrach']\n",
            "['DonPhuc']\n",
            "['HanhLam']\n",
            "['HongSon']\n",
            "['HuyenYenThanh']\n",
            "['ThanhThuy']\n",
            "['BacSon']\n",
            "['MuongKhen']\n",
            "['Vinh ']\n",
            "['BanChaLum']\n",
            "['ThanhHa']\n",
            "['XuanPhong']\n",
            "['KimTien']\n",
            "['DongBang']\n",
            "['DoanKet']\n",
            "['YenKhuong']\n",
            "['XuanMinh']\n",
            "['DonBienPhong771']\n",
            "['CaoSon']\n",
            "['TanHoa']\n",
            "['MuongLong']\n",
            "['XaNaLoi']\n",
            "['HuyenKySon']\n",
            "['LacLuong']\n",
            "['CaoQuang']\n",
            "['VanPhongDieuHanh']\n",
            "['XaChauHoan']\n",
            "['SonNam(ChauLy)']\n",
            "['HoaDaHan']\n",
            "['LungVan']\n",
            "['NamPhong']\n",
            "['NuongDam']\n",
            "['BaKhan']\n",
            "['BQLNGocSon']\n",
            "['AnBinh']\n",
            "['HoCuLay']\n",
            "['TienPhong']\n",
            "['DongLai']\n",
            "['NgoiHoa']\n",
            "['PuBin']\n",
            "['LacSy']\n",
            "['ThuongTien']\n",
            "['HuongNhuong']\n",
            "['LongSap']\n",
            "['HuaPang']\n",
            "['TanTruong']\n",
            "['LuongNgoai']\n",
            "['SongLuong']\n",
            "['YenNhan']\n",
            "['PhucSon']\n",
            "['BanHangDoi']\n",
            "['TamTrung']\n",
            "['Thủy điện Đồng Văn']\n",
            "['LongSap']\n",
            "['SonTruong']\n",
            "['YenThuy']\n",
            "['TamHop' 'TamHop2']\n",
            "['HuongTho']\n",
            "['Yen Thang']\n",
            "['DucLong']\n",
            "['Trooc']\n",
            "['Chi Cuc Thuy Loi']\n",
            "['Ky Thuong']\n",
            "['Thanh Huong']\n",
            "['Son Kim 1']\n",
            "['Huong Quang']\n",
            "['Son Kim 2']\n",
            "['Huong Dien']\n",
            "['Ho Kim Son']\n",
            "['Son Trach']\n",
            "['Tam Hop']\n",
            "['Na Ngoi']\n",
            "['Binh Chuan']\n",
            "['Duc Bong']\n",
            "['Chau Khe']\n",
            "['Thanh Thuy(My)']\n",
            "['Hồ Trọng']\n",
            "['BaoLa']\n",
            "['TanLac']\n",
            "['Thủy điện Suối Tráng']\n",
            "['Hạ Bì']\n",
            "['Thủy điện Định Cư']\n",
            "['Muong Long']\n",
            "['Thanh Luong']\n",
            "['Thuy dien So Lo 1']\n",
            "['Ho thuy dien Trung Son\\n']\n",
            "['Trung Thanh']\n",
            "['Yen Tri']\n",
            "['Thuy dien Mien Doi']\n",
            "['Ho Can Thuong']\n",
            "['Muong Ly']\n",
            "['Hien Chung ']\n",
            "['Quan Son']\n",
            "['Nam Dong']\n",
            "['Tam Van']\n",
            "['Muong Tip']\n",
            "['Lieu De']\n",
            "['Vu Ban']\n",
            "['Dong Giao']\n",
            "['Tan Xuan']\n",
            "['Xa Keng Du']\n",
            "['Thanh Xuan']\n",
            "['Xuan Le']\n",
            "['La Khe']\n",
            "['Xuan Loc']\n",
            "['Chieng Khoa']\n",
            "['Thanh My']\n",
            "['Nhon Mai']\n",
            "['XuanQuy']\n",
            "['ThanhTan']\n",
            "['KyTan']\n",
            "['TanThanh']\n",
            "['VanXuan']\n",
            "['ThanhQuan']\n",
            "['DinhHoa']\n",
            "['LaiThanh']\n",
            "['NamSon']\n",
            "['BacLy']\n",
            "['KheNa']\n",
            "['YenNa']\n",
            "['MuongLong']\n",
            "['ChauPhong']\n",
            "['CocNa']\n",
            "['TriLe']\n",
            "['ChauKim']\n",
            "['ChauBinh']\n",
            "['HuuLap']\n",
            "['LuuKien']\n",
            "['MySon']\n",
            "['MinhThanh']\n",
            "['PhucThanh']\n",
            "['HungNguyen']\n",
            "['NamThanh']\n",
            "['YenTinh']\n",
            "['DongVan']\n",
            "['NghiaKhanh']\n",
            "['KyThuong']\n",
            "['KyLac']\n",
            "['SonLoc']\n",
            "['SonHong']\n",
            "['HuongQuang']\n",
            "['HuongLam']\n",
            "['ThachDien']\n",
            "['HuongTrach']\n",
            "['CauTreo']\n",
            "['KeGo']\n",
            "['KyTrinh']\n",
            "['KyHop']\n",
            "['HoaThanh']\n",
            "['ThuongHoa']\n",
            "['QuangHop']\n",
            "['HuongHoa']\n",
            "['Km46']\n",
            "['QuyHoa']\n",
            "['ThuyDienChauThang']\n",
            "['ThangTho']\n",
            "['Dan Hoa']\n",
            "['NgaThien']\n",
            "['VinhThinh']\n",
            "['LocThinh']\n",
            "['HaLinh']\n",
            "['Son Tay']\n",
            "['Thuy Dien Hua Na']\n",
            "['Huong Vinh']\n",
            "['Km22']\n",
            "['Con Cuong']\n",
            "['Tan Ky']\n",
            "['Quy Hop']\n",
            "['Da Son']\n",
            "['Ban Nuoc']\n",
            "['Cam Xuyen']\n",
            "['Do Diem']\n",
            "['Dai Loc']\n",
            "['Quan Hanh']\n",
            "['Dong Hieu']\n",
            "['Nong truong 3/2']\n",
            "['Khe Bo']\n",
            "['Thac Muoi']\n",
            "['Thanh Mai']\n",
            "['Ha Trung']\n",
            "['Trieu Son']\n",
            "['Lach Truong']\n",
            "['Sao Vang']\n",
            "['Bat Mot']\n",
            "['Km22']\n",
            "['Yen My']\n",
            "['Yen Cat']\n",
            "['Muong Xen']\n",
            "['Dua']\n",
            "['Yen Thuong']\n",
            "['Con Cuong']\n",
            "['Cho Trang']\n",
            "['Cua Hoi']\n",
            "['Cam Thuy']\n",
            "['Thach Quang']\n",
            "['Xuan Khanh']\n",
            "['Ly Nhan']\n",
            "['Lang Chanh']\n",
            "['Muong Lat']\n"
          ]
        }
      ]
    },
    {
      "cell_type": "code",
      "source": [
        "df_9.head(2)"
      ],
      "metadata": {
        "colab": {
          "base_uri": "https://localhost:8080/",
          "height": 275
        },
        "id": "qoQ_WgHaEQUe",
        "outputId": "ba12af16-4296-458d-d7ba-78ba514f1a6c"
      },
      "execution_count": null,
      "outputs": [
        {
          "output_type": "execute_result",
          "data": {
            "text/plain": [
              "              id       name  value            datetime      B04B      B05B  \\\n",
              "64277  PhucTrach  PhucTrach    0.0 2019-09-02 00:00:00  0.313540  0.133524   \n",
              "52820    DonPhuc    DonPhuc    0.0 2019-09-02 01:00:00  0.406744  0.224906   \n",
              "\n",
              "           B06B        B09B        B10B        B11B  ...         I2B  \\\n",
              "64277  0.095137  238.541565  245.962646  262.033875  ...  255.719315   \n",
              "52820  0.185114  230.560913  235.618607  247.553040  ...  241.936218   \n",
              "\n",
              "              I4B         IRB       VSB         WVB      CAPE       TCC  \\\n",
              "64277  278.503326  262.328064  0.278758  230.306183  364.8125  0.999995   \n",
              "52820  275.136414  247.388489  0.371888  224.498520  370.4375  1.000000   \n",
              "\n",
              "            TCW       TCWV     IMERG  \n",
              "64277  68.29744  66.952896  5.654023  \n",
              "52820  58.90657  58.669662  0.000000  \n",
              "\n",
              "[2 rows x 23 columns]"
            ],
            "text/html": [
              "\n",
              "  <div id=\"df-00390f50-32fe-435f-a957-7fb58c301433\">\n",
              "    <div class=\"colab-df-container\">\n",
              "      <div>\n",
              "<style scoped>\n",
              "    .dataframe tbody tr th:only-of-type {\n",
              "        vertical-align: middle;\n",
              "    }\n",
              "\n",
              "    .dataframe tbody tr th {\n",
              "        vertical-align: top;\n",
              "    }\n",
              "\n",
              "    .dataframe thead th {\n",
              "        text-align: right;\n",
              "    }\n",
              "</style>\n",
              "<table border=\"1\" class=\"dataframe\">\n",
              "  <thead>\n",
              "    <tr style=\"text-align: right;\">\n",
              "      <th></th>\n",
              "      <th>id</th>\n",
              "      <th>name</th>\n",
              "      <th>value</th>\n",
              "      <th>datetime</th>\n",
              "      <th>B04B</th>\n",
              "      <th>B05B</th>\n",
              "      <th>B06B</th>\n",
              "      <th>B09B</th>\n",
              "      <th>B10B</th>\n",
              "      <th>B11B</th>\n",
              "      <th>...</th>\n",
              "      <th>I2B</th>\n",
              "      <th>I4B</th>\n",
              "      <th>IRB</th>\n",
              "      <th>VSB</th>\n",
              "      <th>WVB</th>\n",
              "      <th>CAPE</th>\n",
              "      <th>TCC</th>\n",
              "      <th>TCW</th>\n",
              "      <th>TCWV</th>\n",
              "      <th>IMERG</th>\n",
              "    </tr>\n",
              "  </thead>\n",
              "  <tbody>\n",
              "    <tr>\n",
              "      <th>64277</th>\n",
              "      <td>PhucTrach</td>\n",
              "      <td>PhucTrach</td>\n",
              "      <td>0.0</td>\n",
              "      <td>2019-09-02 00:00:00</td>\n",
              "      <td>0.313540</td>\n",
              "      <td>0.133524</td>\n",
              "      <td>0.095137</td>\n",
              "      <td>238.541565</td>\n",
              "      <td>245.962646</td>\n",
              "      <td>262.033875</td>\n",
              "      <td>...</td>\n",
              "      <td>255.719315</td>\n",
              "      <td>278.503326</td>\n",
              "      <td>262.328064</td>\n",
              "      <td>0.278758</td>\n",
              "      <td>230.306183</td>\n",
              "      <td>364.8125</td>\n",
              "      <td>0.999995</td>\n",
              "      <td>68.29744</td>\n",
              "      <td>66.952896</td>\n",
              "      <td>5.654023</td>\n",
              "    </tr>\n",
              "    <tr>\n",
              "      <th>52820</th>\n",
              "      <td>DonPhuc</td>\n",
              "      <td>DonPhuc</td>\n",
              "      <td>0.0</td>\n",
              "      <td>2019-09-02 01:00:00</td>\n",
              "      <td>0.406744</td>\n",
              "      <td>0.224906</td>\n",
              "      <td>0.185114</td>\n",
              "      <td>230.560913</td>\n",
              "      <td>235.618607</td>\n",
              "      <td>247.553040</td>\n",
              "      <td>...</td>\n",
              "      <td>241.936218</td>\n",
              "      <td>275.136414</td>\n",
              "      <td>247.388489</td>\n",
              "      <td>0.371888</td>\n",
              "      <td>224.498520</td>\n",
              "      <td>370.4375</td>\n",
              "      <td>1.000000</td>\n",
              "      <td>58.90657</td>\n",
              "      <td>58.669662</td>\n",
              "      <td>0.000000</td>\n",
              "    </tr>\n",
              "  </tbody>\n",
              "</table>\n",
              "<p>2 rows × 23 columns</p>\n",
              "</div>\n",
              "      <button class=\"colab-df-convert\" onclick=\"convertToInteractive('df-00390f50-32fe-435f-a957-7fb58c301433')\"\n",
              "              title=\"Convert this dataframe to an interactive table.\"\n",
              "              style=\"display:none;\">\n",
              "        \n",
              "  <svg xmlns=\"http://www.w3.org/2000/svg\" height=\"24px\"viewBox=\"0 0 24 24\"\n",
              "       width=\"24px\">\n",
              "    <path d=\"M0 0h24v24H0V0z\" fill=\"none\"/>\n",
              "    <path d=\"M18.56 5.44l.94 2.06.94-2.06 2.06-.94-2.06-.94-.94-2.06-.94 2.06-2.06.94zm-11 1L8.5 8.5l.94-2.06 2.06-.94-2.06-.94L8.5 2.5l-.94 2.06-2.06.94zm10 10l.94 2.06.94-2.06 2.06-.94-2.06-.94-.94-2.06-.94 2.06-2.06.94z\"/><path d=\"M17.41 7.96l-1.37-1.37c-.4-.4-.92-.59-1.43-.59-.52 0-1.04.2-1.43.59L10.3 9.45l-7.72 7.72c-.78.78-.78 2.05 0 2.83L4 21.41c.39.39.9.59 1.41.59.51 0 1.02-.2 1.41-.59l7.78-7.78 2.81-2.81c.8-.78.8-2.07 0-2.86zM5.41 20L4 18.59l7.72-7.72 1.47 1.35L5.41 20z\"/>\n",
              "  </svg>\n",
              "      </button>\n",
              "      \n",
              "  <style>\n",
              "    .colab-df-container {\n",
              "      display:flex;\n",
              "      flex-wrap:wrap;\n",
              "      gap: 12px;\n",
              "    }\n",
              "\n",
              "    .colab-df-convert {\n",
              "      background-color: #E8F0FE;\n",
              "      border: none;\n",
              "      border-radius: 50%;\n",
              "      cursor: pointer;\n",
              "      display: none;\n",
              "      fill: #1967D2;\n",
              "      height: 32px;\n",
              "      padding: 0 0 0 0;\n",
              "      width: 32px;\n",
              "    }\n",
              "\n",
              "    .colab-df-convert:hover {\n",
              "      background-color: #E2EBFA;\n",
              "      box-shadow: 0px 1px 2px rgba(60, 64, 67, 0.3), 0px 1px 3px 1px rgba(60, 64, 67, 0.15);\n",
              "      fill: #174EA6;\n",
              "    }\n",
              "\n",
              "    [theme=dark] .colab-df-convert {\n",
              "      background-color: #3B4455;\n",
              "      fill: #D2E3FC;\n",
              "    }\n",
              "\n",
              "    [theme=dark] .colab-df-convert:hover {\n",
              "      background-color: #434B5C;\n",
              "      box-shadow: 0px 1px 3px 1px rgba(0, 0, 0, 0.15);\n",
              "      filter: drop-shadow(0px 1px 2px rgba(0, 0, 0, 0.3));\n",
              "      fill: #FFFFFF;\n",
              "    }\n",
              "  </style>\n",
              "\n",
              "      <script>\n",
              "        const buttonEl =\n",
              "          document.querySelector('#df-00390f50-32fe-435f-a957-7fb58c301433 button.colab-df-convert');\n",
              "        buttonEl.style.display =\n",
              "          google.colab.kernel.accessAllowed ? 'block' : 'none';\n",
              "\n",
              "        async function convertToInteractive(key) {\n",
              "          const element = document.querySelector('#df-00390f50-32fe-435f-a957-7fb58c301433');\n",
              "          const dataTable =\n",
              "            await google.colab.kernel.invokeFunction('convertToInteractive',\n",
              "                                                     [key], {});\n",
              "          if (!dataTable) return;\n",
              "\n",
              "          const docLinkHtml = 'Like what you see? Visit the ' +\n",
              "            '<a target=\"_blank\" href=https://colab.research.google.com/notebooks/data_table.ipynb>data table notebook</a>'\n",
              "            + ' to learn more about interactive tables.';\n",
              "          element.innerHTML = '';\n",
              "          dataTable['output_type'] = 'display_data';\n",
              "          await google.colab.output.renderOutput(dataTable, element);\n",
              "          const docLink = document.createElement('div');\n",
              "          docLink.innerHTML = docLinkHtml;\n",
              "          element.appendChild(docLink);\n",
              "        }\n",
              "      </script>\n",
              "    </div>\n",
              "  </div>\n",
              "  "
            ]
          },
          "metadata": {},
          "execution_count": 165
        }
      ]
    },
    {
      "cell_type": "code",
      "source": [
        "import numpy as np"
      ],
      "metadata": {
        "id": "1mdnWoVZR2J0"
      },
      "execution_count": null,
      "outputs": []
    },
    {
      "cell_type": "code",
      "source": [
        "df_9['id'].unique()"
      ],
      "metadata": {
        "id": "MsEBS3xZLyKf"
      },
      "execution_count": null,
      "outputs": []
    },
    {
      "cell_type": "code",
      "source": [
        "for id in df_9['id'].unique():\n",
        "  if len(df_9[df_9['id'] == id]['name'].unique()) > 1:\n",
        "    print(id, df_9[df_9['id'] == id]['name'].unique())"
      ],
      "metadata": {
        "id": "-xT4F-RSh0pI",
        "colab": {
          "base_uri": "https://localhost:8080/"
        },
        "outputId": "01530cf5-789e-4486-c775-5d59621b4cdd"
      },
      "execution_count": null,
      "outputs": [
        {
          "output_type": "stream",
          "name": "stdout",
          "text": [
            "264504 ['TamHop' 'TamHop2']\n"
          ]
        }
      ]
    },
    {
      "cell_type": "code",
      "source": [
        "df_9[df_9['name'] == 'TamHop']['lon'].unique()"
      ],
      "metadata": {
        "colab": {
          "base_uri": "https://localhost:8080/",
          "height": 536
        },
        "id": "Qw5NI3vDD6I_",
        "outputId": "96da9a86-e9e1-48b3-96b3-2f9ff9f62240"
      },
      "execution_count": null,
      "outputs": [
        {
          "output_type": "error",
          "ename": "KeyError",
          "evalue": "ignored",
          "traceback": [
            "\u001b[0;31m---------------------------------------------------------------------------\u001b[0m",
            "\u001b[0;31mKeyError\u001b[0m                                  Traceback (most recent call last)",
            "\u001b[0;32m/usr/local/lib/python3.10/dist-packages/pandas/core/indexes/base.py\u001b[0m in \u001b[0;36mget_loc\u001b[0;34m(self, key, method, tolerance)\u001b[0m\n\u001b[1;32m   3801\u001b[0m             \u001b[0;32mtry\u001b[0m\u001b[0;34m:\u001b[0m\u001b[0;34m\u001b[0m\u001b[0;34m\u001b[0m\u001b[0m\n\u001b[0;32m-> 3802\u001b[0;31m                 \u001b[0;32mreturn\u001b[0m \u001b[0mself\u001b[0m\u001b[0;34m.\u001b[0m\u001b[0m_engine\u001b[0m\u001b[0;34m.\u001b[0m\u001b[0mget_loc\u001b[0m\u001b[0;34m(\u001b[0m\u001b[0mcasted_key\u001b[0m\u001b[0;34m)\u001b[0m\u001b[0;34m\u001b[0m\u001b[0;34m\u001b[0m\u001b[0m\n\u001b[0m\u001b[1;32m   3803\u001b[0m             \u001b[0;32mexcept\u001b[0m \u001b[0mKeyError\u001b[0m \u001b[0;32mas\u001b[0m \u001b[0merr\u001b[0m\u001b[0;34m:\u001b[0m\u001b[0;34m\u001b[0m\u001b[0;34m\u001b[0m\u001b[0m\n",
            "\u001b[0;32m/usr/local/lib/python3.10/dist-packages/pandas/_libs/index.pyx\u001b[0m in \u001b[0;36mpandas._libs.index.IndexEngine.get_loc\u001b[0;34m()\u001b[0m\n",
            "\u001b[0;32m/usr/local/lib/python3.10/dist-packages/pandas/_libs/index.pyx\u001b[0m in \u001b[0;36mpandas._libs.index.IndexEngine.get_loc\u001b[0;34m()\u001b[0m\n",
            "\u001b[0;32mpandas/_libs/hashtable_class_helper.pxi\u001b[0m in \u001b[0;36mpandas._libs.hashtable.PyObjectHashTable.get_item\u001b[0;34m()\u001b[0m\n",
            "\u001b[0;32mpandas/_libs/hashtable_class_helper.pxi\u001b[0m in \u001b[0;36mpandas._libs.hashtable.PyObjectHashTable.get_item\u001b[0;34m()\u001b[0m\n",
            "\u001b[0;31mKeyError\u001b[0m: 'lon'",
            "\nThe above exception was the direct cause of the following exception:\n",
            "\u001b[0;31mKeyError\u001b[0m                                  Traceback (most recent call last)",
            "\u001b[0;32m<ipython-input-164-7173bbecda0d>\u001b[0m in \u001b[0;36m<cell line: 1>\u001b[0;34m()\u001b[0m\n\u001b[0;32m----> 1\u001b[0;31m \u001b[0mdf_9\u001b[0m\u001b[0;34m[\u001b[0m\u001b[0mdf_9\u001b[0m\u001b[0;34m[\u001b[0m\u001b[0;34m'name'\u001b[0m\u001b[0;34m]\u001b[0m \u001b[0;34m==\u001b[0m \u001b[0;34m'TamHop'\u001b[0m\u001b[0;34m]\u001b[0m\u001b[0;34m[\u001b[0m\u001b[0;34m'lon'\u001b[0m\u001b[0;34m]\u001b[0m\u001b[0;34m.\u001b[0m\u001b[0munique\u001b[0m\u001b[0;34m(\u001b[0m\u001b[0;34m)\u001b[0m\u001b[0;34m\u001b[0m\u001b[0;34m\u001b[0m\u001b[0m\n\u001b[0m",
            "\u001b[0;32m/usr/local/lib/python3.10/dist-packages/pandas/core/frame.py\u001b[0m in \u001b[0;36m__getitem__\u001b[0;34m(self, key)\u001b[0m\n\u001b[1;32m   3805\u001b[0m             \u001b[0;32mif\u001b[0m \u001b[0mself\u001b[0m\u001b[0;34m.\u001b[0m\u001b[0mcolumns\u001b[0m\u001b[0;34m.\u001b[0m\u001b[0mnlevels\u001b[0m \u001b[0;34m>\u001b[0m \u001b[0;36m1\u001b[0m\u001b[0;34m:\u001b[0m\u001b[0;34m\u001b[0m\u001b[0;34m\u001b[0m\u001b[0m\n\u001b[1;32m   3806\u001b[0m                 \u001b[0;32mreturn\u001b[0m \u001b[0mself\u001b[0m\u001b[0;34m.\u001b[0m\u001b[0m_getitem_multilevel\u001b[0m\u001b[0;34m(\u001b[0m\u001b[0mkey\u001b[0m\u001b[0;34m)\u001b[0m\u001b[0;34m\u001b[0m\u001b[0;34m\u001b[0m\u001b[0m\n\u001b[0;32m-> 3807\u001b[0;31m             \u001b[0mindexer\u001b[0m \u001b[0;34m=\u001b[0m \u001b[0mself\u001b[0m\u001b[0;34m.\u001b[0m\u001b[0mcolumns\u001b[0m\u001b[0;34m.\u001b[0m\u001b[0mget_loc\u001b[0m\u001b[0;34m(\u001b[0m\u001b[0mkey\u001b[0m\u001b[0;34m)\u001b[0m\u001b[0;34m\u001b[0m\u001b[0;34m\u001b[0m\u001b[0m\n\u001b[0m\u001b[1;32m   3808\u001b[0m             \u001b[0;32mif\u001b[0m \u001b[0mis_integer\u001b[0m\u001b[0;34m(\u001b[0m\u001b[0mindexer\u001b[0m\u001b[0;34m)\u001b[0m\u001b[0;34m:\u001b[0m\u001b[0;34m\u001b[0m\u001b[0;34m\u001b[0m\u001b[0m\n\u001b[1;32m   3809\u001b[0m                 \u001b[0mindexer\u001b[0m \u001b[0;34m=\u001b[0m \u001b[0;34m[\u001b[0m\u001b[0mindexer\u001b[0m\u001b[0;34m]\u001b[0m\u001b[0;34m\u001b[0m\u001b[0;34m\u001b[0m\u001b[0m\n",
            "\u001b[0;32m/usr/local/lib/python3.10/dist-packages/pandas/core/indexes/base.py\u001b[0m in \u001b[0;36mget_loc\u001b[0;34m(self, key, method, tolerance)\u001b[0m\n\u001b[1;32m   3802\u001b[0m                 \u001b[0;32mreturn\u001b[0m \u001b[0mself\u001b[0m\u001b[0;34m.\u001b[0m\u001b[0m_engine\u001b[0m\u001b[0;34m.\u001b[0m\u001b[0mget_loc\u001b[0m\u001b[0;34m(\u001b[0m\u001b[0mcasted_key\u001b[0m\u001b[0;34m)\u001b[0m\u001b[0;34m\u001b[0m\u001b[0;34m\u001b[0m\u001b[0m\n\u001b[1;32m   3803\u001b[0m             \u001b[0;32mexcept\u001b[0m \u001b[0mKeyError\u001b[0m \u001b[0;32mas\u001b[0m \u001b[0merr\u001b[0m\u001b[0;34m:\u001b[0m\u001b[0;34m\u001b[0m\u001b[0;34m\u001b[0m\u001b[0m\n\u001b[0;32m-> 3804\u001b[0;31m                 \u001b[0;32mraise\u001b[0m \u001b[0mKeyError\u001b[0m\u001b[0;34m(\u001b[0m\u001b[0mkey\u001b[0m\u001b[0;34m)\u001b[0m \u001b[0;32mfrom\u001b[0m \u001b[0merr\u001b[0m\u001b[0;34m\u001b[0m\u001b[0;34m\u001b[0m\u001b[0m\n\u001b[0m\u001b[1;32m   3805\u001b[0m             \u001b[0;32mexcept\u001b[0m \u001b[0mTypeError\u001b[0m\u001b[0;34m:\u001b[0m\u001b[0;34m\u001b[0m\u001b[0;34m\u001b[0m\u001b[0m\n\u001b[1;32m   3806\u001b[0m                 \u001b[0;31m# If we have a listlike key, _check_indexing_error will raise\u001b[0m\u001b[0;34m\u001b[0m\u001b[0;34m\u001b[0m\u001b[0m\n",
            "\u001b[0;31mKeyError\u001b[0m: 'lon'"
          ]
        }
      ]
    },
    {
      "cell_type": "code",
      "source": [
        "def building_data(df):\n",
        "  X = []\n",
        "  y = []\n",
        "  IMERG = []\n",
        "  id_list = df['id'].unique()\n",
        "  for index in id_list:\n",
        "    tmp_df = df.loc[df['id'] == index].drop(columns=['id', 'name'])\n",
        "    for i in range(2, len(tmp_df)):\n",
        "      if tmp_df.iloc[i, 1] + pd.Timedelta(-1, 'h') == tmp_df.iloc[i - 1, 1] and tmp_df.iloc[i, 1] + pd.Timedelta(-2, 'h') == tmp_df.iloc[i - 2, 1]:\n",
        "        X.append(np.array([np.array(list([np.array(tmp_df.iloc[i - 2, [x for x in range(2, 20)]], dtype=np.float32),\n",
        "                                          np.array(tmp_df.iloc[i - 1, [x for x in range(2, 20)]], dtype=np.float32),\n",
        "                                          np.array(tmp_df.iloc[i, [x for x in range(2, 20)]], dtype=np.float32)]))]))\n",
        "        y.append(tmp_df.iloc[i, 0])\n",
        "        IMERG.append(tmp_df.iloc[i, 20])\n",
        "  \n",
        "  X = np.array(X)\n",
        "  return X.reshape(X.shape[0], X.shape[2], X.shape[3]), np.array(y), np.array(IMERG)"
      ],
      "metadata": {
        "id": "FvATSWTjK0xn"
      },
      "execution_count": null,
      "outputs": []
    },
    {
      "cell_type": "code",
      "source": [
        "df_9.drop(columns=['id', 'name']).iloc[1]"
      ],
      "metadata": {
        "colab": {
          "base_uri": "https://localhost:8080/"
        },
        "id": "jq79fYB2DskL",
        "outputId": "92940bfe-e1ee-4bd8-b247-c1eda83d6f79"
      },
      "execution_count": null,
      "outputs": [
        {
          "output_type": "execute_result",
          "data": {
            "text/plain": [
              "value                       0.0\n",
              "datetime    2019-09-02 01:00:00\n",
              "B04B                   0.406744\n",
              "B05B                   0.224906\n",
              "B06B                   0.185114\n",
              "B09B                 230.560913\n",
              "B10B                 235.618607\n",
              "B11B                  247.55304\n",
              "B12B                 239.070862\n",
              "B14B                 244.839661\n",
              "B16B                 236.860733\n",
              "I2B                  241.936218\n",
              "I4B                  275.136414\n",
              "IRB                  247.388489\n",
              "VSB                    0.371888\n",
              "WVB                   224.49852\n",
              "CAPE                   370.4375\n",
              "TCC                         1.0\n",
              "TCW                    58.90657\n",
              "TCWV                  58.669662\n",
              "IMERG                       0.0\n",
              "Name: 52820, dtype: object"
            ]
          },
          "metadata": {},
          "execution_count": 133
        }
      ]
    },
    {
      "cell_type": "code",
      "source": [
        "tmp_df_9 = df_9.loc[(df_9['id'] == 'PhucTrach') & (df_9['name'] == 'PhucTrach')]"
      ],
      "metadata": {
        "id": "5lQ5Q-FLf5gm"
      },
      "execution_count": null,
      "outputs": []
    },
    {
      "cell_type": "code",
      "source": [
        "tmp_df_9.iloc[2]"
      ],
      "metadata": {
        "colab": {
          "base_uri": "https://localhost:8080/"
        },
        "id": "J4ruiTvFIkZQ",
        "outputId": "7c9b4a6d-662c-437e-9dda-97b2b1d15d45"
      },
      "execution_count": null,
      "outputs": [
        {
          "output_type": "execute_result",
          "data": {
            "text/plain": [
              "id                    PhucTrach\n",
              "name                  PhucTrach\n",
              "value                       0.0\n",
              "datetime    2019-09-02 02:00:00\n",
              "B04B                   0.683031\n",
              "B05B                   0.245129\n",
              "B06B                   0.226969\n",
              "B09B                 225.412323\n",
              "B10B                 228.928345\n",
              "B11B                 235.638397\n",
              "B12B                 232.283081\n",
              "B14B                 231.105865\n",
              "B16B                 225.426727\n",
              "I2B                  228.971252\n",
              "I4B                  270.727539\n",
              "IRB                  234.563675\n",
              "VSB                    0.642138\n",
              "WVB                  221.015671\n",
              "CAPE                   478.3125\n",
              "TCC                    1.000004\n",
              "TCW                   69.505859\n",
              "TCWV                  67.773071\n",
              "IMERG                 17.704895\n",
              "Name: 64279, dtype: object"
            ]
          },
          "metadata": {},
          "execution_count": 135
        }
      ]
    },
    {
      "cell_type": "code",
      "source": [
        "I = []\n",
        "for i in range(2, len(tmp_df_9)):\n",
        "  if tmp_df_9.iloc[i, 3] + pd.Timedelta(-1, 'h') == tmp_df_9.iloc[i - 1, 3] and tmp_df_9.iloc[i, 3] + pd.Timedelta(-2, 'h') == tmp_df_9.iloc[i - 2, 3]:\n",
        "    pass\n",
        "  else:\n",
        "    I.append(i)"
      ],
      "metadata": {
        "id": "uo06036pGxDG"
      },
      "execution_count": null,
      "outputs": []
    },
    {
      "cell_type": "code",
      "source": [
        "len(I)"
      ],
      "metadata": {
        "colab": {
          "base_uri": "https://localhost:8080/"
        },
        "id": "WFEt1q57CeZP",
        "outputId": "32d85d2c-d014-4274-a08e-0cf12ae254ca"
      },
      "execution_count": null,
      "outputs": [
        {
          "output_type": "execute_result",
          "data": {
            "text/plain": [
              "56"
            ]
          },
          "metadata": {},
          "execution_count": 137
        }
      ]
    },
    {
      "cell_type": "code",
      "source": [
        "for i in I:\n",
        "  print(tmp_df_9.iloc[i]['datetime'], tmp_df_9.iloc[i-1]['datetime'])"
      ],
      "metadata": {
        "id": "0kjfeohAPDLz"
      },
      "execution_count": null,
      "outputs": []
    },
    {
      "cell_type": "code",
      "source": [
        "X_df_9, y_df_9, IMERG_df_9 = building_data(df_9)\n",
        "X_df_10, y_df_10, IMERG_df_10 = building_data(df_10)"
      ],
      "metadata": {
        "id": "Hx425APlPZGL"
      },
      "execution_count": null,
      "outputs": []
    },
    {
      "cell_type": "code",
      "source": [
        "X_df_9.shape"
      ],
      "metadata": {
        "colab": {
          "base_uri": "https://localhost:8080/"
        },
        "id": "xIBCWwZWMo6d",
        "outputId": "0ed04664-9c29-4b00-cb19-a9af77541aaa"
      },
      "execution_count": null,
      "outputs": [
        {
          "output_type": "execute_result",
          "data": {
            "text/plain": [
              "(64966, 3, 18)"
            ]
          },
          "metadata": {},
          "execution_count": 140
        }
      ]
    },
    {
      "cell_type": "code",
      "source": [
        "(y_df_9 > 0).astype(np.int16)"
      ],
      "metadata": {
        "colab": {
          "base_uri": "https://localhost:8080/"
        },
        "id": "-r0VyTNvmgSI",
        "outputId": "2ff94cbd-0f1d-49fb-d66d-4ea805cb7269"
      },
      "execution_count": null,
      "outputs": [
        {
          "output_type": "execute_result",
          "data": {
            "text/plain": [
              "array([0, 0, 0, ..., 0, 0, 0], dtype=int16)"
            ]
          },
          "metadata": {},
          "execution_count": 141
        }
      ]
    },
    {
      "cell_type": "code",
      "source": [
        "len([y for y in y_df_9 if y == 0])"
      ],
      "metadata": {
        "colab": {
          "base_uri": "https://localhost:8080/"
        },
        "id": "NuGYuZmbQQp8",
        "outputId": "0703cabb-e4cd-4738-c477-ddc812724009"
      },
      "execution_count": null,
      "outputs": [
        {
          "output_type": "execute_result",
          "data": {
            "text/plain": [
              "59698"
            ]
          },
          "metadata": {},
          "execution_count": 142
        }
      ]
    },
    {
      "cell_type": "code",
      "source": [
        "X_df_9.shape"
      ],
      "metadata": {
        "colab": {
          "base_uri": "https://localhost:8080/"
        },
        "id": "cmJV1YiqQ-ah",
        "outputId": "059e4cc9-8932-4ade-e31c-52ee1ed9d3ba"
      },
      "execution_count": null,
      "outputs": [
        {
          "output_type": "execute_result",
          "data": {
            "text/plain": [
              "(64966, 3, 18)"
            ]
          },
          "metadata": {},
          "execution_count": 143
        }
      ]
    },
    {
      "cell_type": "code",
      "source": [
        "X_df_10.shape"
      ],
      "metadata": {
        "colab": {
          "base_uri": "https://localhost:8080/"
        },
        "id": "xeGJqDregR6F",
        "outputId": "da7499f1-68ac-4aaf-cf9e-c70dc8268153"
      },
      "execution_count": null,
      "outputs": [
        {
          "output_type": "execute_result",
          "data": {
            "text/plain": [
              "(56374, 3, 18)"
            ]
          },
          "metadata": {},
          "execution_count": 144
        }
      ]
    },
    {
      "cell_type": "code",
      "source": [
        "import keras\n",
        "from keras.models import Sequential\n",
        "from keras.layers import LSTM\n",
        "from keras.layers import Dense\n",
        "from keras.layers import BatchNormalization\n",
        "import tensorflow as tf\n",
        "from sklearn.metrics import classification_report\n",
        "import matplotlib.pyplot as plt\n",
        "import seaborn as sns\n",
        "from sklearn.metrics import roc_curve, auc, classification_report, roc_auc_score"
      ],
      "metadata": {
        "id": "QO1fuE1hZmb-"
      },
      "execution_count": null,
      "outputs": []
    },
    {
      "cell_type": "code",
      "source": [
        "def model_b():\n",
        "    model = Sequential()\n",
        "    model.add(LSTM(32, input_shape=(3, 18)))\n",
        "    model.add(BatchNormalization())\n",
        "    model.add(tf.keras.layers.Dense(16, activation='relu'))\n",
        "    model.add(tf.keras.layers.Dense(8, activation='relu'))\n",
        "    model.add(tf.keras.layers.Dense(1, activation= tf.keras.activations.sigmoid))\n",
        "    model.compile(optimizer='adam', loss=keras.losses.BinaryCrossentropy(), metrics=[tf.keras.metrics.AUC()])\n",
        "    print(model.summary()), model.output_shape\n",
        "    return model\n",
        "\n",
        "def model_r():\n",
        "    model = Sequential()\n",
        "    model.add(LSTM(32, input_shape=(3, 18)))\n",
        "    model.add(BatchNormalization())\n",
        "    model.add(tf.keras.layers.Dense(16, activation='relu'))\n",
        "    model.add(tf.keras.layers.Dense(8, activation='relu'))\n",
        "    model.add(tf.keras.layers.Dense(1))\n",
        "    model.compile(optimizer='adam', loss=keras.losses.MeanSquaredError(),metrics=[tf.keras.metrics.AUC()])\n",
        "    print(model.summary()), model.output_shape\n",
        "    return model"
      ],
      "metadata": {
        "id": "znMnyZ5iZfgp"
      },
      "execution_count": null,
      "outputs": []
    },
    {
      "cell_type": "code",
      "source": [
        "early_stopping_monitor = tf.keras.callbacks.EarlyStopping(\n",
        "    monitor='val_loss',\n",
        "    min_delta=0,\n",
        "    patience=10,\n",
        "    verbose=0,\n",
        "    mode='auto',\n",
        "    baseline=None,\n",
        "    restore_best_weights=True\n",
        ")"
      ],
      "metadata": {
        "id": "txw4d_tXaYIS"
      },
      "execution_count": null,
      "outputs": []
    },
    {
      "cell_type": "code",
      "source": [
        "def get_result(train_X, train_y, test_X, test_y, batch_size, epoch):\n",
        "    model_cls = model_b()\n",
        "    model_regr = model_r()\n",
        "    # training classifier model\n",
        "    # print(\"start classification training....\")\n",
        "    # model_cls.fit(train_X, (train_y > 0).astype(np.int16), validation_data=(test_X, (test_y > 0).astype(np.int16)), batch_size=batch_size, epochs=epoch, callbacks=[early_stopping_monitor])\n",
        "    # print(\"start classification testing....\")\n",
        "    # y_cls_pred = model_cls.predict(test_X)\n",
        "    # # y true is test_y > 0.5\n",
        "    # y_cls_true = (test_y > 0).astype(np.int16)\n",
        "    # a = (model_cls.predict(train_X) > 0.5).astype(np.int16)\n",
        "    # b = (model_cls.predict(test_X) > 0.5).astype(np.int16)\n",
        "    # print(len([tmp for tmp in a if tmp == 0]))\n",
        "    # print(len([tmp for tmp in b if tmp == 0]))\n",
        "    # # training regressor model\n",
        "    # train_r_y = np.array([train_y[i] for i in range(train_y.shape[0]) if a[i] == 1])\n",
        "    # train_r_X = np.array([train_X[i] for i in range(train_y.shape[0]) if  a[i] == 1])\n",
        "    \n",
        "    # test_r_X = np.array([test_X[i] for i in range(test_X.shape[0]) if b[i] == 1])\n",
        "    # test_r_y = np.array([test_y[i] for i in range(test_y.shape[0]) if b[i] == 1])\n",
        "\n",
        "    # print(test_r_X.shape, test_r_y.shape)\n",
        "    # print(train_r_X.shape, train_r_y.shape)\n",
        "    train_r_X = train_X\n",
        "    train_r_y = train_y\n",
        "    test_r_X = test_X\n",
        "    test_r_y = test_y\n",
        "    print(\"start regression training....\")\n",
        "    model_regr.fit(train_r_X, train_r_y, validation_data=(test_r_X, test_r_y), batch_size=batch_size, epochs=epoch, callbacks=[early_stopping_monitor])\n",
        "    print(\"start regression testing....\")\n",
        "    y_regr_pred = model_regr.predict(test_X)\n",
        "\n",
        "    # y_regr_pred = np.array([b[i] * y_regr_pred[i] for i in range(y_regr_pred.shape[0])])\n",
        "    # y_cls_pred return for probability form\n",
        "    # y_cls_true return for [0, 1] form\n",
        "    # y_regr_pred return for float form\n",
        "    # test_y present for y_regr_true\n",
        "    # return y_cls_pred, y_cls_true, y_regr_pred, test_y\n",
        "    return  y_regr_pred, test_y"
      ],
      "metadata": {
        "id": "G2lIt4fOc-j1"
      },
      "execution_count": null,
      "outputs": []
    },
    {
      "cell_type": "code",
      "source": [
        "# y_cls_pred, y_cls_true, y_regr_pred, y_regr_true = get_result(X_df_9, y_df_9, X_df_10, y_df_10, 32, 10)\n",
        "y_regr_pred, y_regr_true = get_result(X_df_9, y_df_9, X_df_10, y_df_10, 32, 10)"
      ],
      "metadata": {
        "colab": {
          "base_uri": "https://localhost:8080/"
        },
        "id": "i0_05D5XwDL1",
        "outputId": "b849d3ef-3ea6-4cf6-8483-6ed787443d10"
      },
      "execution_count": null,
      "outputs": [
        {
          "output_type": "stream",
          "name": "stdout",
          "text": [
            "Model: \"sequential_8\"\n",
            "_________________________________________________________________\n",
            " Layer (type)                Output Shape              Param #   \n",
            "=================================================================\n",
            " lstm_8 (LSTM)               (None, 32)                6528      \n",
            "                                                                 \n",
            " batch_normalization_8 (Batc  (None, 32)               128       \n",
            " hNormalization)                                                 \n",
            "                                                                 \n",
            " dense_24 (Dense)            (None, 16)                528       \n",
            "                                                                 \n",
            " dense_25 (Dense)            (None, 8)                 136       \n",
            "                                                                 \n",
            " dense_26 (Dense)            (None, 1)                 9         \n",
            "                                                                 \n",
            "=================================================================\n",
            "Total params: 7,329\n",
            "Trainable params: 7,265\n",
            "Non-trainable params: 64\n",
            "_________________________________________________________________\n",
            "None\n",
            "Model: \"sequential_9\"\n",
            "_________________________________________________________________\n",
            " Layer (type)                Output Shape              Param #   \n",
            "=================================================================\n",
            " lstm_9 (LSTM)               (None, 32)                6528      \n",
            "                                                                 \n",
            " batch_normalization_9 (Batc  (None, 32)               128       \n",
            " hNormalization)                                                 \n",
            "                                                                 \n",
            " dense_27 (Dense)            (None, 16)                528       \n",
            "                                                                 \n",
            " dense_28 (Dense)            (None, 8)                 136       \n",
            "                                                                 \n",
            " dense_29 (Dense)            (None, 1)                 9         \n",
            "                                                                 \n",
            "=================================================================\n",
            "Total params: 7,329\n",
            "Trainable params: 7,265\n",
            "Non-trainable params: 64\n",
            "_________________________________________________________________\n",
            "None\n",
            "start regression training....\n",
            "Epoch 1/10\n",
            "2031/2031 [==============================] - 26s 11ms/step - loss: 6.7310 - auc_6: 0.7020 - val_loss: 4.6599 - val_auc_6: 0.6037\n",
            "Epoch 2/10\n",
            "2031/2031 [==============================] - 17s 8ms/step - loss: 7.0331 - auc_6: 0.5479 - val_loss: 4.5675 - val_auc_6: 0.6169\n",
            "Epoch 3/10\n",
            "2031/2031 [==============================] - 17s 8ms/step - loss: 6.9746 - auc_6: 0.6284 - val_loss: 4.6159 - val_auc_6: 0.5040\n",
            "Epoch 4/10\n",
            "2031/2031 [==============================] - 17s 8ms/step - loss: 6.9562 - auc_6: 0.6778 - val_loss: 4.6051 - val_auc_6: 0.4732\n",
            "Epoch 5/10\n",
            "2031/2031 [==============================] - 16s 8ms/step - loss: 6.9196 - auc_6: 0.7007 - val_loss: 4.6930 - val_auc_6: 0.5299\n",
            "Epoch 6/10\n",
            "2031/2031 [==============================] - 16s 8ms/step - loss: 6.9008 - auc_6: 0.6821 - val_loss: 4.6694 - val_auc_6: 0.5671\n",
            "Epoch 7/10\n",
            "2031/2031 [==============================] - 17s 8ms/step - loss: 7.0079 - auc_6: 0.5751 - val_loss: 4.5677 - val_auc_6: 0.5654\n",
            "Epoch 8/10\n",
            "2031/2031 [==============================] - 17s 8ms/step - loss: 7.0335 - auc_6: 0.5248 - val_loss: 4.5607 - val_auc_6: 0.5743\n",
            "Epoch 9/10\n",
            "2031/2031 [==============================] - 15s 8ms/step - loss: 7.0324 - auc_6: 0.5256 - val_loss: 4.5833 - val_auc_6: 0.5405\n",
            "Epoch 10/10\n",
            "2031/2031 [==============================] - 15s 8ms/step - loss: 7.0272 - auc_6: 0.5506 - val_loss: 4.5750 - val_auc_6: 0.5009\n",
            "start regression testing....\n",
            "1762/1762 [==============================] - 8s 4ms/step\n"
          ]
        }
      ]
    },
    {
      "cell_type": "code",
      "source": [
        "print(classification_report((y_cls_pred > 0.5).astype(np.int16), y_cls_true))"
      ],
      "metadata": {
        "id": "6t1KRybXO0_F"
      },
      "execution_count": null,
      "outputs": []
    },
    {
      "cell_type": "code",
      "source": [
        "import os"
      ],
      "metadata": {
        "id": "z40AHEF5gPAq"
      },
      "execution_count": null,
      "outputs": []
    },
    {
      "cell_type": "markdown",
      "source": [
        "# Data feature engineering and .npz files saving for dataset 3"
      ],
      "metadata": {
        "id": "CmKpsSmQb0w1"
      }
    },
    {
      "cell_type": "code",
      "source": [
        "import pandas as pd"
      ],
      "metadata": {
        "id": "ysZMA0r97tz-"
      },
      "execution_count": null,
      "outputs": []
    },
    {
      "cell_type": "code",
      "source": [
        "root_dir = \"/content/myDrive/MyDrive/BTL VD KHMT/Data/Dataset3/\""
      ],
      "metadata": {
        "id": "bR6cuJo2rRtR"
      },
      "execution_count": null,
      "outputs": []
    },
    {
      "cell_type": "code",
      "source": [
        "import os"
      ],
      "metadata": {
        "id": "ERXCwP6zmo98"
      },
      "execution_count": null,
      "outputs": []
    },
    {
      "cell_type": "code",
      "source": [
        "def listdirs(rootdir):\n",
        "    for file in os.listdir(rootdir):\n",
        "        d = os.path.join(rootdir, file)\n",
        "        if os.path.isdir(d):\n",
        "            print(d)\n",
        "            listdirs(d)"
      ],
      "metadata": {
        "id": "ufchoNop5nuO"
      },
      "execution_count": null,
      "outputs": []
    },
    {
      "cell_type": "code",
      "source": [
        "listdirs(root_dir)"
      ],
      "metadata": {
        "id": "NpVqNg_g8Siz"
      },
      "execution_count": null,
      "outputs": []
    },
    {
      "cell_type": "code",
      "source": [
        "date_list = ['06', '07', '08', '09', '10', '15', '16', '17', '18', '19', '20']\n",
        "time_list = [i for i in range(0, 24)]"
      ],
      "metadata": {
        "id": "QCrTDZTED_bN"
      },
      "execution_count": null,
      "outputs": []
    },
    {
      "cell_type": "code",
      "source": [
        "datetime_list =  []\n",
        "for date in date_list:\n",
        "  rng = pd.date_range(start=date + '/10/2020', periods = 24, freq='h')\n",
        "  tmp_df = pd.DataFrame({'datetime':rng})\n",
        "  datetime_list.append(tmp_df)"
      ],
      "metadata": {
        "id": "w0-KSzMqFcFl",
        "colab": {
          "base_uri": "https://localhost:8080/"
        },
        "outputId": "a6a581e3-2c87-4e3b-f3ac-d13ec481447c"
      },
      "execution_count": null,
      "outputs": [
        {
          "output_type": "stream",
          "name": "stderr",
          "text": [
            "<ipython-input-9-f7fec6cd8798>:3: UserWarning: Parsing dates in DD/MM/YYYY format when dayfirst=False (the default) was specified. This may lead to inconsistently parsed dates! Specify a format to ensure consistent parsing.\n",
            "  rng = pd.date_range(start=date + '/10/2020', periods = 24, freq='h')\n",
            "<ipython-input-9-f7fec6cd8798>:3: UserWarning: Parsing dates in DD/MM/YYYY format when dayfirst=False (the default) was specified. This may lead to inconsistently parsed dates! Specify a format to ensure consistent parsing.\n",
            "  rng = pd.date_range(start=date + '/10/2020', periods = 24, freq='h')\n",
            "<ipython-input-9-f7fec6cd8798>:3: UserWarning: Parsing dates in DD/MM/YYYY format when dayfirst=False (the default) was specified. This may lead to inconsistently parsed dates! Specify a format to ensure consistent parsing.\n",
            "  rng = pd.date_range(start=date + '/10/2020', periods = 24, freq='h')\n",
            "<ipython-input-9-f7fec6cd8798>:3: UserWarning: Parsing dates in DD/MM/YYYY format when dayfirst=False (the default) was specified. This may lead to inconsistently parsed dates! Specify a format to ensure consistent parsing.\n",
            "  rng = pd.date_range(start=date + '/10/2020', periods = 24, freq='h')\n",
            "<ipython-input-9-f7fec6cd8798>:3: UserWarning: Parsing dates in DD/MM/YYYY format when dayfirst=False (the default) was specified. This may lead to inconsistently parsed dates! Specify a format to ensure consistent parsing.\n",
            "  rng = pd.date_range(start=date + '/10/2020', periods = 24, freq='h')\n",
            "<ipython-input-9-f7fec6cd8798>:3: UserWarning: Parsing dates in DD/MM/YYYY format when dayfirst=False (the default) was specified. This may lead to inconsistently parsed dates! Specify a format to ensure consistent parsing.\n",
            "  rng = pd.date_range(start=date + '/10/2020', periods = 24, freq='h')\n"
          ]
        }
      ]
    },
    {
      "cell_type": "code",
      "source": [
        "datetime_df = pd.concat(datetime_list, ignore_index=True)"
      ],
      "metadata": {
        "id": "jzWgL7u3OwEa"
      },
      "execution_count": null,
      "outputs": []
    },
    {
      "cell_type": "code",
      "source": [
        "datetime_df"
      ],
      "metadata": {
        "colab": {
          "base_uri": "https://localhost:8080/",
          "height": 424
        },
        "id": "BrwOFqa6PAAu",
        "outputId": "b865ce4a-128b-4e9f-8ff6-00e91fd79f9b"
      },
      "execution_count": null,
      "outputs": [
        {
          "output_type": "execute_result",
          "data": {
            "text/plain": [
              "               datetime\n",
              "0   2020-06-10 00:00:00\n",
              "1   2020-06-10 01:00:00\n",
              "2   2020-06-10 02:00:00\n",
              "3   2020-06-10 03:00:00\n",
              "4   2020-06-10 04:00:00\n",
              "..                  ...\n",
              "259 2020-10-20 19:00:00\n",
              "260 2020-10-20 20:00:00\n",
              "261 2020-10-20 21:00:00\n",
              "262 2020-10-20 22:00:00\n",
              "263 2020-10-20 23:00:00\n",
              "\n",
              "[264 rows x 1 columns]"
            ],
            "text/html": [
              "\n",
              "  <div id=\"df-f6f9a115-5049-46df-89e7-3c8d13cb0c61\">\n",
              "    <div class=\"colab-df-container\">\n",
              "      <div>\n",
              "<style scoped>\n",
              "    .dataframe tbody tr th:only-of-type {\n",
              "        vertical-align: middle;\n",
              "    }\n",
              "\n",
              "    .dataframe tbody tr th {\n",
              "        vertical-align: top;\n",
              "    }\n",
              "\n",
              "    .dataframe thead th {\n",
              "        text-align: right;\n",
              "    }\n",
              "</style>\n",
              "<table border=\"1\" class=\"dataframe\">\n",
              "  <thead>\n",
              "    <tr style=\"text-align: right;\">\n",
              "      <th></th>\n",
              "      <th>datetime</th>\n",
              "    </tr>\n",
              "  </thead>\n",
              "  <tbody>\n",
              "    <tr>\n",
              "      <th>0</th>\n",
              "      <td>2020-06-10 00:00:00</td>\n",
              "    </tr>\n",
              "    <tr>\n",
              "      <th>1</th>\n",
              "      <td>2020-06-10 01:00:00</td>\n",
              "    </tr>\n",
              "    <tr>\n",
              "      <th>2</th>\n",
              "      <td>2020-06-10 02:00:00</td>\n",
              "    </tr>\n",
              "    <tr>\n",
              "      <th>3</th>\n",
              "      <td>2020-06-10 03:00:00</td>\n",
              "    </tr>\n",
              "    <tr>\n",
              "      <th>4</th>\n",
              "      <td>2020-06-10 04:00:00</td>\n",
              "    </tr>\n",
              "    <tr>\n",
              "      <th>...</th>\n",
              "      <td>...</td>\n",
              "    </tr>\n",
              "    <tr>\n",
              "      <th>259</th>\n",
              "      <td>2020-10-20 19:00:00</td>\n",
              "    </tr>\n",
              "    <tr>\n",
              "      <th>260</th>\n",
              "      <td>2020-10-20 20:00:00</td>\n",
              "    </tr>\n",
              "    <tr>\n",
              "      <th>261</th>\n",
              "      <td>2020-10-20 21:00:00</td>\n",
              "    </tr>\n",
              "    <tr>\n",
              "      <th>262</th>\n",
              "      <td>2020-10-20 22:00:00</td>\n",
              "    </tr>\n",
              "    <tr>\n",
              "      <th>263</th>\n",
              "      <td>2020-10-20 23:00:00</td>\n",
              "    </tr>\n",
              "  </tbody>\n",
              "</table>\n",
              "<p>264 rows × 1 columns</p>\n",
              "</div>\n",
              "      <button class=\"colab-df-convert\" onclick=\"convertToInteractive('df-f6f9a115-5049-46df-89e7-3c8d13cb0c61')\"\n",
              "              title=\"Convert this dataframe to an interactive table.\"\n",
              "              style=\"display:none;\">\n",
              "        \n",
              "  <svg xmlns=\"http://www.w3.org/2000/svg\" height=\"24px\"viewBox=\"0 0 24 24\"\n",
              "       width=\"24px\">\n",
              "    <path d=\"M0 0h24v24H0V0z\" fill=\"none\"/>\n",
              "    <path d=\"M18.56 5.44l.94 2.06.94-2.06 2.06-.94-2.06-.94-.94-2.06-.94 2.06-2.06.94zm-11 1L8.5 8.5l.94-2.06 2.06-.94-2.06-.94L8.5 2.5l-.94 2.06-2.06.94zm10 10l.94 2.06.94-2.06 2.06-.94-2.06-.94-.94-2.06-.94 2.06-2.06.94z\"/><path d=\"M17.41 7.96l-1.37-1.37c-.4-.4-.92-.59-1.43-.59-.52 0-1.04.2-1.43.59L10.3 9.45l-7.72 7.72c-.78.78-.78 2.05 0 2.83L4 21.41c.39.39.9.59 1.41.59.51 0 1.02-.2 1.41-.59l7.78-7.78 2.81-2.81c.8-.78.8-2.07 0-2.86zM5.41 20L4 18.59l7.72-7.72 1.47 1.35L5.41 20z\"/>\n",
              "  </svg>\n",
              "      </button>\n",
              "      \n",
              "  <style>\n",
              "    .colab-df-container {\n",
              "      display:flex;\n",
              "      flex-wrap:wrap;\n",
              "      gap: 12px;\n",
              "    }\n",
              "\n",
              "    .colab-df-convert {\n",
              "      background-color: #E8F0FE;\n",
              "      border: none;\n",
              "      border-radius: 50%;\n",
              "      cursor: pointer;\n",
              "      display: none;\n",
              "      fill: #1967D2;\n",
              "      height: 32px;\n",
              "      padding: 0 0 0 0;\n",
              "      width: 32px;\n",
              "    }\n",
              "\n",
              "    .colab-df-convert:hover {\n",
              "      background-color: #E2EBFA;\n",
              "      box-shadow: 0px 1px 2px rgba(60, 64, 67, 0.3), 0px 1px 3px 1px rgba(60, 64, 67, 0.15);\n",
              "      fill: #174EA6;\n",
              "    }\n",
              "\n",
              "    [theme=dark] .colab-df-convert {\n",
              "      background-color: #3B4455;\n",
              "      fill: #D2E3FC;\n",
              "    }\n",
              "\n",
              "    [theme=dark] .colab-df-convert:hover {\n",
              "      background-color: #434B5C;\n",
              "      box-shadow: 0px 1px 3px 1px rgba(0, 0, 0, 0.15);\n",
              "      filter: drop-shadow(0px 1px 2px rgba(0, 0, 0, 0.3));\n",
              "      fill: #FFFFFF;\n",
              "    }\n",
              "  </style>\n",
              "\n",
              "      <script>\n",
              "        const buttonEl =\n",
              "          document.querySelector('#df-f6f9a115-5049-46df-89e7-3c8d13cb0c61 button.colab-df-convert');\n",
              "        buttonEl.style.display =\n",
              "          google.colab.kernel.accessAllowed ? 'block' : 'none';\n",
              "\n",
              "        async function convertToInteractive(key) {\n",
              "          const element = document.querySelector('#df-f6f9a115-5049-46df-89e7-3c8d13cb0c61');\n",
              "          const dataTable =\n",
              "            await google.colab.kernel.invokeFunction('convertToInteractive',\n",
              "                                                     [key], {});\n",
              "          if (!dataTable) return;\n",
              "\n",
              "          const docLinkHtml = 'Like what you see? Visit the ' +\n",
              "            '<a target=\"_blank\" href=https://colab.research.google.com/notebooks/data_table.ipynb>data table notebook</a>'\n",
              "            + ' to learn more about interactive tables.';\n",
              "          element.innerHTML = '';\n",
              "          dataTable['output_type'] = 'display_data';\n",
              "          await google.colab.output.renderOutput(dataTable, element);\n",
              "          const docLink = document.createElement('div');\n",
              "          docLink.innerHTML = docLinkHtml;\n",
              "          element.appendChild(docLink);\n",
              "        }\n",
              "      </script>\n",
              "    </div>\n",
              "  </div>\n",
              "  "
            ]
          },
          "metadata": {},
          "execution_count": 11
        }
      ]
    },
    {
      "cell_type": "code",
      "source": [
        "def convert(num):\n",
        "  if num < 10:\n",
        "    return \"0\" + str(num)\n",
        "  else:\n",
        "    return str(num)"
      ],
      "metadata": {
        "id": "d1RmRJNpRhjB"
      },
      "execution_count": null,
      "outputs": []
    },
    {
      "cell_type": "code",
      "source": [
        "dataset_3 = {}\n",
        "# dataset_3[\"CAPE\"] = []\n",
        "# dataset_3[\"ISOR\"]= []\n",
        "# dataset_3[\"TCC\" ]= []\n",
        "# dataset_3[\"TCW\"] = []\n",
        "# dataset_3[\"TCWV\"] = []\n",
        "# dataset_3[\"B09B\"] = []\n",
        "# dataset_3[\"B10B\"] = []\n",
        "# dataset_3[\"B11B\"] = []\n",
        "# dataset_3[\"B12B\"] = []\n",
        "# dataset_3[\"B14B\"] = []\n",
        "# dataset_3[\"B16B\"] = []\n",
        "# dataset_3[\"I2B\"] = []\n",
        "# dataset_3[\"I4B\"] = []\n",
        "# dataset_3[\"IRB\"] = []\n",
        "# dataset_3[\"WVB\"] = []\n",
        "dataset_3[\"radar\"] = [] #1\n",
        "dataset_3['era'] = [] #5\n",
        "dataset_3['visible'] = [] #5\n",
        "dataset_3['ni'] = [] #2\n",
        "dataset_3['wv'] = [] #1\n",
        "dataset_3['ir'] = [] #1\n",
        "dataset_3['btd'] = [] #2\n",
        "dataset_3['raw_radar'] = []\n",
        "# dataset_3[\"time\"] = []"
      ],
      "metadata": {
        "id": "vespdXIlOMdw"
      },
      "execution_count": null,
      "outputs": []
    },
    {
      "cell_type": "code",
      "source": [
        "root_dir"
      ],
      "metadata": {
        "colab": {
          "base_uri": "https://localhost:8080/",
          "height": 36
        },
        "id": "2NYQmeQ8a79z",
        "outputId": "13091423-6925-4a5f-bf7b-558afddde153"
      },
      "execution_count": null,
      "outputs": [
        {
          "output_type": "execute_result",
          "data": {
            "text/plain": [
              "'/content/myDrive/MyDrive/BTL VD KHMT/Data/Dataset3/'"
            ],
            "application/vnd.google.colaboratory.intrinsic+json": {
              "type": "string"
            }
          },
          "metadata": {},
          "execution_count": 28
        }
      ]
    },
    {
      "cell_type": "code",
      "source": [
        "from PIL import Image"
      ],
      "metadata": {
        "id": "MDk1uUsnbwUQ"
      },
      "execution_count": null,
      "outputs": []
    },
    {
      "cell_type": "code",
      "source": [
        "import numpy as np"
      ],
      "metadata": {
        "id": "kN5DKsIUl6Fs"
      },
      "execution_count": null,
      "outputs": []
    },
    {
      "cell_type": "code",
      "source": [
        "save_np_dir = \"/content/myDrive/MyDrive/BTL VD KHMT/Data/Dataset3/utilized_data/\""
      ],
      "metadata": {
        "id": "Q0uG6gKuqa7V"
      },
      "execution_count": null,
      "outputs": []
    },
    {
      "cell_type": "code",
      "source": [
        "date_list"
      ],
      "metadata": {
        "colab": {
          "base_uri": "https://localhost:8080/"
        },
        "id": "6xydoQWzq_iJ",
        "outputId": "37c8a10e-ff14-4ced-c5b1-bf4d06b7b6cb"
      },
      "execution_count": null,
      "outputs": [
        {
          "output_type": "execute_result",
          "data": {
            "text/plain": [
              "['06', '07', '08', '09', '10', '15', '16', '17', '18', '19', '20']"
            ]
          },
          "metadata": {},
          "execution_count": 32
        }
      ]
    },
    {
      "cell_type": "code",
      "source": [
        "for date in date_list:\n",
        "  for i in range(0, 24):\n",
        "    hour = convert(i)\n",
        "    # time.append[pd.Timestamp('2020-' + date + '-10 ' + hour + ':00:00')]\n",
        "    CAPE_path = root_dir + \"CAPE/2020/10/\" + date + \"/\" + hour + \"/CAPE_202010\" + date + \"_\" + hour +\".tif\"\n",
        "    ISOR_path = root_dir + \"ISOR/2020/10/\" + date + \"/\" + hour + \"/ISOR_202010\" + date + \"_\" + hour +\".tif\"\n",
        "    TCC_path = root_dir + \"TCC/2020/10/\" + date + \"/\" + hour + \"/TCC_202010\" + date + \"_\" + hour +\".tif\"\n",
        "    TCW_path = root_dir + \"TCW/2020/10/\" + date + \"/\" + hour + \"/TCW_202010\" + date + \"_\" + hour +\".tif\"\n",
        "    TCWV_path = root_dir + \"TCWV/2020/10/\" + date + \"/\" + hour + \"/TCWV_202010\" + date + \"_\" + hour +\".tif\"\n",
        "    B09B_path = root_dir + \"himawari/2020/10/\" + date + \"/\" + hour + \"/hima_202010\" + date + \"_B09B_\"+ hour +\".tif\"\n",
        "    B10B_path = root_dir + \"himawari/2020/10/\" + date + \"/\" + hour + \"/hima_202010\" + date + \"_B10B_\"+ hour +\".tif\"\n",
        "    B11B_path = root_dir + \"himawari/2020/10/\" + date + \"/\" + hour + \"/hima_202010\" + date + \"_B11B_\"+ hour +\".tif\"\n",
        "    B12B_path = root_dir + \"himawari/2020/10/\" + date + \"/\" + hour + \"/hima_202010\" + date + \"_B12B_\"+ hour +\".tif\"\n",
        "    B14B_path = root_dir + \"himawari/2020/10/\" + date + \"/\" + hour + \"/hima_202010\" + date + \"_B14B_\"+ hour +\".tif\"\n",
        "    B16B_path = root_dir + \"himawari/2020/10/\" + date + \"/\" + hour + \"/hima_202010\" + date + \"_B16B_\"+ hour +\".tif\"\n",
        "    I2B_path = root_dir + \"himawari/2020/10/\" + date + \"/\" + hour + \"/hima_202010\" + date + \"_I2B_\"+ hour +\".tif\"\n",
        "    I4B_path = root_dir + \"himawari/2020/10/\" + date + \"/\" + hour + \"/hima_202010\" + date + \"_I4B_\"+ hour +\".tif\"\n",
        "    IRB_path = root_dir + \"himawari/2020/10/\" + date + \"/\" + hour + \"/hima_202010\" + date + \"_IRB_\"+ hour +\".tif\"\n",
        "    WVB_path = root_dir + \"himawari/2020/10/\" + date + \"/\" + hour + \"/hima_202010\" + date + \"_WVB_\"+ hour +\".tif\"\n",
        "    radar_path = root_dir + \"radar/2020/10/\" + date + \"/\" + hour + \"/radar_202010\" + date + \"_\" + hour +\".tif\"\n",
        "\n",
        "\n",
        "    if os.path.exists(CAPE_path) and os.path.exists(ISOR_path) and os.path.exists(TCC_path) and os.path.exists(TCW_path) and os.path.exists(TCWV_path):\n",
        "      CAPE_img = np.array(Image.open(CAPE_path))\n",
        "      ISOR_img = np.array(Image.open(ISOR_path))\n",
        "      TCC_img = np.array(Image.open(TCC_path))\n",
        "      TCW_img = np.array(Image.open(TCW_path))\n",
        "      TCWV_img = np.array(Image.open(TCWV_path))\n",
        "      img = np.array([CAPE_img, ISOR_img, TCC_img, TCW_img, TCWV_img])\n",
        "      dataset_3[\"era\"].append(img)\n",
        "      # np.save(save_np_dir + \"era/202010\" + date + \"_\" + hour, img)\n",
        "\n",
        "    else:\n",
        "      print(date, i)\n",
        "      dataset_3[\"era\"].append(np.nan)\n",
        "    # else:\n",
        "    #   tmp_np = np.empty((512, 512))\n",
        "    #   tmp_np[:] = np.nan\n",
        "    #   CAPE.append(tmp_np)\n",
        "\n",
        "\n",
        "    if os.path.exists(B09B_path) and os.path.exists(B10B_path) and os.path.exists(B11B_path) and os.path.exists(B12B_path) and os.path.exists(B14B_path):\n",
        "      B09B_img = np.array(Image.open(B09B_path))\n",
        "      B10B_img = np.array(Image.open(B10B_path))\n",
        "      B11B_img = np.array(Image.open(B11B_path))\n",
        "      B12B_img = np.array(Image.open(TCW_path))\n",
        "      B14B_img = np.array(Image.open(B14B_path))\n",
        "      img = np.array([B09B_img, B10B_img, B11B_img, B12B_img, B14B_img])\n",
        "      dataset_3[\"visible\"].append(img)\n",
        "      # np.save(save_np_dir + \"visible/202010\" + date + \"_\" + hour, img)\n",
        "    else:\n",
        "      print(date, i)\n",
        "      dataset_3[\"visible\"].append(np.nan)\n",
        "    # else:\n",
        "    #   tmp_np = np.empty((512, 512))\n",
        "    #   tmp_np[:] = np.nan\n",
        "    #   CAPE.append(tmp_np)\n",
        "\n",
        "    if os.path.exists(I4B_path) and os.path.exists(I2B_path):\n",
        "      I4B_img = np.array(Image.open(I4B_path))\n",
        "      I2B_img = np.array(Image.open(I2B_path))\n",
        "      img = np.array([I2B_img, I4B_img])\n",
        "      dataset_3[\"ni\"].append(img)\n",
        "      # np.save(save_np_dir + \"ni/202010\" + date + \"_\" + hour, img)\n",
        "    else:\n",
        "      print(date, i)\n",
        "      dataset_3[\"ni\"].append(np.nan)\n",
        "  #  else:\n",
        "  #     tmp_np = np.empty((512, 512))\n",
        "  #     tmp_np[:] = np.nan\n",
        "  #     ISOR.append(tmp_np)\n",
        "\n",
        "    if os.path.exists(WVB_path):\n",
        "      img = np.array(Image.open(WVB_path))\n",
        "      img = np.expand_dims(img, axis=0)\n",
        "      dataset_3[\"wv\"].append(img)\n",
        "      # np.save(save_np_dir + \"wv/202010\" + date + \"_\" + hour, img)\n",
        "    else:\n",
        "      print(date, i)\n",
        "      dataset_3[\"wv\"].append(np.nan)\n",
        "    # else:\n",
        "    #   tmp_np = np.empty((512, 512))\n",
        "    #   tmp_np[:] = np.nan\n",
        "    #   TCC.append(tmp_np)\n",
        "    \n",
        "    if os.path.exists(IRB_path):\n",
        "      img = np.array(Image.open(IRB_path))\n",
        "      img = np.expand_dims(img, axis=0)\n",
        "      dataset_3[\"ir\"].append(img)\n",
        "      # np.save(save_np_dir + \"ir/202010\" + date + \"_\" + hour, img)\n",
        "    else:\n",
        "      print(date, i)\n",
        "      dataset_3[\"ir\"].append(np.nan)\n",
        "    # else:\n",
        "    #   tmp_np = np.empty((512, 512))\n",
        "    #   tmp_np[:] = np.nan\n",
        "    #   TCW.append(tmp_np)\n",
        "\n",
        "    if os.path.exists(WVB_path) and os.path.exists(IRB_path) and os.path.exists(B16B_path):\n",
        "\n",
        "      img_1 = abs(np.array(Image.open(WVB_path)) - np.array(Image.open(IRB_path)))\n",
        "      img_2 = abs(np.array(Image.open(IRB_path)) - np.array(Image.open(B16B_path)))\n",
        "      img = np.array([img_1, img_2])\n",
        "      # np.save(save_np_dir + \"btd/202010\" + date + \"_\" + hour, img)\n",
        "      dataset_3[\"btd\"].append(img)\n",
        "    else:\n",
        "      print(date, i)\n",
        "      dataset_3[\"btd\"].append(np.nan)\n",
        "      \n",
        "    # else:\n",
        "    #   tmp_np = np.empty((512, 512))\n",
        "    #   tmp_np[:] = np.nan\n",
        "    #   TCWV.append(tmp_np)\n",
        "\n",
        "    # if os.path.exists(B09B_path):\n",
        "    #   img = np.array(Image.open(B09B_path))\n",
        "    #   dataset_3['B09B'].append(np.array(img))\n",
        "    # else:\n",
        "    #   print(date, i)\n",
        "    #   dataset_3['B09B'].append(np.nan)\n",
        "    # # else:\n",
        "    # #   tmp_np = np.empty((512, 512))\n",
        "    # #   tmp_np[:] = np.nan\n",
        "    # #   B09B.append(tmp_np)\n",
        "\n",
        "    \n",
        "    # if os.path.exists(B10B_path):\n",
        "    #   img = np.array(Image.open(B10B_path))\n",
        "    #   dataset_3['B10B'].append(np.array(img))\n",
        "    # else:\n",
        "    #   print(date, i)\n",
        "    #   dataset_3['B10B'].append(np.nan)\n",
        "    # # else:\n",
        "    # #   tmp_np = np.empty((512, 512))\n",
        "    # #   tmp_np[:] = np.nan\n",
        "    # #   B10B.append(tmp_np)\n",
        "\n",
        "   \n",
        "    # if os.path.exists(B11B_path):\n",
        "    #   img = np.array(Image.open(B11B_path))\n",
        "    #   dataset_3['B11B'].append(np.array(img))\n",
        "    # else:\n",
        "    #   print(date, i)\n",
        "    #   dataset_3['B11B'].append(np.nanmin)\n",
        "    # # else:\n",
        "    # #   tmp_np = np.empty((512, 512))\n",
        "    # #   tmp_np[:] = np.nan\n",
        "    # #   B11B.append(tmp_np)\n",
        "    \n",
        "\n",
        "    # if os.path.exists(B12B_path):\n",
        "    #   img = np.array(Image.open(B12B_path))\n",
        "    #   dataset_3['B12B'].append(np.array(img))\n",
        "    # else:\n",
        "    #   print(date, i)\n",
        "    #   dataset_3['B12B'].append(np.nan)\n",
        "    # # else:\n",
        "    # #   tmp_np = np.empty((512, 512))\n",
        "    # #   tmp_np[:] = np.nan\n",
        "    # #   B12B.append(tmp_np)\n",
        "    \n",
        "    \n",
        "    # if os.path.exists(B14B_path):\n",
        "    #   img = np.array(Image.open(B14B_path))\n",
        "    #   dataset_3['B14B'].append(np.array(img))\n",
        "    # else:\n",
        "    #   print(date, i)\n",
        "    #   dataset_3['B14B'].append(np.nan)\n",
        "    # # else:\n",
        "    # #   tmp_np = np.empty((512, 512))\n",
        "    # #   tmp_np[:] = np.nan\n",
        "    # #   B14B.append(tmp_np)\n",
        "\n",
        "    # if os.path.exists(B16B_path):\n",
        "    #   img = np.array(Image.open(B16B_path))\n",
        "    #   dataset_3['B16B'].append(np.array(img))\n",
        "    # else:\n",
        "    #   print(date, i)\n",
        "    #   dataset_3['B16B'].append(np.nan)\n",
        "    # # else:\n",
        "    # #   tmp_np = np.empty((512, 512))\n",
        "    # #   tmp_np[:] = np.nan\n",
        "    # #   B16B.append(tmp_np)\n",
        "\n",
        "    # if os.path.exists(I2B_path):\n",
        "    #   img = np.array(Image.open(I2B_path))\n",
        "    #   dataset_3['I2B'].append(np.array(img))\n",
        "    # else:\n",
        "    #   print(date, i)\n",
        "    #   dataset_3['I2B'].append(np.nan)\n",
        "    # # else:\n",
        "    # #   tmp_np = np.empty((512, 512))\n",
        "    # #   tmp_np[:] = np.nan\n",
        "    # #   I2B.append(tmp_np)\n",
        "    \n",
        "   \n",
        "    # if os.path.exists(I4B_path):\n",
        "    #   img = np.array(Image.open(I4B_path))\n",
        "    #   dataset_3['I4B'].append(np.array(img))\n",
        "    # else:\n",
        "    #   print(date, i)\n",
        "    #   dataset_3['I4B'].append(np.nan)\n",
        "    # # else:\n",
        "    # #   tmp_np = np.empty((512, 512))\n",
        "    # #   tmp_np[:] = np.nan\n",
        "    # #   I4B.append(tmp_np)\n",
        "    \n",
        "    # if os.path.exists(IRB_path):\n",
        "    #   img = np.array(Image.open(IRB_path))\n",
        "    #   dataset_3['IRB'].append(np.array(img))\n",
        "    # else:\n",
        "    #   print(date, i)\n",
        "    #   dataset_3['IRB'].append(np.nan)\n",
        "    # # else:\n",
        "    # #   tmp_np = np.empty((512, 512))\n",
        "    # #   tmp_np[:] = np.nan\n",
        "    # #   IGB.append(tmp_np)\n",
        "\n",
        "    # if os.path.exists(WVB_path):\n",
        "    #   img = np.array(Image.open(WVB_path))\n",
        "    #   dataset_3['WVB'].append(np.array(img))\n",
        "    # else:\n",
        "    #   print(date, i)\n",
        "    #   dataset_3['WVB'].append(np.nan)\n",
        "    # # else:\n",
        "    # #   tmp_np = np.empty((512, 512))\n",
        "    # #   tmp_np[:] = np.nan\n",
        "    # #   WVB.append(tmp_np)\n",
        "\n",
        "    if os.path.exists(radar_path):\n",
        "      img = np.array(Image.open(radar_path))\n",
        "      dataset_3['raw_radar'].append(np.array(img))\n",
        "      img[img < 0] = 0\n",
        "      dataset_3['radar'].append(np.array(img))\n",
        "      # np.save(save_np_dir + \"radar/202010\" + date + \"_\" + hour, img)\n",
        "    else:\n",
        "      print(date, i)\n",
        "      dataset_3['radar'].append(np.nan)\n",
        "      dataset_3['raw_radar'].append(np.nan)\n",
        "    # else:\n",
        "    #   tmp_np = np.empty((512, 512))\n",
        "    #   tmp_np[:] = np.nan\n",
        "    #   radar.append(tmp_np)\n",
        "    "
      ],
      "metadata": {
        "colab": {
          "base_uri": "https://localhost:8080/"
        },
        "id": "YoNauEYTWv8G",
        "outputId": "486fd35e-69b2-4c0e-bded-c877df1f6053"
      },
      "execution_count": null,
      "outputs": [
        {
          "output_type": "stream",
          "name": "stdout",
          "text": [
            "20 8\n",
            "20 8\n",
            "20 8\n",
            "20 8\n",
            "20 8\n",
            "20 8\n"
          ]
        }
      ]
    },
    {
      "cell_type": "code",
      "source": [
        "for k, v in dataset_3.items():\n",
        "  print(k, len(v))"
      ],
      "metadata": {
        "colab": {
          "base_uri": "https://localhost:8080/"
        },
        "id": "rPmRFBDlkJ_F",
        "outputId": "4bf7a736-046a-43bf-f265-631cdda4084d"
      },
      "execution_count": null,
      "outputs": [
        {
          "output_type": "stream",
          "name": "stdout",
          "text": [
            "radar 264\n",
            "era 264\n",
            "visible 264\n",
            "ni 264\n",
            "wv 264\n",
            "ir 264\n",
            "btd 264\n",
            "raw_radar 264\n"
          ]
        }
      ]
    },
    {
      "cell_type": "code",
      "source": [
        "for k, v in dataset_3.items():\n",
        "  datetime_df[k] = v"
      ],
      "metadata": {
        "id": "QZAimYtFkv8C"
      },
      "execution_count": null,
      "outputs": []
    },
    {
      "cell_type": "code",
      "source": [
        "df_3_10_2020 = datetime_df.dropna().sort_values(by=['datetime']).drop(columns=['datetime'])"
      ],
      "metadata": {
        "id": "NK_N0lhjneIf"
      },
      "execution_count": null,
      "outputs": []
    },
    {
      "cell_type": "code",
      "source": [
        "len(df_3_10_2020['radar'])"
      ],
      "metadata": {
        "colab": {
          "base_uri": "https://localhost:8080/"
        },
        "id": "MQqchwD68ICp",
        "outputId": "e8fe67c5-4397-4cf9-e417-3599d625e4f6"
      },
      "execution_count": null,
      "outputs": [
        {
          "output_type": "execute_result",
          "data": {
            "text/plain": [
              "263"
            ]
          },
          "metadata": {},
          "execution_count": 39
        }
      ]
    },
    {
      "cell_type": "code",
      "source": [],
      "metadata": {
        "id": "hnRpmbT1Jo4-"
      },
      "execution_count": null,
      "outputs": []
    },
    {
      "cell_type": "code",
      "source": [
        "wv_img_array = df_3_10_2020['wv']"
      ],
      "metadata": {
        "id": "3KmrHeY28sQB"
      },
      "execution_count": null,
      "outputs": []
    },
    {
      "cell_type": "code",
      "source": [
        "np.savez(\"/content/myDrive/MyDrive/BTL VD KHMT/Data/Dataset3/utilized_data/wv/wv.npz\", *wv_img_array)"
      ],
      "metadata": {
        "id": "xj1Mi4r48PS5"
      },
      "execution_count": null,
      "outputs": []
    },
    {
      "cell_type": "code",
      "source": [
        "btd_img_array = df_3_10_2020['btd']\n",
        "np.savez(\"/content/myDrive/MyDrive/BTL VD KHMT/Data/Dataset3/utilized_data/btd/btd.npz\", *btd_img_array)"
      ],
      "metadata": {
        "id": "8dkFM9GgUnWj"
      },
      "execution_count": null,
      "outputs": []
    },
    {
      "cell_type": "code",
      "source": [
        "ir_img_array = df_3_10_2020['ir']\n",
        "np.savez(\"/content/myDrive/MyDrive/BTL VD KHMT/Data/Dataset3/utilized_data/ir/ir.npz\", *ir_img_array)"
      ],
      "metadata": {
        "id": "w4ypE_xRUpRi"
      },
      "execution_count": null,
      "outputs": []
    },
    {
      "cell_type": "code",
      "source": [
        "ni_img_array = df_3_10_2020['ni']\n",
        "np.savez(\"/content/myDrive/MyDrive/BTL VD KHMT/Data/Dataset3/utilized_data/ni/ni.npz\", *ni_img_array)"
      ],
      "metadata": {
        "id": "jvgC_atWUqZD"
      },
      "execution_count": null,
      "outputs": []
    },
    {
      "cell_type": "code",
      "source": [
        "radar_img_array = df_3_10_2020['radar']\n",
        "np.savez(\"/content/myDrive/MyDrive/BTL VD KHMT/Data/Dataset3/utilized_data/radar/radar.npz\", *radar_img_array)"
      ],
      "metadata": {
        "id": "pFx77xxIUq-6"
      },
      "execution_count": null,
      "outputs": []
    },
    {
      "cell_type": "code",
      "source": [
        "visible_img_array = df_3_10_2020['visible']\n",
        "np.savez(\"/content/myDrive/MyDrive/BTL VD KHMT/Data/Dataset3/utilized_data/visible/visible.npz\", *visible_img_array)"
      ],
      "metadata": {
        "id": "7T333XtHUrbK"
      },
      "execution_count": null,
      "outputs": []
    },
    {
      "cell_type": "code",
      "source": [
        "era_img_array = df_3_10_2020['era']\n",
        "np.savez(\"/content/myDrive/MyDrive/BTL VD KHMT/Data/Dataset3/utilized_data/era/era.npz\", *era_img_array)"
      ],
      "metadata": {
        "id": "M-dhk5cCUtJa"
      },
      "execution_count": null,
      "outputs": []
    },
    {
      "cell_type": "code",
      "source": [
        "raw_radar_img_array = df_3_10_2020['raw_radar']\n",
        "np.savez(\"/content/myDrive/MyDrive/BTL VD KHMT/Data/Dataset3/utilized_data/raw_radar/raw_radar.npz\", *raw_radar_img_array)"
      ],
      "metadata": {
        "id": "5CkzK-HSi70H"
      },
      "execution_count": null,
      "outputs": []
    },
    {
      "cell_type": "markdown",
      "source": [
        "# Load .npz file"
      ],
      "metadata": {
        "id": "kyMqun7vDfMy"
      }
    },
    {
      "cell_type": "code",
      "source": [
        "dataset_3 = {}\n",
        "# dataset_3[\"CAPE\"] = []\n",
        "# dataset_3[\"ISOR\"]= []\n",
        "# dataset_3[\"TCC\" ]= []\n",
        "# dataset_3[\"TCW\"] = []\n",
        "# dataset_3[\"TCWV\"] = []\n",
        "# dataset_3[\"B09B\"] = []\n",
        "# dataset_3[\"B10B\"] = []\n",
        "# dataset_3[\"B11B\"] = []\n",
        "# dataset_3[\"B12B\"] = []\n",
        "# dataset_3[\"B14B\"] = []\n",
        "# dataset_3[\"B16B\"] = []\n",
        "# dataset_3[\"I2B\"] = []\n",
        "# dataset_3[\"I4B\"] = []\n",
        "# dataset_3[\"IRB\"] = []\n",
        "# dataset_3[\"WVB\"] = []\n",
        "dataset_3[\"radar\"] = [] #1\n",
        "dataset_3[\"raw_radar\"] = [] #1\n",
        "dataset_3['era'] = [] #5\n",
        "dataset_3['visible'] = [] #5\n",
        "dataset_3['ni'] = [] #2\n",
        "dataset_3['wv'] = [] #1\n",
        "dataset_3['ir'] = [] #1\n",
        "dataset_3['btd'] = [] #2\n",
        "# dataset_3[\"time\"] = []"
      ],
      "metadata": {
        "id": "_1KEv59xDZ96"
      },
      "execution_count": null,
      "outputs": []
    },
    {
      "cell_type": "code",
      "source": [
        "valid_dataset_3 = {}\n",
        "# valid_dataset_3[\"CAPE\"] = []\n",
        "# valid_dataset_3[\"ISOR\"]= []\n",
        "# valid_dataset_3[\"TCC\" ]= []\n",
        "# valid_dataset_3[\"TCW\"] = []\n",
        "# valid_dataset_3[\"TCWV\"] = []\n",
        "# valid_dataset_3[\"B09B\"] = []\n",
        "# valid_dataset_3[\"B10B\"] = []\n",
        "# valid_dataset_3[\"B11B\"] = []\n",
        "# valid_dataset_3[\"B12B\"] = []\n",
        "# valid_dataset_3[\"B14B\"] = []\n",
        "# valid_dataset_3[\"B16B\"] = []\n",
        "# valid_dataset_3[\"I2B\"] = []\n",
        "# valid_dataset_3[\"I4B\"] = []\n",
        "# valid_dataset_3[\"IRB\"] = []\n",
        "# valid_dataset_3[\"WVB\"] = []\n",
        "valid_dataset_3[\"radar\"] = [] #1\n",
        "valid_dataset_3[\"raw_radar\"] = []\n",
        "valid_dataset_3['era'] = [] #5\n",
        "valid_dataset_3['visible'] = [] #5\n",
        "valid_dataset_3['ni'] = [] #2\n",
        "valid_dataset_3['wv'] = [] #1\n",
        "valid_dataset_3['ir'] = [] #1\n",
        "valid_dataset_3['btd'] = [] #2\n",
        "# valid_dataset_3[\"time\"] = []"
      ],
      "metadata": {
        "id": "Rf9lELS4XZam"
      },
      "execution_count": null,
      "outputs": []
    },
    {
      "cell_type": "code",
      "source": [
        "save_np_dir = \"/content/myDrive/MyDrive/BTL VD KHMT/Data/Dataset3/utilized_data/\""
      ],
      "metadata": {
        "id": "P7NSclhvBVA3"
      },
      "execution_count": null,
      "outputs": []
    },
    {
      "cell_type": "code",
      "source": [
        "dataset_3.keys()"
      ],
      "metadata": {
        "colab": {
          "base_uri": "https://localhost:8080/"
        },
        "id": "CumOpdCuCVeW",
        "outputId": "0a0f05f8-ee2e-403a-930a-eba5d634dea7"
      },
      "execution_count": null,
      "outputs": [
        {
          "output_type": "execute_result",
          "data": {
            "text/plain": [
              "dict_keys(['radar', 'raw_radar', 'era', 'visible', 'ni', 'wv', 'ir', 'btd'])"
            ]
          },
          "metadata": {},
          "execution_count": 6
        }
      ]
    },
    {
      "cell_type": "code",
      "source": [
        "import numpy as np"
      ],
      "metadata": {
        "id": "EvHG3OWgDvHj"
      },
      "execution_count": null,
      "outputs": []
    },
    {
      "cell_type": "code",
      "source": [
        "total_size = 263\n",
        "train_size = 216\n",
        "train_size"
      ],
      "metadata": {
        "colab": {
          "base_uri": "https://localhost:8080/"
        },
        "id": "jO52p0ByXg6r",
        "outputId": "294c23e0-7517-422e-be17-0c4c5e1408ee"
      },
      "execution_count": null,
      "outputs": [
        {
          "output_type": "execute_result",
          "data": {
            "text/plain": [
              "216"
            ]
          },
          "metadata": {},
          "execution_count": 8
        }
      ]
    },
    {
      "cell_type": "code",
      "source": [
        "for k in dataset_3.keys():\n",
        "  npzfile = np.load(save_np_dir + k + \"/\" + k + \".npz\", allow_pickle=True)\n",
        "  array_names = npzfile.files\n",
        "\n",
        "  # Loop over the array names and append the corresponding array to the list\n",
        "  for array_name in array_names[:train_size]:\n",
        "    dataset_3[k].append(npzfile[array_name])\n",
        "  for array_name in array_names[train_size:]:\n",
        "    valid_dataset_3[k].append(npzfile[array_name])\n",
        "  print(len(dataset_3[k]))\n"
      ],
      "metadata": {
        "colab": {
          "base_uri": "https://localhost:8080/"
        },
        "id": "--h9p3Mm84Bi",
        "outputId": "5c54b3b3-834e-4b9c-855b-b5e978a00b8c"
      },
      "execution_count": null,
      "outputs": [
        {
          "output_type": "stream",
          "name": "stdout",
          "text": [
            "216\n",
            "216\n",
            "216\n",
            "216\n",
            "216\n",
            "216\n",
            "216\n",
            "216\n"
          ]
        }
      ]
    },
    {
      "cell_type": "code",
      "source": [
        "len(valid_dataset_3['btd'])"
      ],
      "metadata": {
        "colab": {
          "base_uri": "https://localhost:8080/"
        },
        "id": "k8LXUcAVYEwi",
        "outputId": "34afcf7b-7e9c-42ca-e2d1-21f16f92b45b"
      },
      "execution_count": null,
      "outputs": [
        {
          "output_type": "execute_result",
          "data": {
            "text/plain": [
              "47"
            ]
          },
          "metadata": {},
          "execution_count": 10
        }
      ]
    },
    {
      "cell_type": "code",
      "source": [
        "import numpy as np"
      ],
      "metadata": {
        "id": "JnV23XxNqUI4"
      },
      "execution_count": null,
      "outputs": []
    },
    {
      "cell_type": "code",
      "source": [
        "type(dataset_3[\"raw_radar\"][1])"
      ],
      "metadata": {
        "colab": {
          "base_uri": "https://localhost:8080/"
        },
        "id": "oE7W5rklqcvm",
        "outputId": "32b18197-379c-4b39-d01a-f2d902f1a3ed"
      },
      "execution_count": null,
      "outputs": [
        {
          "output_type": "execute_result",
          "data": {
            "text/plain": [
              "numpy.ndarray"
            ]
          },
          "metadata": {},
          "execution_count": 12
        }
      ]
    },
    {
      "cell_type": "markdown",
      "source": [
        "# statistical analysis for dataset 3"
      ],
      "metadata": {
        "id": "0rN-20xAceJM"
      }
    },
    {
      "cell_type": "code",
      "source": [
        "rain_count_value = []\n",
        "no_rain_count_value = []\n",
        "null_count_value = []\n",
        "for radar_img in dataset_3[\"raw_radar\"]:\n",
        "  rain_count_value.append(np.count_nonzero(radar_img > 0))\n",
        "  no_rain_count_value.append(np.count_nonzero(radar_img == 0))\n",
        "  null_count_value.append(np.count_nonzero(radar_img < 0))"
      ],
      "metadata": {
        "id": "iSX6Vm_BpJ1U"
      },
      "execution_count": null,
      "outputs": []
    },
    {
      "cell_type": "code",
      "source": [
        "import matplotlib.pyplot as plt\n",
        "\n",
        "x_axis = [i for i in(range(len(dataset_3['btd'])))]\n",
        "\n",
        "rain_count_value.sort()\n",
        "\n",
        "# plt.plot(x_axis, rain_count_value)\n",
        "plt.plot(x_axis, rain_count_value)\n",
        "# plt.plot(x_axis, null_count_value)\n",
        "# plt.title('title name')\n",
        "# plt.xlabel('x_axis name')\n",
        "# plt.ylabel('y_axis name')\n",
        "plt.show()"
      ],
      "metadata": {
        "colab": {
          "base_uri": "https://localhost:8080/",
          "height": 430
        },
        "id": "VdDJLbOMrRXE",
        "outputId": "5bf03476-e55e-4a72-f86f-5858952b25de"
      },
      "execution_count": null,
      "outputs": [
        {
          "output_type": "display_data",
          "data": {
            "text/plain": [
              "<Figure size 640x480 with 1 Axes>"
            ],
            "image/png": "[encoded data removed]"
          },
          "metadata": {}
        }
      ]
    },
    {
      "cell_type": "code",
      "source": [
        "import matplotlib.pyplot as plt\n",
        "\n",
        "x_axis = [i for i in(range(len(dataset_3['btd'])))]\n",
        "\n",
        "no_rain_count_value.sort()\n",
        "\n",
        "# plt.plot(x_axis, rain_count_value)\n",
        "plt.plot(x_axis, no_rain_count_value)\n",
        "# plt.plot(x_axis, null_count_value)\n",
        "# plt.title('title name')\n",
        "# plt.xlabel('x_axis name')\n",
        "# plt.ylabel('y_axis name')\n",
        "plt.show()"
      ],
      "metadata": {
        "colab": {
          "base_uri": "https://localhost:8080/",
          "height": 430
        },
        "id": "psbUJdOOvMCA",
        "outputId": "8b342685-93d1-4a03-d19f-62a919dfb707"
      },
      "execution_count": null,
      "outputs": [
        {
          "output_type": "display_data",
          "data": {
            "text/plain": [
              "<Figure size 640x480 with 1 Axes>"
            ],
            "image/png": "[encoded data removed]"
          },
          "metadata": {}
        }
      ]
    },
    {
      "cell_type": "code",
      "source": [
        "tmp =[value for value in no_rain_count_value if value > int(512*512-7774)*0.75]\n",
        "len(tmp)"
      ],
      "metadata": {
        "colab": {
          "base_uri": "https://localhost:8080/"
        },
        "id": "pirxf0Cv1RQo",
        "outputId": "1fe61127-017d-494e-8c86-a2a7f24f171f"
      },
      "execution_count": null,
      "outputs": [
        {
          "output_type": "execute_result",
          "data": {
            "text/plain": [
              "90"
            ]
          },
          "metadata": {},
          "execution_count": 50
        }
      ]
    },
    {
      "cell_type": "code",
      "source": [
        "len(tmp)/len(no_rain_count_value)"
      ],
      "metadata": {
        "colab": {
          "base_uri": "https://localhost:8080/"
        },
        "id": "GElIG7kS1okz",
        "outputId": "04abd330-4471-428c-8f53-028ac3eaecd1"
      },
      "execution_count": null,
      "outputs": [
        {
          "output_type": "execute_result",
          "data": {
            "text/plain": [
              "0.4166666666666667"
            ]
          },
          "metadata": {},
          "execution_count": 51
        }
      ]
    },
    {
      "cell_type": "code",
      "source": [
        "rain_count_value[0]"
      ],
      "metadata": {
        "colab": {
          "base_uri": "https://localhost:8080/"
        },
        "id": "tf0kWcK3hm3A",
        "outputId": "6312f327-4819-428a-829a-8e4442933800"
      },
      "execution_count": null,
      "outputs": [
        {
          "output_type": "execute_result",
          "data": {
            "text/plain": [
              "20168"
            ]
          },
          "metadata": {},
          "execution_count": 44
        }
      ]
    },
    {
      "cell_type": "code",
      "source": [
        "rain_count_value[-1]"
      ],
      "metadata": {
        "colab": {
          "base_uri": "https://localhost:8080/"
        },
        "id": "TsO2N4PWw3eB",
        "outputId": "8adc2fbf-4ff2-43fc-bb6c-e14856bb0540"
      },
      "execution_count": null,
      "outputs": [
        {
          "output_type": "execute_result",
          "data": {
            "text/plain": [
              "134227"
            ]
          },
          "metadata": {},
          "execution_count": 45
        }
      ]
    },
    {
      "cell_type": "code",
      "source": [
        "tmp = np.array(rain_count_value)\n",
        "np.mean(tmp)"
      ],
      "metadata": {
        "colab": {
          "base_uri": "https://localhost:8080/"
        },
        "id": "WSiBYqCH4s46",
        "outputId": "98d7bd95-7065-4e95-a253-ed26a53d331b"
      },
      "execution_count": null,
      "outputs": [
        {
          "output_type": "execute_result",
          "data": {
            "text/plain": [
              "68897.89814814815"
            ]
          },
          "metadata": {},
          "execution_count": 46
        }
      ]
    },
    {
      "cell_type": "code",
      "source": [
        "np.std(tmp)"
      ],
      "metadata": {
        "colab": {
          "base_uri": "https://localhost:8080/"
        },
        "id": "lteF7R1f48SL",
        "outputId": "e3d3d275-5ae0-49f2-9459-2b18022d4074"
      },
      "execution_count": null,
      "outputs": [
        {
          "output_type": "execute_result",
          "data": {
            "text/plain": [
              "25654.132577148706"
            ]
          },
          "metadata": {},
          "execution_count": 47
        }
      ]
    },
    {
      "cell_type": "code",
      "source": [
        "valid_rain_count_value = []\n",
        "valid_no_rain_count_value = []\n",
        "valid_null_count_value = []\n",
        "for radar_img in valid_dataset_3[\"raw_radar\"]:\n",
        "  valid_rain_count_value.append(np.count_nonzero(radar_img > 0))\n",
        "  valid_no_rain_count_value.append(np.count_nonzero(radar_img == 0))\n",
        "  valid_null_count_value.append(np.count_nonzero(radar_img < 0))"
      ],
      "metadata": {
        "id": "vjP4ybL3u9Qh"
      },
      "execution_count": null,
      "outputs": []
    },
    {
      "cell_type": "code",
      "source": [
        "light_rain_count_value = []\n",
        "for radar_img in dataset_3[\"raw_radar\"]:\n",
        "  light_rain_count_value.append(np.count_nonzero(radar_img > 0.5)) "
      ],
      "metadata": {
        "id": "OiYYPX7R9kHx"
      },
      "execution_count": null,
      "outputs": []
    },
    {
      "cell_type": "code",
      "source": [
        "import matplotlib.pyplot as plt\n",
        "\n",
        "x_axis = [i for i in(range(len(valid_dataset_3['btd'])))]\n",
        "\n",
        "valid_rain_count_value.sort()\n",
        "# plt.plot(x_axis, valid_rain_count_value)\n",
        "plt.plot(x_axis, valid_rain_count_value)\n",
        "# plt.plot(x_axis, valid_null_count_value)\n",
        "# plt.title('title name')\n",
        "# plt.xlabel('x_axis name')\n",
        "# plt.ylabel('y_axis name')\n",
        "plt.show()"
      ],
      "metadata": {
        "colab": {
          "base_uri": "https://localhost:8080/",
          "height": 430
        },
        "outputId": "4222397f-fc08-47b9-f899-ab389c15fa21",
        "id": "PId5nQL5u9Qi"
      },
      "execution_count": null,
      "outputs": [
        {
          "output_type": "display_data",
          "data": {
            "text/plain": [
              "<Figure size 640x480 with 1 Axes>"
            ],
            "image/png": "[encoded data removed]"
          },
          "metadata": {}
        }
      ]
    },
    {
      "cell_type": "code",
      "source": [
        "valid_rain_count_value[-1]"
      ],
      "metadata": {
        "colab": {
          "base_uri": "https://localhost:8080/"
        },
        "id": "ikWYz0Tjz352",
        "outputId": "810153bc-c74c-4384-b40c-da239ea5cfad"
      },
      "execution_count": null,
      "outputs": [
        {
          "output_type": "execute_result",
          "data": {
            "text/plain": [
              "122579"
            ]
          },
          "metadata": {},
          "execution_count": 37
        }
      ]
    },
    {
      "cell_type": "code",
      "source": [
        "import matplotlib.pyplot as plt\n",
        "\n",
        "x_axis = [i for i in(range(len(dataset_3['btd'])))]\n",
        "\n",
        "light_rain_count_value.sort()\n",
        "# plt.plot(x_axis, valid_rain_count_value)\n",
        "plt.plot(x_axis, light_rain_count_value)\n",
        "# plt.plot(x_axis, valid_null_count_value)\n",
        "# plt.title('title name')\n",
        "# plt.xlabel('x_axis name')\n",
        "# plt.ylabel('y_axis name')\n",
        "plt.show()"
      ],
      "metadata": {
        "colab": {
          "base_uri": "https://localhost:8080/",
          "height": 430
        },
        "id": "2ISn6I9eulW_",
        "outputId": "a2ce5234-dc0f-442f-b978-abc65289ab21"
      },
      "execution_count": null,
      "outputs": [
        {
          "output_type": "display_data",
          "data": {
            "text/plain": [
              "<Figure size 640x480 with 1 Axes>"
            ],
            "image/png": "[encoded data removed]"
          },
          "metadata": {}
        }
      ]
    },
    {
      "cell_type": "code",
      "source": [
        "import matplotlib.pyplot as plt\n",
        "\n",
        "x_axis = [i for i in(range(len(valid_dataset_3['btd'])))]\n",
        "\n",
        "valid_rain_count_value.sort()\n",
        "# plt.plot(x_axis, valid_rain_count_value)\n",
        "plt.plot(x_axis, valid_rain_count_value)\n",
        "# plt.plot(x_axis, valid_null_count_value)\n",
        "# plt.title('title name')\n",
        "# plt.xlabel('x_axis name')\n",
        "# plt.ylabel('y_axis name')\n",
        "plt.show()"
      ],
      "metadata": {
        "id": "Jrcoc8Z3Ri25"
      },
      "execution_count": null,
      "outputs": []
    },
    {
      "cell_type": "code",
      "source": [
        "valid_rain_count_value[0]"
      ],
      "metadata": {
        "colab": {
          "base_uri": "https://localhost:8080/"
        },
        "id": "psHYXLCQg2X3",
        "outputId": "8ea09f2d-cb49-4737-99d8-89627ec3a0f9"
      },
      "execution_count": null,
      "outputs": [
        {
          "output_type": "execute_result",
          "data": {
            "text/plain": [
              "8087"
            ]
          },
          "metadata": {},
          "execution_count": 33
        }
      ]
    },
    {
      "cell_type": "code",
      "source": [
        "tmp = np.array(valid_rain_count_value)\n",
        "np.mean(tmp)"
      ],
      "metadata": {
        "colab": {
          "base_uri": "https://localhost:8080/"
        },
        "outputId": "85076e8f-0ff5-4244-919a-e2ad8823cf16",
        "id": "DBT77nB35Ebd"
      },
      "execution_count": null,
      "outputs": [
        {
          "output_type": "execute_result",
          "data": {
            "text/plain": [
              "55415.1914893617"
            ]
          },
          "metadata": {},
          "execution_count": 34
        }
      ]
    },
    {
      "cell_type": "code",
      "source": [
        "np.std(tmp)"
      ],
      "metadata": {
        "colab": {
          "base_uri": "https://localhost:8080/"
        },
        "outputId": "77185544-6881-4ea6-d962-bde7d1238836",
        "id": "mpm75GJ35Ebd"
      },
      "execution_count": null,
      "outputs": [
        {
          "output_type": "execute_result",
          "data": {
            "text/plain": [
              "33461.60316302743"
            ]
          },
          "metadata": {},
          "execution_count": 35
        }
      ]
    },
    {
      "cell_type": "code",
      "source": [
        "tmp =[value for value in valid_no_rain_count_value if value > int(512*512-7774)*0.75]\n",
        "len(tmp)"
      ],
      "metadata": {
        "colab": {
          "base_uri": "https://localhost:8080/"
        },
        "outputId": "b8ce502c-b129-4700-befe-bbaffaa6cd29",
        "id": "SyncrkRJ4NV_"
      },
      "execution_count": null,
      "outputs": [
        {
          "output_type": "execute_result",
          "data": {
            "text/plain": [
              "34"
            ]
          },
          "metadata": {},
          "execution_count": 54
        }
      ]
    },
    {
      "cell_type": "code",
      "source": [
        "len(tmp)/len(valid_no_rain_count_value)"
      ],
      "metadata": {
        "colab": {
          "base_uri": "https://localhost:8080/"
        },
        "outputId": "e965a698-c049-4780-8c71-e387ee312d19",
        "id": "J3L-ncdQ4NWA"
      },
      "execution_count": null,
      "outputs": [
        {
          "output_type": "execute_result",
          "data": {
            "text/plain": [
              "0.723404255319149"
            ]
          },
          "metadata": {},
          "execution_count": 55
        }
      ]
    },
    {
      "cell_type": "code",
      "source": [
        "tmp =[value for value in valid_no_rain_count_value if value > int(512*512-7774)*0.75]\n",
        "len(tmp)"
      ],
      "metadata": {
        "id": "Vi4e2sjt8UQs"
      },
      "execution_count": null,
      "outputs": []
    },
    {
      "cell_type": "code",
      "source": [
        "len(tmp)/len(valid_no_rain_count_value)"
      ],
      "metadata": {
        "id": "Ht_cCLbN8VT5"
      },
      "execution_count": null,
      "outputs": []
    },
    {
      "cell_type": "code",
      "source": [
        "null_set = set()\n",
        "for null in null_count_value:\n",
        "  null_set.add(null)\n",
        "null_set"
      ],
      "metadata": {
        "colab": {
          "base_uri": "https://localhost:8080/"
        },
        "id": "i6oDCMVKtV0i",
        "outputId": "cabe7348-1053-4717-c819-517a3d356d26"
      },
      "execution_count": null,
      "outputs": [
        {
          "output_type": "execute_result",
          "data": {
            "text/plain": [
              "{7774}"
            ]
          },
          "metadata": {},
          "execution_count": 38
        }
      ]
    },
    {
      "cell_type": "code",
      "source": [
        "null_set = set()\n",
        "for null in valid_null_count_value:\n",
        "  null_set.add(null)\n",
        "null_set"
      ],
      "metadata": {
        "colab": {
          "base_uri": "https://localhost:8080/"
        },
        "id": "qCd-uMrMwkMy",
        "outputId": "0281e445-6e9e-4700-c8c0-a21d25c59927"
      },
      "execution_count": null,
      "outputs": [
        {
          "output_type": "execute_result",
          "data": {
            "text/plain": [
              "{7774}"
            ]
          },
          "metadata": {},
          "execution_count": 39
        }
      ]
    },
    {
      "cell_type": "code",
      "source": [
        "rain_frequency_rain_map = np.zeros((512, 512))\n",
        "for radar_img in dataset_3['raw_radar']:\n",
        "  tmp_1 = np.where(radar_img < 0, -1, 0)\n",
        "  tmp_2 = np.where(radar_img <=0, 0, 1)\n",
        "  rain_frequency_rain_map += tmp_1\n",
        "  rain_frequency_rain_map += tmp_2"
      ],
      "metadata": {
        "id": "DFWDKLRh7p2U"
      },
      "execution_count": null,
      "outputs": []
    },
    {
      "cell_type": "code",
      "source": [
        "rain_frequency_rain_map"
      ],
      "metadata": {
        "colab": {
          "base_uri": "https://localhost:8080/"
        },
        "id": "Hq0qJv1-DvRa",
        "outputId": "6ef6cca4-0ad8-4f57-a6c8-abd58ab2e071"
      },
      "execution_count": null,
      "outputs": [
        {
          "output_type": "execute_result",
          "data": {
            "text/plain": [
              "array([[  15.,   17.,   17., ...,    1.,    1.,    1.],\n",
              "       [  18.,   19.,   18., ...,    1.,    1.,    0.],\n",
              "       [  18.,   20.,   18., ...,    0.,    0.,    0.],\n",
              "       ...,\n",
              "       [-216., -216., -216., ...,  148.,  149.,  150.],\n",
              "       [-216., -216., -216., ...,  146.,  149.,  149.],\n",
              "       [-216., -216., -216., ...,  143.,  146.,  147.]])"
            ]
          },
          "metadata": {},
          "execution_count": 24
        }
      ]
    },
    {
      "cell_type": "code",
      "source": [
        "rain_frequency_rain_map[rain_frequency_rain_map < 0] = -20"
      ],
      "metadata": {
        "id": "10wFKwtUDz9Q"
      },
      "execution_count": null,
      "outputs": []
    },
    {
      "cell_type": "code",
      "source": [
        "plt.imshow(rain_frequency_rain_map, cmap='gray')"
      ],
      "metadata": {
        "colab": {
          "base_uri": "https://localhost:8080/",
          "height": 452
        },
        "id": "nnaoY3vHErdF",
        "outputId": "76439f05-d424-4da9-f0b0-f69ba5fe30a1"
      },
      "execution_count": null,
      "outputs": [
        {
          "output_type": "execute_result",
          "data": {
            "text/plain": [
              "<matplotlib.image.AxesImage at 0x7f75c2681270>"
            ]
          },
          "metadata": {},
          "execution_count": 26
        },
        {
          "output_type": "display_data",
          "data": {
            "text/plain": [
              "<Figure size 640x480 with 1 Axes>"
            ],
            "image/png": "[encoded data removed]"
          },
          "metadata": {}
        }
      ]
    },
    {
      "cell_type": "code",
      "source": [
        "len(valid_dataset_3['raw_radar'])"
      ],
      "metadata": {
        "colab": {
          "base_uri": "https://localhost:8080/"
        },
        "id": "8QwuQgn8FzWv",
        "outputId": "3d28e0eb-a8cf-4c85-87e7-4ec51df51411"
      },
      "execution_count": null,
      "outputs": [
        {
          "output_type": "execute_result",
          "data": {
            "text/plain": [
              "47"
            ]
          },
          "metadata": {},
          "execution_count": 27
        }
      ]
    },
    {
      "cell_type": "code",
      "source": [
        "valid_rain_frequency_rain_map = np.zeros((512, 512))\n",
        "for radar_img in valid_dataset_3['raw_radar']:\n",
        "  tmp_1 = np.where(radar_img < 0, -1, 0)\n",
        "  tmp_2 = np.where(radar_img <=0, 0, 1)\n",
        "  valid_rain_frequency_rain_map += tmp_1\n",
        "  valid_rain_frequency_rain_map += tmp_2"
      ],
      "metadata": {
        "id": "cWIQ5os7Fkvi"
      },
      "execution_count": null,
      "outputs": []
    },
    {
      "cell_type": "code",
      "source": [
        "valid_rain_frequency_rain_map"
      ],
      "metadata": {
        "colab": {
          "base_uri": "https://localhost:8080/"
        },
        "outputId": "ec36ab04-f335-48d7-ce2c-b97e0f39c05e",
        "id": "2KNcDPVDFkvj"
      },
      "execution_count": null,
      "outputs": [
        {
          "output_type": "execute_result",
          "data": {
            "text/plain": [
              "array([[  8.,  11.,  11., ...,   0.,   0.,   0.],\n",
              "       [  9.,  11.,  11., ...,   0.,   0.,   0.],\n",
              "       [  9.,  13.,  13., ...,   0.,   0.,   0.],\n",
              "       ...,\n",
              "       [-47., -47., -47., ...,  26.,  28.,  28.],\n",
              "       [-47., -47., -47., ...,  30.,  31.,  29.],\n",
              "       [-47., -47., -47., ...,  29.,  27.,  28.]])"
            ]
          },
          "metadata": {},
          "execution_count": 29
        }
      ]
    },
    {
      "cell_type": "code",
      "source": [
        "valid_rain_frequency_rain_map[rain_frequency_rain_map < 0] = -4.5"
      ],
      "metadata": {
        "id": "1SCRydk4Fkvj"
      },
      "execution_count": null,
      "outputs": []
    },
    {
      "cell_type": "code",
      "source": [
        "plt.imshow(valid_rain_frequency_rain_map, cmap='gray')"
      ],
      "metadata": {
        "colab": {
          "base_uri": "https://localhost:8080/",
          "height": 452
        },
        "outputId": "7e065626-97c0-4037-d27d-412aa540848c",
        "id": "GRh2lsAvFkvj"
      },
      "execution_count": null,
      "outputs": [
        {
          "output_type": "execute_result",
          "data": {
            "text/plain": [
              "<matplotlib.image.AxesImage at 0x7f75c26a4d00>"
            ]
          },
          "metadata": {},
          "execution_count": 31
        },
        {
          "output_type": "display_data",
          "data": {
            "text/plain": [
              "<Figure size 640x480 with 1 Axes>"
            ],
            "image/png": "[encoded data removed]"
          },
          "metadata": {}
        }
      ]
    },
    {
      "cell_type": "code",
      "source": [
        "rain_average_rain_map = np.zeros((512, 512))\n",
        "for radar_img in dataset_3['raw_radar']:\n",
        "  radar_img[radar_img < 0]  = -1,\n",
        "  rain_average_rain_map += radar_img\n",
        "rain_average_rain_map = rain_average_rain_map/len(dataset_3['raw_radar'])"
      ],
      "metadata": {
        "id": "LIw4iMUPGM3-"
      },
      "execution_count": null,
      "outputs": []
    },
    {
      "cell_type": "code",
      "source": [
        "rain_average_rain_map"
      ],
      "metadata": {
        "colab": {
          "base_uri": "https://localhost:8080/"
        },
        "id": "mOv628DAWd2X",
        "outputId": "fca3c64e-223d-42a7-d87d-900e9e2465ce"
      },
      "execution_count": null,
      "outputs": [
        {
          "output_type": "execute_result",
          "data": {
            "text/plain": [
              "array([[ 9.54629627e-02,  9.61574071e-02,  1.06666665e-01, ...,\n",
              "         2.54629635e-03,  3.00925915e-03,  3.00925915e-03],\n",
              "       [ 1.12037037e-01,  1.41157406e-01,  1.34907406e-01, ...,\n",
              "         2.54629635e-03,  3.00925915e-03,  0.00000000e+00],\n",
              "       [ 1.38055555e-01,  1.57870369e-01,  1.52361110e-01, ...,\n",
              "         0.00000000e+00,  0.00000000e+00,  0.00000000e+00],\n",
              "       ...,\n",
              "       [-1.00000000e+00, -1.00000000e+00, -1.00000000e+00, ...,\n",
              "         4.89157405e+00,  5.42583332e+00,  5.44055554e+00],\n",
              "       [-1.00000000e+00, -1.00000000e+00, -1.00000000e+00, ...,\n",
              "         5.04277776e+00,  5.29263887e+00,  5.63009257e+00],\n",
              "       [-1.00000000e+00, -1.00000000e+00, -1.00000000e+00, ...,\n",
              "         5.13472220e+00,  5.06481480e+00,  5.37796294e+00]])"
            ]
          },
          "metadata": {},
          "execution_count": 39
        }
      ]
    },
    {
      "cell_type": "code",
      "source": [
        "rain_average_rain_map.nonzero_count(rain_average_rain_map > 0 && r )"
      ],
      "metadata": {
        "id": "RFtOZvqIpd9L"
      },
      "execution_count": null,
      "outputs": []
    },
    {
      "cell_type": "code",
      "source": [
        "plt.imshow(rain_average_rain_map, cmap='gray')"
      ],
      "metadata": {
        "colab": {
          "base_uri": "https://localhost:8080/",
          "height": 452
        },
        "id": "38pVyn01Tm-m",
        "outputId": "1a6c46de-c0ea-4d0d-d29b-72adb72121cd"
      },
      "execution_count": null,
      "outputs": [
        {
          "output_type": "execute_result",
          "data": {
            "text/plain": [
              "<matplotlib.image.AxesImage at 0x7f75c0472620>"
            ]
          },
          "metadata": {},
          "execution_count": 36
        },
        {
          "output_type": "display_data",
          "data": {
            "text/plain": [
              "<Figure size 640x480 with 1 Axes>"
            ],
            "image/png": "[encoded data removed]"
          },
          "metadata": {}
        }
      ]
    },
    {
      "cell_type": "code",
      "source": [
        "valid_rain_average_rain_map = np.zeros((512, 512))\n",
        "for radar_img in valid_dataset_3['raw_radar']:\n",
        "  radar_img[radar_img < 0]  = -1,\n",
        "  valid_rain_average_rain_map += radar_img\n",
        "valid_rain_average_rain_map = valid_rain_average_rain_map/len(valid_dataset_3['raw_radar'])"
      ],
      "metadata": {
        "id": "i31oTY8NVubC"
      },
      "execution_count": null,
      "outputs": []
    },
    {
      "cell_type": "code",
      "source": [
        "(valid_rain_average_rain_map)"
      ],
      "metadata": {
        "colab": {
          "base_uri": "https://localhost:8080/"
        },
        "outputId": "8c04e618-5e48-4aff-ee6c-696bfdc86589",
        "id": "W-zdYX1pXTiS"
      },
      "execution_count": null,
      "outputs": [
        {
          "output_type": "execute_result",
          "data": {
            "text/plain": [
              "array([[ 0.13234042,  0.18553191,  0.19085106, ...,  0.        ,\n",
              "         0.        ,  0.        ],\n",
              "       [ 0.16638298,  0.18170212,  0.17425531, ...,  0.        ,\n",
              "         0.        ,  0.        ],\n",
              "       [ 0.18638297,  0.19340425,  0.19340425, ...,  0.        ,\n",
              "         0.        ,  0.        ],\n",
              "       ...,\n",
              "       [-1.        , -1.        , -1.        , ...,  3.27851063,\n",
              "         3.63723404,  3.47361701],\n",
              "       [-1.        , -1.        , -1.        , ...,  3.29127658,\n",
              "         3.18255318,  3.10510638],\n",
              "       [-1.        , -1.        , -1.        , ...,  3.04574467,\n",
              "         3.21489361,  3.47829786]])"
            ]
          },
          "metadata": {},
          "execution_count": 38
        }
      ]
    },
    {
      "cell_type": "code",
      "source": [
        "plt.imshow(valid_rain_average_rain_map, cmap='gray')"
      ],
      "metadata": {
        "colab": {
          "base_uri": "https://localhost:8080/",
          "height": 452
        },
        "id": "HilmHDEiWW1x",
        "outputId": "0e99bb4c-772f-4714-82ef-3d2b4d17405c"
      },
      "execution_count": null,
      "outputs": [
        {
          "output_type": "execute_result",
          "data": {
            "text/plain": [
              "<matplotlib.image.AxesImage at 0x7f75c03fbac0>"
            ]
          },
          "metadata": {},
          "execution_count": 43
        },
        {
          "output_type": "display_data",
          "data": {
            "text/plain": [
              "<Figure size 640x480 with 1 Axes>"
            ],
            "image/png": "[encoded data removed]"
          },
          "metadata": {}
        }
      ]
    },
    {
      "cell_type": "markdown",
      "source": [
        "# Pytorch data loading"
      ],
      "metadata": {
        "id": "g2NgPLnj2l0O"
      }
    },
    {
      "cell_type": "code",
      "source": [
        "import torch"
      ],
      "metadata": {
        "id": "hHsW0MM35fv9"
      },
      "execution_count": null,
      "outputs": []
    },
    {
      "cell_type": "code",
      "source": [
        "class Dataset(torch.utils.data.Dataset):\n",
        "    def __init__(self, data):\n",
        "      self.data = data\n",
        "      self.keys = data.keys()\n",
        "    def __len__(self):\n",
        "      return len(self.data['btd'])\n",
        "\n",
        "    def __getitem__(self, idx):\n",
        "      encoding = {}\n",
        "      for k in self.keys:\n",
        "        encoding[k] = self.data[k][idx]\n",
        "      return encoding"
      ],
      "metadata": {
        "id": "rkK6t9IKVdVM"
      },
      "execution_count": null,
      "outputs": []
    },
    {
      "cell_type": "code",
      "source": [
        "train_dataset = Dataset(dataset_3)\n",
        "valid_dataset = Dataset(valid_dataset_3)"
      ],
      "metadata": {
        "id": "vO2h301eWkOx"
      },
      "execution_count": null,
      "outputs": []
    },
    {
      "cell_type": "code",
      "source": [
        "train_dataset.__len__()"
      ],
      "metadata": {
        "colab": {
          "base_uri": "https://localhost:8080/"
        },
        "id": "g56PD5pQPgDD",
        "outputId": "61519123-4fea-4a32-a092-046521fb6c93"
      },
      "execution_count": null,
      "outputs": [
        {
          "output_type": "execute_result",
          "data": {
            "text/plain": [
              "216"
            ]
          },
          "metadata": {},
          "execution_count": 16
        }
      ]
    },
    {
      "cell_type": "markdown",
      "source": [
        "# PERSIANN model"
      ],
      "metadata": {
        "id": "l7Ed1tNPpF2O"
      }
    },
    {
      "cell_type": "code",
      "source": [
        "import torch\n",
        "import torch.nn as nn"
      ],
      "metadata": {
        "id": "pbvnIs5ItAuc"
      },
      "execution_count": null,
      "outputs": []
    },
    {
      "cell_type": "code",
      "source": [
        "class ResBlock (nn.Module):\n",
        "  def __init__(self, channels=32, kernel_size=(3,3), padding_size=1, stride=1):\n",
        "    super(ResBlock, self).__init__()\n",
        "    self.kernel_size = kernel_size\n",
        "    self.padding_size = padding_size\n",
        "    self.stride = stride\n",
        "    self.conv_1 = nn.Conv2d(channels, channels, kernel_size=kernel_size, stride=stride, padding=padding_size)\n",
        "    self.norm_1 = nn.BatchNorm2d(channels)\n",
        "    self.activation_1 = nn.ReLU()\n",
        "    self.conv_2 = nn.Conv2d(channels, channels, kernel_size=kernel_size, stride=stride, padding=padding_size)\n",
        "    self.norm_2 = nn.BatchNorm2d(channels)\n",
        "    self.activation = nn.ReLU()\n",
        "  \n",
        "  def forward(self, x):\n",
        "    input = x\n",
        "    x = self.conv_1(x)\n",
        "    x = self.norm_1(x)\n",
        "    x = self.activation_1(x)\n",
        "    x = self.conv_2(x)\n",
        "    x = self.norm_2(x)\n",
        "    x = input + x\n",
        "    x = self.activation(x)\n",
        "    return x"
      ],
      "metadata": {
        "id": "9pSfqPypotko"
      },
      "execution_count": null,
      "outputs": []
    },
    {
      "cell_type": "code",
      "source": [
        "class PERSIANN (nn.Module):\n",
        "  def __init__ (self, era_channels, visible_channels, ni_channels, wv_channels, ir_channels, btd_channels):\n",
        "    super(PERSIANN, self).__init__()\n",
        "\n",
        "    self.era_gate = nn.Sequential(\n",
        "        nn.Conv2d(in_channels=era_channels, out_channels=32, kernel_size=(5, 5), stride=(2, 2), padding=2),\n",
        "        nn.Conv2d(in_channels=32, out_channels=32, kernel_size=(3, 3), stride=(2, 2), padding=1),\n",
        "        ResBlock(channels=32, kernel_size=(3, 3), padding_size=1, stride=1))\n",
        "    \n",
        "    self.visible_gate = nn.Sequential(\n",
        "        nn.Conv2d(in_channels=visible_channels, out_channels=32, kernel_size=(5, 5), stride=(2, 2), padding=2),\n",
        "        nn.Conv2d(in_channels=32, out_channels=32, kernel_size=(3, 3), stride=(2, 2), padding=1),\n",
        "        ResBlock(channels=32, kernel_size=(3, 3), padding_size=1, stride=1))\n",
        "    # 512 x 512 => 256 x 256\n",
        "    self.ni_gate = nn.Sequential(\n",
        "        nn.Conv2d(in_channels=ni_channels, out_channels=32, kernel_size=(5, 5), stride=(2, 2), padding=2),\n",
        "        nn.Conv2d(in_channels=32, out_channels=32, kernel_size=(3, 3), stride=(2, 2), padding=1),\n",
        "        ResBlock(channels=32, kernel_size=(3, 3), padding_size=1, stride=1))\n",
        "    \n",
        "    self.wv_gate = nn.Sequential(\n",
        "        nn.Conv2d(in_channels=wv_channels, out_channels=32, kernel_size=(5, 5), stride=(2, 2), padding=2),\n",
        "        nn.Conv2d(in_channels=32, out_channels=32, kernel_size=(3, 3), stride=(2, 2), padding=1),\n",
        "        ResBlock(channels=32, kernel_size=(3, 3), padding_size=1, stride=1))\n",
        "    \n",
        "    self.ir_gate = nn.Sequential(\n",
        "        nn.Conv2d(in_channels=ir_channels, out_channels=32, kernel_size=(5, 5), stride=(2, 2), padding=2),\n",
        "        nn.Conv2d(in_channels=32, out_channels=32, kernel_size=(3, 3), stride=(2, 2), padding=1),\n",
        "        ResBlock(channels=32, kernel_size=(3, 3), padding_size=1, stride=1))\n",
        "    \n",
        "    self.btd_gate = nn.Sequential(\n",
        "        nn.Conv2d(in_channels=btd_channels, out_channels=32, kernel_size=(5, 5), stride=(2, 2), padding=2),\n",
        "        nn.Conv2d(in_channels=32, out_channels=32, kernel_size=(3, 3), stride=(2, 2), padding=1),\n",
        "        ResBlock(channels=32, kernel_size=(3, 3), padding_size=1, stride=1))\n",
        "    \n",
        "    self.fushion = nn.Sequential(\n",
        "        nn.Conv2d(in_channels=192, out_channels= 64, kernel_size=(3,3), stride=(1,1), padding=1),\n",
        "        ResBlock(channels=64, kernel_size=(3,3), padding_size=1, stride=1),\n",
        "        nn.UpsamplingBilinear2d(scale_factor=2),\n",
        "\n",
        "        nn.Conv2d(in_channels=64, out_channels= 32, kernel_size=(3,3), stride=(1,1), padding=1),\n",
        "        ResBlock(channels=32, kernel_size=(3,3), padding_size=1, stride=1),\n",
        "        nn.UpsamplingBilinear2d(scale_factor=2),\n",
        "\n",
        "        nn.Conv2d(in_channels=32, out_channels= 32, kernel_size=(3,3), stride=(1,1), padding=1),\n",
        "        ResBlock(channels=32, kernel_size=(3,3), padding_size=1, stride=1),\n",
        "        nn.Conv2d(in_channels=32, out_channels=1, kernel_size=(1,1))\n",
        "    )\n",
        "\n",
        "  def forward(self, era_input, visible_input, ni_input, wv_input, ir_input, btd_input):\n",
        "    era_output = self.era_gate(era_input)\n",
        "    visible_output = self.visible_gate(visible_input)\n",
        "    # print(era_output.shape)\n",
        "    ni_output = self.ni_gate(ni_input)\n",
        "    wv_output = self.wv_gate(wv_input)\n",
        "    ir_output = self.ir_gate(ir_input)\n",
        "    btd_output = self.btd_gate(btd_input)\n",
        "\n",
        "    fushion_input = torch.cat((era_output, visible_output, ni_output, wv_output, ir_output, btd_output), 1)\n",
        "    # print(fushion_input.shape)\n",
        "\n",
        "    out = self.fushion(fushion_input)\n",
        "    # print(out.shape)\n",
        "    return torch.squeeze(out, 1)"
      ],
      "metadata": {
        "id": "iBczI4kKRDyu"
      },
      "execution_count": null,
      "outputs": []
    },
    {
      "cell_type": "code",
      "source": [
        "from torch.utils.data import DataLoader\n",
        "\n",
        "def collate_fn(batch):\n",
        "  era = [torch.from_numpy(item['era']) for item in batch]\n",
        "  visible = [torch.from_numpy(item['visible']) for item in batch]\n",
        "  ni = [torch.from_numpy(item['ni']) for item in batch]\n",
        "  wv = [torch.from_numpy(item['wv']) for item in batch]\n",
        "  ir = [torch.from_numpy(item['ir']) for item in batch]\n",
        "  btd = [torch.from_numpy(item['btd']) for item in batch]\n",
        "  radar = [torch.from_numpy(item['radar']) for item in batch]\n",
        "  # create new batch\n",
        "  answer_batch = {}\n",
        "  answer_batch['era'] = torch.stack(era)\n",
        "  answer_batch['visible'] = torch.stack(visible)\n",
        "  answer_batch['ni'] = torch.stack(ni)\n",
        "  answer_batch['wv'] = torch.stack(wv)\n",
        "  answer_batch['ir'] = torch.stack(ir)\n",
        "  answer_batch['btd'] = torch.stack(btd)\n",
        "  answer_batch['radar'] = torch.stack(radar)\n",
        "  return answer_batch\n"
      ],
      "metadata": {
        "id": "8IlOHpV0X0Wj"
      },
      "execution_count": null,
      "outputs": []
    },
    {
      "cell_type": "code",
      "source": [
        "train_dataloader = DataLoader(train_dataset, collate_fn=collate_fn, batch_size=16, shuffle=True)"
      ],
      "metadata": {
        "id": "kba6uibOamxq"
      },
      "execution_count": null,
      "outputs": []
    },
    {
      "cell_type": "code",
      "source": [
        "valid_dataloader = DataLoader(valid_dataset, collate_fn=collate_fn, batch_size=16, shuffle=False)"
      ],
      "metadata": {
        "id": "udyLaz_cbQIm"
      },
      "execution_count": null,
      "outputs": []
    },
    {
      "cell_type": "code",
      "source": [
        "tmp_train_batch = next(iter(train_dataloader))\n",
        "tmp_valid_batch = next(iter(valid_dataloader))"
      ],
      "metadata": {
        "id": "LRNmTY8MbIuL"
      },
      "execution_count": null,
      "outputs": []
    },
    {
      "cell_type": "code",
      "source": [
        "for k, v in tmp_train_batch.items():\n",
        "  print(k, v.shape)"
      ],
      "metadata": {
        "colab": {
          "base_uri": "https://localhost:8080/"
        },
        "id": "BiyVEWd1c8Uv",
        "outputId": "ff592fff-a596-48e4-ff3e-f614c766b49f"
      },
      "execution_count": null,
      "outputs": [
        {
          "output_type": "stream",
          "name": "stdout",
          "text": [
            "era torch.Size([16, 5, 512, 512])\n",
            "visible torch.Size([16, 5, 512, 512])\n",
            "ni torch.Size([16, 2, 512, 512])\n",
            "wv torch.Size([16, 1, 512, 512])\n",
            "ir torch.Size([16, 1, 512, 512])\n",
            "btd torch.Size([16, 2, 512, 512])\n",
            "radar torch.Size([16, 512, 512])\n"
          ]
        }
      ]
    },
    {
      "cell_type": "code",
      "source": [
        "model = PERSIANN(5, 5, 2, 1, 1, 2)\n",
        "# tmp = model(tmp_train_batch['era'],\n",
        "#             tmp_train_batch['visible'],\n",
        "#             tmp_train_batch['ni'],\n",
        "#             tmp_train_batch['wv'],\n",
        "#             tmp_train_batch['ir'],\n",
        "#             tmp_train_batch['btd'],)"
      ],
      "metadata": {
        "id": "jc8Nw6V8fMNz"
      },
      "execution_count": null,
      "outputs": []
    },
    {
      "cell_type": "code",
      "source": [
        "class RMSELoss(nn.Module):\n",
        "    def __init__(self, eps=1e-6):\n",
        "        super().__init__()\n",
        "        self.mse = nn.MSELoss()\n",
        "        self.eps = eps\n",
        "        \n",
        "    def forward(self,yhat,y):\n",
        "        loss = torch.sqrt(self.mse(yhat,y) + self.eps)\n",
        "        return loss"
      ],
      "metadata": {
        "id": "rLBp4A2KiaIw"
      },
      "execution_count": null,
      "outputs": []
    },
    {
      "cell_type": "code",
      "source": [
        "device = torch.device('cuda' if torch.cuda.is_available() else 'cpu')"
      ],
      "metadata": {
        "id": "wItEPWQ2R5cM"
      },
      "execution_count": null,
      "outputs": []
    },
    {
      "cell_type": "code",
      "source": [
        "device"
      ],
      "metadata": {
        "colab": {
          "base_uri": "https://localhost:8080/"
        },
        "id": "ZXp2_tJxR6je",
        "outputId": "26e27033-5297-44c1-ac0b-a54032587b51"
      },
      "execution_count": null,
      "outputs": [
        {
          "output_type": "execute_result",
          "data": {
            "text/plain": [
              "device(type='cuda')"
            ]
          },
          "metadata": {},
          "execution_count": 94
        }
      ]
    },
    {
      "cell_type": "code",
      "source": [
        "model = model.to(device)"
      ],
      "metadata": {
        "id": "akM44H9MR71a"
      },
      "execution_count": null,
      "outputs": []
    },
    {
      "cell_type": "code",
      "source": [
        "total_params = sum([p.numel() for p in model.parameters()])\n",
        "total_params"
      ],
      "metadata": {
        "colab": {
          "base_uri": "https://localhost:8080/"
        },
        "id": "-gHKVUJaQPkl",
        "outputId": "a1bba8f7-7114-4044-efd7-8b0f24efe530"
      },
      "execution_count": null,
      "outputs": [
        {
          "output_type": "execute_result",
          "data": {
            "text/plain": [
              "429985"
            ]
          },
          "metadata": {},
          "execution_count": 96
        }
      ]
    },
    {
      "cell_type": "code",
      "source": [
        "import torch.nn as nn\n",
        "import torch.optim as optim\n",
        "import torch.optim.lr_scheduler as scheduler\n",
        "max_epochs = 40\n",
        "learning_rate = 4e-4\n",
        "\n",
        "weight_decay = 0.01\n",
        "optimizing_parameters = filter(lambda p: p.requires_grad, model.parameters())\n",
        "criterion = RMSELoss()\n",
        "\n",
        "optimizer = optim.SGD(\n",
        "    optimizing_parameters,\n",
        "    lr=learning_rate,\n",
        "    weight_decay=weight_decay\n",
        ")\n",
        "\n",
        "scheduler = scheduler.PolynomialLR(optimizer,\n",
        "                                   total_iters = max_epochs,\n",
        "                                   power = 2)"
      ],
      "metadata": {
        "id": "hseORQhTdtCU"
      },
      "execution_count": null,
      "outputs": []
    },
    {
      "cell_type": "code",
      "source": [
        "from tqdm import tqdm"
      ],
      "metadata": {
        "id": "3PTXvfVMeD_v"
      },
      "execution_count": null,
      "outputs": []
    },
    {
      "cell_type": "code",
      "source": [
        "# train with GPU\n",
        "train_losses = []\n",
        "valid_losses = []\n",
        "for epoch in range(max_epochs):\n",
        "\n",
        "  # training phase\n",
        "  model.train()\n",
        "  print(f\"epoch {epoch} started\")\n",
        "  total_loss = 0\n",
        "  total = len(train_dataloader)\n",
        "  for batch in tqdm(train_dataloader):\n",
        "\n",
        "    # compute output of the model on the mini-batch\n",
        "    era = batch['era'].to(device)\n",
        "    visible = batch['visible'].to(device)\n",
        "    ni = batch['ni'].to(device)\n",
        "    wv = batch['wv'].to(device)\n",
        "    ir = batch['ir'].to(device)\n",
        "    btd = batch['btd'].to(device)\n",
        "    radar = batch['radar'].to(device)\n",
        "    out = model(era, visible, ni, wv, ir, btd)\n",
        "\n",
        "    # compute loss function\n",
        "    loss = criterion(out, radar)\n",
        "    total_loss += loss \n",
        "    # calculate derivative and do a gradient descent step\n",
        "    optimizer.zero_grad()\n",
        "    loss.backward()\n",
        "    optimizer.step()\n",
        "\n",
        "  avg_loss = total_loss / total\n",
        "  train_losses.append(avg_loss)\n",
        "  print(f\"epoch {epoch} train_avg_loss {avg_loss}\")\n",
        "\n",
        "\n",
        "  # testing phase\n",
        "  model.eval()\n",
        "  total = len(valid_dataloader)\n",
        "  total_loss = 0 # count number of correct predictions on test set\n",
        "\n",
        "  for batch in tqdm(valid_dataloader):\n",
        "    with torch.no_grad(): # prevent gradient computation\n",
        "      era = batch['era'].to(device)\n",
        "      visible = batch['visible'].to(device)\n",
        "      ni = batch['ni'].to(device)\n",
        "      wv = batch['wv'].to(device)\n",
        "      ir = batch['ir'].to(device)\n",
        "      btd = batch['btd'].to(device)\n",
        "      radar = batch['radar'].to(device)\n",
        "      out = model(era, visible, ni, wv, ir, btd)\n",
        "      loss = criterion(out, radar)\n",
        "      total_loss += loss\n",
        "\n",
        "  # compute test accuracy for this epoch\n",
        "  avg_loss = total_loss / total\n",
        "  valid_losses.append(avg_loss)\n",
        "  print(f\"epoch {epoch} valid_avg_loss {avg_loss}\")"
      ],
      "metadata": {
        "id": "GGwt1dc8h4L1",
        "colab": {
          "base_uri": "https://localhost:8080/"
        },
        "outputId": "5bc6f807-9a13-440a-e728-bae25d4cbf4f"
      },
      "execution_count": null,
      "outputs": [
        {
          "output_type": "stream",
          "name": "stdout",
          "text": [
            "epoch 0 started\n"
          ]
        },
        {
          "output_type": "stream",
          "name": "stderr",
          "text": [
            "100%|██████████| 54/54 [00:18<00:00,  2.87it/s]\n"
          ]
        },
        {
          "output_type": "stream",
          "name": "stdout",
          "text": [
            "epoch 0 train_avg_loss 3.787041187286377\n",
            "epoch 0 valid_avg_loss 3.2148051261901855\n",
            "epoch 1 started\n"
          ]
        },
        {
          "output_type": "stream",
          "name": "stderr",
          "text": [
            "100%|██████████| 54/54 [00:09<00:00,  5.56it/s]\n"
          ]
        },
        {
          "output_type": "stream",
          "name": "stdout",
          "text": [
            "epoch 1 train_avg_loss 3.630340576171875\n",
            "epoch 1 valid_avg_loss 3.0639472007751465\n",
            "epoch 2 started\n"
          ]
        },
        {
          "output_type": "stream",
          "name": "stderr",
          "text": [
            "100%|██████████| 54/54 [00:09<00:00,  5.54it/s]\n"
          ]
        },
        {
          "output_type": "stream",
          "name": "stdout",
          "text": [
            "epoch 2 train_avg_loss 3.605320692062378\n",
            "epoch 2 valid_avg_loss 3.062432289123535\n",
            "epoch 3 started\n"
          ]
        },
        {
          "output_type": "stream",
          "name": "stderr",
          "text": [
            "100%|██████████| 54/54 [00:09<00:00,  5.51it/s]\n"
          ]
        },
        {
          "output_type": "stream",
          "name": "stdout",
          "text": [
            "epoch 3 train_avg_loss 3.5767271518707275\n",
            "epoch 3 valid_avg_loss 3.034783363342285\n",
            "epoch 4 started\n"
          ]
        },
        {
          "output_type": "stream",
          "name": "stderr",
          "text": [
            "100%|██████████| 54/54 [00:09<00:00,  5.49it/s]\n"
          ]
        },
        {
          "output_type": "stream",
          "name": "stdout",
          "text": [
            "epoch 4 train_avg_loss 3.525118350982666\n",
            "epoch 4 valid_avg_loss 3.2314186096191406\n",
            "epoch 5 started\n"
          ]
        },
        {
          "output_type": "stream",
          "name": "stderr",
          "text": [
            "100%|██████████| 54/54 [00:09<00:00,  5.47it/s]\n"
          ]
        },
        {
          "output_type": "stream",
          "name": "stdout",
          "text": [
            "epoch 5 train_avg_loss 3.539390802383423\n",
            "epoch 5 valid_avg_loss 3.022974729537964\n",
            "epoch 6 started\n"
          ]
        },
        {
          "output_type": "stream",
          "name": "stderr",
          "text": [
            "100%|██████████| 54/54 [00:09<00:00,  5.45it/s]\n"
          ]
        },
        {
          "output_type": "stream",
          "name": "stdout",
          "text": [
            "epoch 6 train_avg_loss 3.499241352081299\n",
            "epoch 6 valid_avg_loss 3.0073795318603516\n",
            "epoch 7 started\n"
          ]
        },
        {
          "output_type": "stream",
          "name": "stderr",
          "text": [
            "100%|██████████| 54/54 [00:10<00:00,  4.95it/s]\n"
          ]
        },
        {
          "output_type": "stream",
          "name": "stdout",
          "text": [
            "epoch 7 train_avg_loss 3.475088119506836\n",
            "epoch 7 valid_avg_loss 3.055255889892578\n",
            "epoch 8 started\n"
          ]
        },
        {
          "output_type": "stream",
          "name": "stderr",
          "text": [
            "100%|██████████| 54/54 [00:09<00:00,  5.41it/s]\n"
          ]
        },
        {
          "output_type": "stream",
          "name": "stdout",
          "text": [
            "epoch 8 train_avg_loss 3.455528736114502\n",
            "epoch 8 valid_avg_loss 2.9768056869506836\n",
            "epoch 9 started\n"
          ]
        },
        {
          "output_type": "stream",
          "name": "stderr",
          "text": [
            "100%|██████████| 54/54 [00:10<00:00,  5.39it/s]\n"
          ]
        },
        {
          "output_type": "stream",
          "name": "stdout",
          "text": [
            "epoch 9 train_avg_loss 3.4495389461517334\n",
            "epoch 9 valid_avg_loss 2.939511775970459\n",
            "epoch 10 started\n"
          ]
        },
        {
          "output_type": "stream",
          "name": "stderr",
          "text": [
            "100%|██████████| 54/54 [00:10<00:00,  5.30it/s]\n"
          ]
        },
        {
          "output_type": "stream",
          "name": "stdout",
          "text": [
            "epoch 10 train_avg_loss 3.4512341022491455\n",
            "epoch 10 valid_avg_loss 2.9028782844543457\n",
            "epoch 11 started\n"
          ]
        },
        {
          "output_type": "stream",
          "name": "stderr",
          "text": [
            "100%|██████████| 54/54 [00:10<00:00,  5.36it/s]\n"
          ]
        },
        {
          "output_type": "stream",
          "name": "stdout",
          "text": [
            "epoch 11 train_avg_loss 3.40330171585083\n",
            "epoch 11 valid_avg_loss 3.0103979110717773\n",
            "epoch 12 started\n"
          ]
        },
        {
          "output_type": "stream",
          "name": "stderr",
          "text": [
            "100%|██████████| 54/54 [00:10<00:00,  5.35it/s]\n"
          ]
        },
        {
          "output_type": "stream",
          "name": "stdout",
          "text": [
            "epoch 12 train_avg_loss 3.4090898036956787\n",
            "epoch 12 valid_avg_loss 3.34289813041687\n",
            "epoch 13 started\n"
          ]
        },
        {
          "output_type": "stream",
          "name": "stderr",
          "text": [
            "100%|██████████| 54/54 [00:10<00:00,  5.33it/s]\n"
          ]
        },
        {
          "output_type": "stream",
          "name": "stdout",
          "text": [
            "epoch 13 train_avg_loss 3.4008867740631104\n",
            "epoch 13 valid_avg_loss 2.9467341899871826\n",
            "epoch 14 started\n"
          ]
        },
        {
          "output_type": "stream",
          "name": "stderr",
          "text": [
            "100%|██████████| 54/54 [00:10<00:00,  5.32it/s]\n"
          ]
        },
        {
          "output_type": "stream",
          "name": "stdout",
          "text": [
            "epoch 14 train_avg_loss 3.3925235271453857\n",
            "epoch 14 valid_avg_loss 3.0610427856445312\n",
            "epoch 15 started\n"
          ]
        },
        {
          "output_type": "stream",
          "name": "stderr",
          "text": [
            "100%|██████████| 54/54 [00:10<00:00,  5.31it/s]\n"
          ]
        },
        {
          "output_type": "stream",
          "name": "stdout",
          "text": [
            "epoch 15 train_avg_loss 3.3883187770843506\n",
            "epoch 15 valid_avg_loss 3.173828601837158\n",
            "epoch 16 started\n"
          ]
        },
        {
          "output_type": "stream",
          "name": "stderr",
          "text": [
            "100%|██████████| 54/54 [00:10<00:00,  5.29it/s]\n"
          ]
        },
        {
          "output_type": "stream",
          "name": "stdout",
          "text": [
            "epoch 16 train_avg_loss 3.3775620460510254\n",
            "epoch 16 valid_avg_loss 3.080134868621826\n",
            "epoch 17 started\n"
          ]
        },
        {
          "output_type": "stream",
          "name": "stderr",
          "text": [
            "100%|██████████| 54/54 [00:10<00:00,  5.26it/s]\n"
          ]
        },
        {
          "output_type": "stream",
          "name": "stdout",
          "text": [
            "epoch 17 train_avg_loss 3.372938871383667\n",
            "epoch 17 valid_avg_loss 2.9525318145751953\n",
            "epoch 18 started\n"
          ]
        },
        {
          "output_type": "stream",
          "name": "stderr",
          "text": [
            "100%|██████████| 54/54 [00:10<00:00,  5.26it/s]\n"
          ]
        },
        {
          "output_type": "stream",
          "name": "stdout",
          "text": [
            "epoch 18 train_avg_loss 3.361096143722534\n",
            "epoch 18 valid_avg_loss 4.8201518058776855\n",
            "epoch 19 started\n"
          ]
        },
        {
          "output_type": "stream",
          "name": "stderr",
          "text": [
            "100%|██████████| 54/54 [00:10<00:00,  5.25it/s]\n"
          ]
        },
        {
          "output_type": "stream",
          "name": "stdout",
          "text": [
            "epoch 19 train_avg_loss 3.3593177795410156\n",
            "epoch 19 valid_avg_loss 3.2953097820281982\n"
          ]
        }
      ]
    },
    {
      "cell_type": "code",
      "source": [
        "# train with GPU\n",
        "train_losses = []\n",
        "valid_losses = []\n",
        "for epoch in range(max_epochs):\n",
        "\n",
        "  # training phase\n",
        "  model.train()\n",
        "  print(f\"epoch {epoch} started\")\n",
        "  total_loss = 0\n",
        "  total = len(train_dataloader)\n",
        "  for batch in tqdm(train_dataloader):\n",
        "\n",
        "    # compute output of the model on the mini-batch\n",
        "    era = batch['era'].to(device)\n",
        "    visible = batch['visible'].to(device)\n",
        "    ni = batch['ni'].to(device)\n",
        "    wv = batch['wv'].to(device)\n",
        "    ir = batch['ir'].to(device)\n",
        "    btd = batch['btd'].to(device)\n",
        "    radar = batch['radar'].to(device)\n",
        "    out = model(era, visible, ni, wv, ir, btd)\n",
        "\n",
        "    # compute loss function\n",
        "    loss = criterion(out, radar)\n",
        "    total_loss += loss \n",
        "    # calculate derivative and do a gradient descent step\n",
        "    optimizer.zero_grad()\n",
        "    loss.backward()\n",
        "    optimizer.step()\n",
        "\n",
        "  avg_loss = total_loss / total\n",
        "  train_losses.append(avg_loss)\n",
        "  print(f\"epoch {epoch} train_avg_loss {avg_loss}\")\n",
        "\n",
        "\n",
        "  # testing phase\n",
        "  model.eval()\n",
        "  total = len(valid_dataloader)\n",
        "  total_loss = 0 # count number of correct predictions on test set\n",
        "\n",
        "  for batch in valid_dataloader:\n",
        "    with torch.no_grad(): # prevent gradient computation\n",
        "      era = batch['era'].to(device)\n",
        "      visible = batch['visible'].to(device)\n",
        "      ni = batch['ni'].to(device)\n",
        "      wv = batch['wv'].to(device)\n",
        "      ir = batch['ir'].to(device)\n",
        "      btd = batch['btd'].to(device)\n",
        "      radar = batch['radar'].to(device)\n",
        "      out = model(era, visible, ni, wv, ir, btd)\n",
        "      loss = criterion(out, radar)\n",
        "      total_loss += loss\n",
        "\n",
        "  # compute test accuracy for this epoch\n",
        "  avg_loss = total_loss / total\n",
        "  valid_losses.append(avg_loss)\n",
        "  print(f\"epoch {epoch} valid_avg_loss {avg_loss}\")"
      ],
      "metadata": {
        "colab": {
          "base_uri": "https://localhost:8080/"
        },
        "id": "C1zRf12iebFs",
        "outputId": "fd5e7561-15d7-4b7c-e76d-ab02045ce09a"
      },
      "execution_count": null,
      "outputs": [
        {
          "output_type": "stream",
          "name": "stdout",
          "text": [
            "epoch 0 started\n"
          ]
        },
        {
          "output_type": "stream",
          "name": "stderr",
          "text": [
            "100%|██████████| 54/54 [00:09<00:00,  5.41it/s]\n"
          ]
        },
        {
          "output_type": "stream",
          "name": "stdout",
          "text": [
            "epoch 0 train_avg_loss 3.458439588546753\n",
            "epoch 0 valid_avg_loss 3.0611748695373535\n",
            "epoch 1 started\n"
          ]
        },
        {
          "output_type": "stream",
          "name": "stderr",
          "text": [
            "100%|██████████| 54/54 [00:09<00:00,  5.41it/s]\n"
          ]
        },
        {
          "output_type": "stream",
          "name": "stdout",
          "text": [
            "epoch 1 train_avg_loss 3.4358513355255127\n",
            "epoch 1 valid_avg_loss 3.2814767360687256\n",
            "epoch 2 started\n"
          ]
        },
        {
          "output_type": "stream",
          "name": "stderr",
          "text": [
            "100%|██████████| 54/54 [00:10<00:00,  5.40it/s]\n"
          ]
        },
        {
          "output_type": "stream",
          "name": "stdout",
          "text": [
            "epoch 2 train_avg_loss 3.4006924629211426\n",
            "epoch 2 valid_avg_loss 2.907156467437744\n",
            "epoch 3 started\n"
          ]
        },
        {
          "output_type": "stream",
          "name": "stderr",
          "text": [
            "100%|██████████| 54/54 [00:10<00:00,  5.38it/s]\n"
          ]
        },
        {
          "output_type": "stream",
          "name": "stdout",
          "text": [
            "epoch 3 train_avg_loss 3.4045467376708984\n",
            "epoch 3 valid_avg_loss 3.130733013153076\n",
            "epoch 4 started\n"
          ]
        },
        {
          "output_type": "stream",
          "name": "stderr",
          "text": [
            "100%|██████████| 54/54 [00:10<00:00,  5.35it/s]\n"
          ]
        },
        {
          "output_type": "stream",
          "name": "stdout",
          "text": [
            "epoch 4 train_avg_loss 3.410991907119751\n",
            "epoch 4 valid_avg_loss 3.264345169067383\n",
            "epoch 5 started\n"
          ]
        },
        {
          "output_type": "stream",
          "name": "stderr",
          "text": [
            "100%|██████████| 54/54 [00:10<00:00,  5.33it/s]\n"
          ]
        },
        {
          "output_type": "stream",
          "name": "stdout",
          "text": [
            "epoch 5 train_avg_loss 3.3709895610809326\n",
            "epoch 5 valid_avg_loss 3.3657588958740234\n",
            "epoch 6 started\n"
          ]
        },
        {
          "output_type": "stream",
          "name": "stderr",
          "text": [
            "100%|██████████| 54/54 [00:10<00:00,  5.32it/s]\n"
          ]
        },
        {
          "output_type": "stream",
          "name": "stdout",
          "text": [
            "epoch 6 train_avg_loss 3.3472142219543457\n",
            "epoch 6 valid_avg_loss 3.1086347103118896\n",
            "epoch 7 started\n"
          ]
        },
        {
          "output_type": "stream",
          "name": "stderr",
          "text": [
            "100%|██████████| 54/54 [00:10<00:00,  5.31it/s]\n"
          ]
        },
        {
          "output_type": "stream",
          "name": "stdout",
          "text": [
            "epoch 7 train_avg_loss 3.35870099067688\n",
            "epoch 7 valid_avg_loss 7.97353458404541\n",
            "epoch 8 started\n"
          ]
        },
        {
          "output_type": "stream",
          "name": "stderr",
          "text": [
            "100%|██████████| 54/54 [00:10<00:00,  5.22it/s]\n"
          ]
        },
        {
          "output_type": "stream",
          "name": "stdout",
          "text": [
            "epoch 8 train_avg_loss 3.343524932861328\n",
            "epoch 8 valid_avg_loss 3.3255391120910645\n",
            "epoch 9 started\n"
          ]
        },
        {
          "output_type": "stream",
          "name": "stderr",
          "text": [
            "100%|██████████| 54/54 [00:10<00:00,  5.15it/s]\n"
          ]
        },
        {
          "output_type": "stream",
          "name": "stdout",
          "text": [
            "epoch 9 train_avg_loss 3.3429958820343018\n",
            "epoch 9 valid_avg_loss 3.1807589530944824\n",
            "epoch 10 started\n"
          ]
        },
        {
          "output_type": "stream",
          "name": "stderr",
          "text": [
            "100%|██████████| 54/54 [00:10<00:00,  5.19it/s]\n"
          ]
        },
        {
          "output_type": "stream",
          "name": "stdout",
          "text": [
            "epoch 10 train_avg_loss 3.3541011810302734\n",
            "epoch 10 valid_avg_loss 13.918813705444336\n",
            "epoch 11 started\n"
          ]
        },
        {
          "output_type": "stream",
          "name": "stderr",
          "text": [
            "100%|██████████| 54/54 [00:11<00:00,  4.85it/s]\n"
          ]
        },
        {
          "output_type": "stream",
          "name": "stdout",
          "text": [
            "epoch 11 train_avg_loss 3.3600926399230957\n",
            "epoch 11 valid_avg_loss 3.435729503631592\n",
            "epoch 12 started\n"
          ]
        },
        {
          "output_type": "stream",
          "name": "stderr",
          "text": [
            "100%|██████████| 54/54 [00:10<00:00,  5.26it/s]\n"
          ]
        },
        {
          "output_type": "stream",
          "name": "stdout",
          "text": [
            "epoch 12 train_avg_loss 3.330716848373413\n",
            "epoch 12 valid_avg_loss 3.5757415294647217\n",
            "epoch 13 started\n"
          ]
        },
        {
          "output_type": "stream",
          "name": "stderr",
          "text": [
            "100%|██████████| 54/54 [00:10<00:00,  5.16it/s]\n"
          ]
        },
        {
          "output_type": "stream",
          "name": "stdout",
          "text": [
            "epoch 13 train_avg_loss 3.355800151824951\n",
            "epoch 13 valid_avg_loss 3.15208101272583\n",
            "epoch 14 started\n"
          ]
        },
        {
          "output_type": "stream",
          "name": "stderr",
          "text": [
            "100%|██████████| 54/54 [00:10<00:00,  5.03it/s]\n"
          ]
        },
        {
          "output_type": "stream",
          "name": "stdout",
          "text": [
            "epoch 14 train_avg_loss 3.332756280899048\n",
            "epoch 14 valid_avg_loss 4.671011924743652\n",
            "epoch 15 started\n"
          ]
        },
        {
          "output_type": "stream",
          "name": "stderr",
          "text": [
            "100%|██████████| 54/54 [00:10<00:00,  5.24it/s]\n"
          ]
        },
        {
          "output_type": "stream",
          "name": "stdout",
          "text": [
            "epoch 15 train_avg_loss 3.315668821334839\n",
            "epoch 15 valid_avg_loss 3.1586709022521973\n",
            "epoch 16 started\n"
          ]
        },
        {
          "output_type": "stream",
          "name": "stderr",
          "text": [
            "100%|██████████| 54/54 [00:10<00:00,  5.24it/s]\n"
          ]
        },
        {
          "output_type": "stream",
          "name": "stdout",
          "text": [
            "epoch 16 train_avg_loss 3.3237671852111816\n",
            "epoch 16 valid_avg_loss 2.960876941680908\n",
            "epoch 17 started\n"
          ]
        },
        {
          "output_type": "stream",
          "name": "stderr",
          "text": [
            "100%|██████████| 54/54 [00:10<00:00,  5.10it/s]\n"
          ]
        },
        {
          "output_type": "stream",
          "name": "stdout",
          "text": [
            "epoch 17 train_avg_loss 3.3234989643096924\n",
            "epoch 17 valid_avg_loss 5.877053260803223\n",
            "epoch 18 started\n"
          ]
        },
        {
          "output_type": "stream",
          "name": "stderr",
          "text": [
            "100%|██████████| 54/54 [00:10<00:00,  5.20it/s]\n"
          ]
        },
        {
          "output_type": "stream",
          "name": "stdout",
          "text": [
            "epoch 18 train_avg_loss 3.3045198917388916\n",
            "epoch 18 valid_avg_loss 3.0331828594207764\n",
            "epoch 19 started\n"
          ]
        },
        {
          "output_type": "stream",
          "name": "stderr",
          "text": [
            "100%|██████████| 54/54 [00:10<00:00,  5.18it/s]\n"
          ]
        },
        {
          "output_type": "stream",
          "name": "stdout",
          "text": [
            "epoch 19 train_avg_loss 3.3004837036132812\n",
            "epoch 19 valid_avg_loss 5.714574337005615\n"
          ]
        }
      ]
    },
    {
      "cell_type": "code",
      "source": [
        "# train with GPU\n",
        "train_losses = []\n",
        "valid_losses = []\n",
        "for epoch in range(max_epochs):\n",
        "\n",
        "  # training phase\n",
        "  model.train()\n",
        "  print(f\"epoch {epoch} started\")\n",
        "  total_loss = 0\n",
        "  total = len(train_dataloader)\n",
        "  for batch in tqdm(train_dataloader):\n",
        "\n",
        "    # compute output of the model on the mini-batch\n",
        "    era = batch['era'].to(device)\n",
        "    visible = batch['visible'].to(device)\n",
        "    ni = batch['ni'].to(device)\n",
        "    wv = batch['wv'].to(device)\n",
        "    ir = batch['ir'].to(device)\n",
        "    btd = batch['btd'].to(device)\n",
        "    radar = batch['radar'].to(device)\n",
        "    out = model(era, visible, ni, wv, ir, btd)\n",
        "\n",
        "    # compute loss function\n",
        "    loss = criterion(out, radar)\n",
        "    total_loss += loss \n",
        "    # calculate derivative and do a gradient descent step\n",
        "    optimizer.zero_grad()\n",
        "    loss.backward()\n",
        "    optimizer.step()\n",
        "\n",
        "  avg_loss = total_loss / total\n",
        "  train_losses.append(avg_loss)\n",
        "  print(f\"epoch {epoch} train_avg_loss {avg_loss}\")\n",
        "\n",
        "\n",
        "  # testing phase\n",
        "  model.eval()\n",
        "  total = len(valid_dataloader)\n",
        "  total_loss = 0 # count number of correct predictions on test set\n",
        "\n",
        "  for batch in tqdm(valid_dataloader):\n",
        "    with torch.no_grad(): # prevent gradient computation\n",
        "      era = batch['era'].to(device)\n",
        "      visible = batch['visible'].to(device)\n",
        "      ni = batch['ni'].to(device)\n",
        "      wv = batch['wv'].to(device)\n",
        "      ir = batch['ir'].to(device)\n",
        "      btd = batch['btd'].to(device)\n",
        "      radar = batch['radar'].to(device)\n",
        "      out = model(era, visible, ni, wv, ir, btd)\n",
        "      loss = criterion(out, radar)\n",
        "      total_loss += loss\n",
        "\n",
        "  # compute test accuracy for this epoch\n",
        "  avg_loss = total_loss / total\n",
        "  valid_losses.append(avg_loss)\n",
        "  print(f\"epoch {epoch} valid_avg_loss {avg_loss}\")"
      ],
      "metadata": {
        "id": "Lik8KRjInNAW"
      },
      "execution_count": null,
      "outputs": []
    },
    {
      "cell_type": "markdown",
      "source": [
        "# U-net model"
      ],
      "metadata": {
        "id": "mblkuh4dhMpm"
      }
    },
    {
      "cell_type": "code",
      "source": [
        "import torch\n",
        "import torch.nn as nn\n",
        "\n",
        "def double_convolution(in_channels, out_channels):\n",
        "    \"\"\"\n",
        "    In the original paper implementation, the convolution operations were\n",
        "    not padded but we are padding them here. This is because, we need the \n",
        "    output result size to be same as input size.\n",
        "    \"\"\"\n",
        "    conv_op = nn.Sequential(\n",
        "        nn.Conv2d(in_channels, out_channels, kernel_size=3, padding=1),\n",
        "        nn.ReLU(inplace=True),\n",
        "        nn.Conv2d(out_channels, out_channels, kernel_size=3, padding=1),\n",
        "        nn.ReLU(inplace=True)\n",
        "    )\n",
        "    return conv_op"
      ],
      "metadata": {
        "id": "N6_yAXdylQGN"
      },
      "execution_count": null,
      "outputs": []
    },
    {
      "cell_type": "code",
      "source": [
        "class UNet(nn.Module):\n",
        "    def __init__(self, in_channels, out_channels):\n",
        "        super(UNet, self).__init__()\n",
        "        self.max_pool2d = nn.MaxPool2d(kernel_size=2, stride=2)\n",
        "        # Contracting path.\n",
        "        # Each convolution is applied twice.\n",
        "        self.down_convolution_1 = double_convolution(in_channels, 64)\n",
        "        self.down_convolution_2 = double_convolution(64, 128)\n",
        "        self.down_convolution_3 = double_convolution(128, 256)\n",
        "        self.down_convolution_4 = double_convolution(256, 512)\n",
        "        self.down_convolution_5 = double_convolution(512, 1024)\n",
        "        # Expanding path.\n",
        "        self.up_transpose_1 = nn.ConvTranspose2d(\n",
        "            in_channels=1024, out_channels=512,\n",
        "            kernel_size=2, \n",
        "            stride=2)\n",
        "        # Below, `in_channels` again becomes 1024 as we are concatinating.\n",
        "        self.up_convolution_1 = double_convolution(1024, 512)\n",
        "        self.up_transpose_2 = nn.ConvTranspose2d(\n",
        "            in_channels=512, out_channels=256,\n",
        "            kernel_size=2, \n",
        "            stride=2)\n",
        "        self.up_convolution_2 = double_convolution(512, 256)\n",
        "        self.up_transpose_3 = nn.ConvTranspose2d(\n",
        "            in_channels=256, out_channels=128,\n",
        "            kernel_size=2, \n",
        "            stride=2)\n",
        "        self.up_convolution_3 = double_convolution(256, 128)\n",
        "        self.up_transpose_4 = nn.ConvTranspose2d(\n",
        "            in_channels=128, out_channels=64,\n",
        "            kernel_size=2, \n",
        "            stride=2)\n",
        "        self.up_convolution_4 = double_convolution(128, 64)\n",
        "        # output => `out_channels` as per the number of classes.\n",
        "        self.out = nn.Conv2d(\n",
        "            in_channels=64, out_channels=out_channels, \n",
        "            kernel_size=1\n",
        "        ) \n",
        "    def forward(self, x):\n",
        "        down_1 = self.down_convolution_1(x)\n",
        "        down_2 = self.max_pool2d(down_1)\n",
        "        down_3 = self.down_convolution_2(down_2)\n",
        "        down_4 = self.max_pool2d(down_3)\n",
        "        down_5 = self.down_convolution_3(down_4)\n",
        "        down_6 = self.max_pool2d(down_5)\n",
        "        down_7 = self.down_convolution_4(down_6)\n",
        "        down_8 = self.max_pool2d(down_7)\n",
        "        down_9 = self.down_convolution_5(down_8)        \n",
        "        # *** DO NOT APPLY MAX POOL TO down_9 ***\n",
        "        \n",
        "        up_1 = self.up_transpose_1(down_9)\n",
        "        x = self.up_convolution_1(torch.cat([down_7, up_1], 1))\n",
        "        up_2 = self.up_transpose_2(x)\n",
        "        x = self.up_convolution_2(torch.cat([down_5, up_2], 1))\n",
        "        up_3 = self.up_transpose_3(x)\n",
        "        x = self.up_convolution_3(torch.cat([down_3, up_3], 1))\n",
        "        up_4 = self.up_transpose_4(x)\n",
        "        x = self.up_convolution_4(torch.cat([down_1, up_4], 1))\n",
        "        out = self.out(x)\n",
        "        return torch.squeeze(out, 1)"
      ],
      "metadata": {
        "id": "ZFRB1nQflu5C"
      },
      "execution_count": null,
      "outputs": []
    },
    {
      "cell_type": "code",
      "source": [
        "from torch.utils.data import DataLoader\n",
        "\n",
        "def collate_fn_unet(batch):\n",
        "  era = [torch.from_numpy(item['era']) for item in batch]\n",
        "  visible = [torch.from_numpy(item['visible']) for item in batch]\n",
        "  ni = [torch.from_numpy(item['ni']) for item in batch]\n",
        "  wv = [torch.from_numpy(item['wv']) for item in batch]\n",
        "  ir = [torch.from_numpy(item['ir']) for item in batch]\n",
        "  btd = [torch.from_numpy(item['btd']) for item in batch]\n",
        "  radar = [torch.from_numpy(item['radar']) for item in batch]\n",
        "  # create new batch\n",
        "  answer_batch = {}\n",
        "  answer_batch['feature'] = torch.cat((torch.stack(era),\n",
        "                                       torch.stack(visible),\n",
        "                                       torch.stack(ni),\n",
        "                                       torch.stack(wv),\n",
        "                                       torch.stack(ir),\n",
        "                                       torch.stack(btd)),\n",
        "                                      1)\n",
        "  answer_batch['radar'] = torch.stack(radar)\n",
        "  return answer_batch"
      ],
      "metadata": {
        "id": "BJaR9_NnuCd7"
      },
      "execution_count": null,
      "outputs": []
    },
    {
      "cell_type": "code",
      "source": [
        "train_dataloader = DataLoader(train_dataset, collate_fn=collate_fn_unet, batch_size=4, shuffle=True)"
      ],
      "metadata": {
        "id": "O8ycxCG-hT2b"
      },
      "execution_count": null,
      "outputs": []
    },
    {
      "cell_type": "code",
      "source": [
        "valid_dataloader = DataLoader(valid_dataset, collate_fn=collate_fn_unet, batch_size=4, shuffle=False)"
      ],
      "metadata": {
        "id": "QuieYm-UhT2b"
      },
      "execution_count": null,
      "outputs": []
    },
    {
      "cell_type": "code",
      "source": [
        "tmp_train_batch = next(iter(train_dataloader))\n",
        "tmp_valid_batch = next(iter(valid_dataloader))"
      ],
      "metadata": {
        "id": "-xFScXNThZo5"
      },
      "execution_count": null,
      "outputs": []
    },
    {
      "cell_type": "code",
      "source": [
        "for k, v in tmp_train_batch.items():\n",
        "  print(k, v.shape)"
      ],
      "metadata": {
        "colab": {
          "base_uri": "https://localhost:8080/"
        },
        "id": "pdAbfRqeiWFp",
        "outputId": "3c795fd8-dd6e-46b9-8fdf-692cf78807a9"
      },
      "execution_count": null,
      "outputs": [
        {
          "output_type": "stream",
          "name": "stdout",
          "text": [
            "feature torch.Size([1, 16, 512, 512])\n",
            "radar torch.Size([1, 512, 512])\n"
          ]
        }
      ]
    },
    {
      "cell_type": "code",
      "source": [
        "model = UNet(16, 1)\n",
        "# tmp = model(tmp_train_batch['era'],\n",
        "#             tmp_train_batch['visible'],\n",
        "#             tmp_train_batch['ni'],\n",
        "#             tmp_train_batch['wv'],\n",
        "#             tmp_train_batch['ir'],\n",
        "#             tmp_train_batch['btd'],)"
      ],
      "metadata": {
        "id": "bebwr3e2hi-d"
      },
      "execution_count": null,
      "outputs": []
    },
    {
      "cell_type": "code",
      "source": [
        "class RMSELoss(nn.Module):\n",
        "    def __init__(self, eps=1e-6):\n",
        "        super().__init__()\n",
        "        self.mse = nn.MSELoss()\n",
        "        self.eps = eps\n",
        "        \n",
        "    def forward(self,yhat,y):\n",
        "        loss = torch.sqrt(self.mse(yhat,y) + self.eps)\n",
        "        return loss"
      ],
      "metadata": {
        "id": "-XYzDMSthi-d"
      },
      "execution_count": null,
      "outputs": []
    },
    {
      "cell_type": "code",
      "source": [
        "device = torch.device('cuda' if torch.cuda.is_available() else 'cpu')"
      ],
      "metadata": {
        "id": "D92x4s8Ehi-e"
      },
      "execution_count": null,
      "outputs": []
    },
    {
      "cell_type": "code",
      "source": [
        "device"
      ],
      "metadata": {
        "colab": {
          "base_uri": "https://localhost:8080/"
        },
        "outputId": "bb6d9cfd-676b-4114-ea84-8ca4831c6e48",
        "id": "UgwkV19Rhi-e"
      },
      "execution_count": null,
      "outputs": [
        {
          "output_type": "execute_result",
          "data": {
            "text/plain": [
              "device(type='cuda')"
            ]
          },
          "metadata": {},
          "execution_count": 74
        }
      ]
    },
    {
      "cell_type": "code",
      "source": [
        "model = model.to(device)"
      ],
      "metadata": {
        "id": "ykWzBLoThi-e"
      },
      "execution_count": null,
      "outputs": []
    },
    {
      "cell_type": "code",
      "source": [
        "total_params = sum([p.numel() for p in model.parameters()])\n",
        "total_params"
      ],
      "metadata": {
        "colab": {
          "base_uri": "https://localhost:8080/"
        },
        "outputId": "89ca25fb-f2ed-4f38-9b01-d6191e2744ac",
        "id": "B1rHf_7vhi-e"
      },
      "execution_count": null,
      "outputs": [
        {
          "output_type": "execute_result",
          "data": {
            "text/plain": [
              "31039233"
            ]
          },
          "metadata": {},
          "execution_count": 76
        }
      ]
    },
    {
      "cell_type": "code",
      "source": [
        "model(tmp_train_batch['feature'].to(device)).shape"
      ],
      "metadata": {
        "colab": {
          "base_uri": "https://localhost:8080/",
          "height": 165
        },
        "id": "FqYxSXeRjRHR",
        "outputId": "be46b42e-3284-4c49-eb7c-19769d9ff503"
      },
      "execution_count": null,
      "outputs": [
        {
          "output_type": "error",
          "ename": "NameError",
          "evalue": "ignored",
          "traceback": [
            "\u001b[0;31m---------------------------------------------------------------------------\u001b[0m",
            "\u001b[0;31mNameError\u001b[0m                                 Traceback (most recent call last)",
            "\u001b[0;32m<ipython-input-53-995dcfecebe7>\u001b[0m in \u001b[0;36m<cell line: 1>\u001b[0;34m()\u001b[0m\n\u001b[0;32m----> 1\u001b[0;31m \u001b[0mmodel\u001b[0m\u001b[0;34m(\u001b[0m\u001b[0mtmp_train_batch\u001b[0m\u001b[0;34m[\u001b[0m\u001b[0;34m'feature'\u001b[0m\u001b[0;34m]\u001b[0m\u001b[0;34m.\u001b[0m\u001b[0mto\u001b[0m\u001b[0;34m(\u001b[0m\u001b[0mdevice\u001b[0m\u001b[0;34m)\u001b[0m\u001b[0;34m)\u001b[0m\u001b[0;34m.\u001b[0m\u001b[0mshape\u001b[0m\u001b[0;34m\u001b[0m\u001b[0;34m\u001b[0m\u001b[0m\n\u001b[0m",
            "\u001b[0;31mNameError\u001b[0m: name 'tmp_train_batch' is not defined"
          ]
        }
      ]
    },
    {
      "cell_type": "code",
      "source": [
        "import torch.nn as nn\n",
        "import torch.optim as optim\n",
        "import torch.optim.lr_scheduler as scheduler\n",
        "max_epochs = 20\n",
        "learning_rate = 5e-4\n",
        "\n",
        "weight_decay = 0.01\n",
        "optimizing_parameters = filter(lambda p: p.requires_grad, model.parameters())\n",
        "criterion = RMSELoss()\n",
        "\n",
        "optimizer = optim.AdamW(\n",
        "    optimizing_parameters,\n",
        "    lr=learning_rate,\n",
        "    weight_decay=weight_decay\n",
        ")\n",
        "scheduler = scheduler.PolynomialLR(optimizer,\n",
        "                                   total_iters = max_epochs,\n",
        "                                   power = 2)"
      ],
      "metadata": {
        "id": "czFrUVJtkUvM"
      },
      "execution_count": null,
      "outputs": []
    },
    {
      "cell_type": "code",
      "source": [
        "from tqdm import tqdm"
      ],
      "metadata": {
        "id": "cj41l0mg3oxr"
      },
      "execution_count": null,
      "outputs": []
    },
    {
      "cell_type": "code",
      "source": [
        "# train with GPU\n",
        "train_losses = []\n",
        "valid_losses = []\n",
        "\n",
        "for epoch in range(max_epochs):\n",
        "\n",
        "  # training phase\n",
        "  model.train()\n",
        "  print(f\"epoch {epoch} started\")\n",
        "  total_loss = 0\n",
        "  total = len(train_dataloader)\n",
        "  for batch in tqdm(train_dataloader):\n",
        "\n",
        "    # compute output of the model on the mini-batch\n",
        "    feature = batch['feature'].to(device)\n",
        "    radar = batch['radar'].to(device)\n",
        "    out = model(feature)\n",
        "\n",
        "    # compute loss function\n",
        "    loss = criterion(out, radar)\n",
        "    total_loss += loss \n",
        "    # calculate derivative and do a gradient descent step\n",
        "    optimizer.zero_grad()\n",
        "    loss.backward()\n",
        "    optimizer.step()\n",
        "    # scheduler.step()\n",
        "\n",
        "  avg_loss = total_loss / total\n",
        "  train_losses.append(avg_loss)\n",
        "  print(f\"epoch {epoch} train_avg_loss {avg_loss}\")\n",
        "\n",
        "\n",
        "  # testing phase\n",
        "  model.eval()\n",
        "  total = len(valid_dataloader)\n",
        "  total_loss = 0 # count number of correct predictions on test set\n",
        "\n",
        "  for batch in tqdm(valid_dataloader):\n",
        "    with torch.no_grad(): # prevent gradient computation\n",
        "      feature = batch['feature'].to(device)\n",
        "      radar = batch['radar'].to(device)\n",
        "      out = model(feature)\n",
        "\n",
        "      loss = criterion(out, radar)\n",
        "      total_loss += loss\n",
        "\n",
        "  # compute test accuracy for this epoch\n",
        "  avg_loss = total_loss / total\n",
        "  valid_losses.append(avg_loss)\n",
        "  print(f\"epoch {epoch} valid_avg_loss {avg_loss}\")"
      ],
      "metadata": {
        "colab": {
          "base_uri": "https://localhost:8080/"
        },
        "id": "f1BVXOCz3Ry-",
        "outputId": "ca17a74c-a9b7-48eb-8e6e-024ef28a02b9"
      },
      "execution_count": null,
      "outputs": [
        {
          "output_type": "stream",
          "name": "stdout",
          "text": [
            "epoch 0 started\n"
          ]
        },
        {
          "output_type": "stream",
          "name": "stderr",
          "text": [
            "100%|██████████| 54/54 [00:42<00:00,  1.26it/s]\n"
          ]
        },
        {
          "output_type": "stream",
          "name": "stdout",
          "text": [
            "epoch 0 train_avg_loss 3.6583597660064697\n"
          ]
        },
        {
          "output_type": "stream",
          "name": "stderr",
          "text": [
            "100%|██████████| 12/12 [00:03<00:00,  3.49it/s]\n"
          ]
        },
        {
          "output_type": "stream",
          "name": "stdout",
          "text": [
            "epoch 0 valid_avg_loss 3.011885643005371\n",
            "epoch 1 started\n"
          ]
        },
        {
          "output_type": "stream",
          "name": "stderr",
          "text": [
            "100%|██████████| 54/54 [00:43<00:00,  1.24it/s]\n"
          ]
        },
        {
          "output_type": "stream",
          "name": "stdout",
          "text": [
            "epoch 1 train_avg_loss 3.5528547763824463\n"
          ]
        },
        {
          "output_type": "stream",
          "name": "stderr",
          "text": [
            "100%|██████████| 12/12 [00:03<00:00,  3.47it/s]\n"
          ]
        },
        {
          "output_type": "stream",
          "name": "stdout",
          "text": [
            "epoch 1 valid_avg_loss 2.98215913772583\n",
            "epoch 2 started\n"
          ]
        },
        {
          "output_type": "stream",
          "name": "stderr",
          "text": [
            "100%|██████████| 54/54 [00:44<00:00,  1.22it/s]\n"
          ]
        },
        {
          "output_type": "stream",
          "name": "stdout",
          "text": [
            "epoch 2 train_avg_loss 3.5284194946289062\n"
          ]
        },
        {
          "output_type": "stream",
          "name": "stderr",
          "text": [
            "100%|██████████| 12/12 [00:03<00:00,  3.44it/s]\n"
          ]
        },
        {
          "output_type": "stream",
          "name": "stdout",
          "text": [
            "epoch 2 valid_avg_loss 2.965360641479492\n",
            "epoch 3 started\n"
          ]
        },
        {
          "output_type": "stream",
          "name": "stderr",
          "text": [
            "100%|██████████| 54/54 [00:43<00:00,  1.23it/s]\n"
          ]
        },
        {
          "output_type": "stream",
          "name": "stdout",
          "text": [
            "epoch 3 train_avg_loss 3.572239875793457\n"
          ]
        },
        {
          "output_type": "stream",
          "name": "stderr",
          "text": [
            "100%|██████████| 12/12 [00:03<00:00,  3.44it/s]\n"
          ]
        },
        {
          "output_type": "stream",
          "name": "stdout",
          "text": [
            "epoch 3 valid_avg_loss 3.005812168121338\n",
            "epoch 4 started\n"
          ]
        },
        {
          "output_type": "stream",
          "name": "stderr",
          "text": [
            "100%|██████████| 54/54 [00:43<00:00,  1.23it/s]\n"
          ]
        },
        {
          "output_type": "stream",
          "name": "stdout",
          "text": [
            "epoch 4 train_avg_loss 3.5144035816192627\n"
          ]
        },
        {
          "output_type": "stream",
          "name": "stderr",
          "text": [
            "100%|██████████| 12/12 [00:03<00:00,  3.45it/s]\n"
          ]
        },
        {
          "output_type": "stream",
          "name": "stdout",
          "text": [
            "epoch 4 valid_avg_loss 3.0255236625671387\n",
            "epoch 5 started\n"
          ]
        },
        {
          "output_type": "stream",
          "name": "stderr",
          "text": [
            "100%|██████████| 54/54 [00:43<00:00,  1.23it/s]\n"
          ]
        },
        {
          "output_type": "stream",
          "name": "stdout",
          "text": [
            "epoch 5 train_avg_loss 3.539065361022949\n"
          ]
        },
        {
          "output_type": "stream",
          "name": "stderr",
          "text": [
            "100%|██████████| 12/12 [00:03<00:00,  3.44it/s]\n"
          ]
        },
        {
          "output_type": "stream",
          "name": "stdout",
          "text": [
            "epoch 5 valid_avg_loss 2.9859960079193115\n",
            "epoch 6 started\n"
          ]
        },
        {
          "output_type": "stream",
          "name": "stderr",
          "text": [
            "100%|██████████| 54/54 [00:43<00:00,  1.23it/s]\n"
          ]
        },
        {
          "output_type": "stream",
          "name": "stdout",
          "text": [
            "epoch 6 train_avg_loss 3.5272600650787354\n"
          ]
        },
        {
          "output_type": "stream",
          "name": "stderr",
          "text": [
            "100%|██████████| 12/12 [00:03<00:00,  3.44it/s]\n"
          ]
        },
        {
          "output_type": "stream",
          "name": "stdout",
          "text": [
            "epoch 6 valid_avg_loss 2.976560592651367\n",
            "epoch 7 started\n"
          ]
        },
        {
          "output_type": "stream",
          "name": "stderr",
          "text": [
            "100%|██████████| 54/54 [00:43<00:00,  1.24it/s]\n"
          ]
        },
        {
          "output_type": "stream",
          "name": "stdout",
          "text": [
            "epoch 7 train_avg_loss 3.592921257019043\n"
          ]
        },
        {
          "output_type": "stream",
          "name": "stderr",
          "text": [
            "100%|██████████| 12/12 [00:03<00:00,  3.41it/s]\n"
          ]
        },
        {
          "output_type": "stream",
          "name": "stdout",
          "text": [
            "epoch 7 valid_avg_loss 3.1533095836639404\n",
            "epoch 8 started\n"
          ]
        },
        {
          "output_type": "stream",
          "name": "stderr",
          "text": [
            "100%|██████████| 54/54 [00:43<00:00,  1.24it/s]\n"
          ]
        },
        {
          "output_type": "stream",
          "name": "stdout",
          "text": [
            "epoch 8 train_avg_loss 3.5178287029266357\n"
          ]
        },
        {
          "output_type": "stream",
          "name": "stderr",
          "text": [
            "100%|██████████| 12/12 [00:03<00:00,  3.45it/s]\n"
          ]
        },
        {
          "output_type": "stream",
          "name": "stdout",
          "text": [
            "epoch 8 valid_avg_loss 2.9691739082336426\n",
            "epoch 9 started\n"
          ]
        },
        {
          "output_type": "stream",
          "name": "stderr",
          "text": [
            "100%|██████████| 54/54 [00:43<00:00,  1.24it/s]\n"
          ]
        },
        {
          "output_type": "stream",
          "name": "stdout",
          "text": [
            "epoch 9 train_avg_loss 3.4972431659698486\n"
          ]
        },
        {
          "output_type": "stream",
          "name": "stderr",
          "text": [
            "100%|██████████| 12/12 [00:03<00:00,  3.46it/s]\n"
          ]
        },
        {
          "output_type": "stream",
          "name": "stdout",
          "text": [
            "epoch 9 valid_avg_loss 2.938985586166382\n",
            "epoch 10 started\n"
          ]
        },
        {
          "output_type": "stream",
          "name": "stderr",
          "text": [
            "100%|██████████| 54/54 [00:43<00:00,  1.25it/s]\n"
          ]
        },
        {
          "output_type": "stream",
          "name": "stdout",
          "text": [
            "epoch 10 train_avg_loss 3.507232189178467\n"
          ]
        },
        {
          "output_type": "stream",
          "name": "stderr",
          "text": [
            "100%|██████████| 12/12 [00:03<00:00,  3.42it/s]\n"
          ]
        },
        {
          "output_type": "stream",
          "name": "stdout",
          "text": [
            "epoch 10 valid_avg_loss 3.126786231994629\n",
            "epoch 11 started\n"
          ]
        },
        {
          "output_type": "stream",
          "name": "stderr",
          "text": [
            "100%|██████████| 54/54 [00:43<00:00,  1.25it/s]\n"
          ]
        },
        {
          "output_type": "stream",
          "name": "stdout",
          "text": [
            "epoch 11 train_avg_loss 3.5122241973876953\n"
          ]
        },
        {
          "output_type": "stream",
          "name": "stderr",
          "text": [
            "100%|██████████| 12/12 [00:03<00:00,  3.46it/s]\n"
          ]
        },
        {
          "output_type": "stream",
          "name": "stdout",
          "text": [
            "epoch 11 valid_avg_loss 2.945380210876465\n",
            "epoch 12 started\n"
          ]
        },
        {
          "output_type": "stream",
          "name": "stderr",
          "text": [
            "100%|██████████| 54/54 [00:43<00:00,  1.25it/s]\n"
          ]
        },
        {
          "output_type": "stream",
          "name": "stdout",
          "text": [
            "epoch 12 train_avg_loss 3.522568702697754\n"
          ]
        },
        {
          "output_type": "stream",
          "name": "stderr",
          "text": [
            "100%|██████████| 12/12 [00:03<00:00,  3.44it/s]\n"
          ]
        },
        {
          "output_type": "stream",
          "name": "stdout",
          "text": [
            "epoch 12 valid_avg_loss 2.961390495300293\n",
            "epoch 13 started\n"
          ]
        },
        {
          "output_type": "stream",
          "name": "stderr",
          "text": [
            "100%|██████████| 54/54 [00:43<00:00,  1.23it/s]\n"
          ]
        },
        {
          "output_type": "stream",
          "name": "stdout",
          "text": [
            "epoch 13 train_avg_loss 3.5042388439178467\n"
          ]
        },
        {
          "output_type": "stream",
          "name": "stderr",
          "text": [
            "100%|██████████| 12/12 [00:03<00:00,  3.41it/s]\n"
          ]
        },
        {
          "output_type": "stream",
          "name": "stdout",
          "text": [
            "epoch 13 valid_avg_loss 2.9696052074432373\n",
            "epoch 14 started\n"
          ]
        },
        {
          "output_type": "stream",
          "name": "stderr",
          "text": [
            "100%|██████████| 54/54 [00:43<00:00,  1.25it/s]\n"
          ]
        },
        {
          "output_type": "stream",
          "name": "stdout",
          "text": [
            "epoch 14 train_avg_loss 3.5095884799957275\n"
          ]
        },
        {
          "output_type": "stream",
          "name": "stderr",
          "text": [
            "100%|██████████| 12/12 [00:03<00:00,  3.41it/s]\n"
          ]
        },
        {
          "output_type": "stream",
          "name": "stdout",
          "text": [
            "epoch 14 valid_avg_loss 3.0410470962524414\n",
            "epoch 15 started\n"
          ]
        },
        {
          "output_type": "stream",
          "name": "stderr",
          "text": [
            "100%|██████████| 54/54 [00:43<00:00,  1.24it/s]\n"
          ]
        },
        {
          "output_type": "stream",
          "name": "stdout",
          "text": [
            "epoch 15 train_avg_loss 3.52213716506958\n"
          ]
        },
        {
          "output_type": "stream",
          "name": "stderr",
          "text": [
            "100%|██████████| 12/12 [00:03<00:00,  3.45it/s]\n"
          ]
        },
        {
          "output_type": "stream",
          "name": "stdout",
          "text": [
            "epoch 15 valid_avg_loss 2.926558494567871\n",
            "epoch 16 started\n"
          ]
        },
        {
          "output_type": "stream",
          "name": "stderr",
          "text": [
            "100%|██████████| 54/54 [00:43<00:00,  1.23it/s]\n"
          ]
        },
        {
          "output_type": "stream",
          "name": "stdout",
          "text": [
            "epoch 16 train_avg_loss 3.4942779541015625\n"
          ]
        },
        {
          "output_type": "stream",
          "name": "stderr",
          "text": [
            "100%|██████████| 12/12 [00:03<00:00,  3.43it/s]\n"
          ]
        },
        {
          "output_type": "stream",
          "name": "stdout",
          "text": [
            "epoch 16 valid_avg_loss 2.9340102672576904\n",
            "epoch 17 started\n"
          ]
        },
        {
          "output_type": "stream",
          "name": "stderr",
          "text": [
            "100%|██████████| 54/54 [00:43<00:00,  1.24it/s]\n"
          ]
        },
        {
          "output_type": "stream",
          "name": "stdout",
          "text": [
            "epoch 17 train_avg_loss 3.527614116668701\n"
          ]
        },
        {
          "output_type": "stream",
          "name": "stderr",
          "text": [
            "100%|██████████| 12/12 [00:03<00:00,  3.24it/s]\n"
          ]
        },
        {
          "output_type": "stream",
          "name": "stdout",
          "text": [
            "epoch 17 valid_avg_loss 2.960386037826538\n",
            "epoch 18 started\n"
          ]
        },
        {
          "output_type": "stream",
          "name": "stderr",
          "text": [
            "100%|██████████| 54/54 [00:43<00:00,  1.23it/s]\n"
          ]
        },
        {
          "output_type": "stream",
          "name": "stdout",
          "text": [
            "epoch 18 train_avg_loss 3.504505157470703\n"
          ]
        },
        {
          "output_type": "stream",
          "name": "stderr",
          "text": [
            "100%|██████████| 12/12 [00:03<00:00,  3.45it/s]\n"
          ]
        },
        {
          "output_type": "stream",
          "name": "stdout",
          "text": [
            "epoch 18 valid_avg_loss 2.9380195140838623\n",
            "epoch 19 started\n"
          ]
        },
        {
          "output_type": "stream",
          "name": "stderr",
          "text": [
            "100%|██████████| 54/54 [00:43<00:00,  1.25it/s]\n"
          ]
        },
        {
          "output_type": "stream",
          "name": "stdout",
          "text": [
            "epoch 19 train_avg_loss 3.490635871887207\n"
          ]
        },
        {
          "output_type": "stream",
          "name": "stderr",
          "text": [
            "100%|██████████| 12/12 [00:03<00:00,  3.44it/s]\n"
          ]
        },
        {
          "output_type": "stream",
          "name": "stdout",
          "text": [
            "epoch 19 valid_avg_loss 2.915469169616699\n"
          ]
        }
      ]
    },
    {
      "cell_type": "code",
      "source": [
        "# train with GPU\n",
        "train_losses = []\n",
        "valid_losses = []\n",
        "for epoch in range(max_epochs):\n",
        "\n",
        "  # training phase\n",
        "  model.train()\n",
        "  print(f\"epoch {epoch} started\")\n",
        "  total_loss = 0\n",
        "  total = len(train_dataloader)\n",
        "  for batch in tqdm(train_dataloader):\n",
        "\n",
        "    # compute output of the model on the mini-batch\n",
        "    feature = batch['feature'].to(device)\n",
        "    radar = batch['radar'].to(device)\n",
        "    out = model(feature)\n",
        "\n",
        "    # compute loss function\n",
        "    loss = criterion(out, radar)\n",
        "    total_loss += loss \n",
        "    # calculate derivative and do a gradient descent step\n",
        "    optimizer.zero_grad()\n",
        "    loss.backward()\n",
        "    optimizer.step()\n",
        "    scheduler.step()\n",
        "\n",
        "  avg_loss = total_loss / total\n",
        "  train_losses.append(avg_loss)\n",
        "  \n",
        "  print(f\"epoch {epoch} train_avg_loss {avg_loss}\")\n",
        "\n",
        "\n",
        "  # testing phase\n",
        "  model.eval()\n",
        "  total = len(valid_dataloader)\n",
        "  total_loss = 0 # count number of correct predictions on test set\n",
        "\n",
        "  for batch in tqdm(valid_dataloader):\n",
        "    with torch.no_grad(): # prevent gradient computation\n",
        "      feature = batch['feature'].to(device)\n",
        "      radar = batch['radar'].to(device)\n",
        "      out = model(feature)\n",
        "\n",
        "      loss = criterion(out, radar)\n",
        "      total_loss += loss\n",
        "\n",
        "  # compute test accuracy for this epoch\n",
        "  avg_loss = total_loss / total\n",
        "  print(f\"epoch {epoch} valid_avg_loss {avg_loss}\")"
      ],
      "metadata": {
        "colab": {
          "base_uri": "https://localhost:8080/"
        },
        "id": "K4VKdHaReejn",
        "outputId": "ac3b38d3-79ce-455c-bde5-0580ca8367a4"
      },
      "execution_count": null,
      "outputs": [
        {
          "output_type": "stream",
          "name": "stdout",
          "text": [
            "epoch 0 started\n"
          ]
        },
        {
          "output_type": "stream",
          "name": "stderr",
          "text": [
            "100%|██████████| 54/54 [00:45<00:00,  1.18it/s]\n"
          ]
        },
        {
          "output_type": "stream",
          "name": "stdout",
          "text": [
            "epoch 0 train_avg_loss 3.9681832790374756\n"
          ]
        },
        {
          "output_type": "stream",
          "name": "stderr",
          "text": [
            "100%|██████████| 12/12 [00:03<00:00,  3.41it/s]\n"
          ]
        },
        {
          "output_type": "stream",
          "name": "stdout",
          "text": [
            "epoch 0 valid_avg_loss 3.259459972381592\n",
            "epoch 1 started\n"
          ]
        },
        {
          "output_type": "stream",
          "name": "stderr",
          "text": [
            "100%|██████████| 54/54 [00:44<00:00,  1.22it/s]\n"
          ]
        },
        {
          "output_type": "stream",
          "name": "stdout",
          "text": [
            "epoch 1 train_avg_loss 3.7999141216278076\n"
          ]
        },
        {
          "output_type": "stream",
          "name": "stderr",
          "text": [
            "100%|██████████| 12/12 [00:03<00:00,  3.40it/s]\n"
          ]
        },
        {
          "output_type": "stream",
          "name": "stdout",
          "text": [
            "epoch 1 valid_avg_loss 3.259459972381592\n",
            "epoch 2 started\n"
          ]
        },
        {
          "output_type": "stream",
          "name": "stderr",
          "text": [
            "100%|██████████| 54/54 [00:44<00:00,  1.20it/s]\n"
          ]
        },
        {
          "output_type": "stream",
          "name": "stdout",
          "text": [
            "epoch 2 train_avg_loss 3.793699264526367\n"
          ]
        },
        {
          "output_type": "stream",
          "name": "stderr",
          "text": [
            "100%|██████████| 12/12 [00:03<00:00,  3.38it/s]\n"
          ]
        },
        {
          "output_type": "stream",
          "name": "stdout",
          "text": [
            "epoch 2 valid_avg_loss 3.259459972381592\n",
            "epoch 3 started\n"
          ]
        },
        {
          "output_type": "stream",
          "name": "stderr",
          "text": [
            "100%|██████████| 54/54 [00:44<00:00,  1.21it/s]\n"
          ]
        },
        {
          "output_type": "stream",
          "name": "stdout",
          "text": [
            "epoch 3 train_avg_loss 3.8033368587493896\n"
          ]
        },
        {
          "output_type": "stream",
          "name": "stderr",
          "text": [
            "100%|██████████| 12/12 [00:03<00:00,  3.41it/s]\n"
          ]
        },
        {
          "output_type": "stream",
          "name": "stdout",
          "text": [
            "epoch 3 valid_avg_loss 3.259459972381592\n",
            "epoch 4 started\n"
          ]
        },
        {
          "output_type": "stream",
          "name": "stderr",
          "text": [
            "100%|██████████| 54/54 [00:44<00:00,  1.21it/s]\n"
          ]
        },
        {
          "output_type": "stream",
          "name": "stdout",
          "text": [
            "epoch 4 train_avg_loss 3.790327787399292\n"
          ]
        },
        {
          "output_type": "stream",
          "name": "stderr",
          "text": [
            "100%|██████████| 12/12 [00:03<00:00,  3.40it/s]\n"
          ]
        },
        {
          "output_type": "stream",
          "name": "stdout",
          "text": [
            "epoch 4 valid_avg_loss 3.259459972381592\n",
            "epoch 5 started\n"
          ]
        },
        {
          "output_type": "stream",
          "name": "stderr",
          "text": [
            "100%|██████████| 54/54 [00:44<00:00,  1.20it/s]\n"
          ]
        },
        {
          "output_type": "stream",
          "name": "stdout",
          "text": [
            "epoch 5 train_avg_loss 3.788907289505005\n"
          ]
        },
        {
          "output_type": "stream",
          "name": "stderr",
          "text": [
            "100%|██████████| 12/12 [00:03<00:00,  3.36it/s]\n"
          ]
        },
        {
          "output_type": "stream",
          "name": "stdout",
          "text": [
            "epoch 5 valid_avg_loss 3.259459972381592\n",
            "epoch 6 started\n"
          ]
        },
        {
          "output_type": "stream",
          "name": "stderr",
          "text": [
            "100%|██████████| 54/54 [00:44<00:00,  1.20it/s]\n"
          ]
        },
        {
          "output_type": "stream",
          "name": "stdout",
          "text": [
            "epoch 6 train_avg_loss 3.8117434978485107\n"
          ]
        },
        {
          "output_type": "stream",
          "name": "stderr",
          "text": [
            "100%|██████████| 12/12 [00:03<00:00,  3.40it/s]\n"
          ]
        },
        {
          "output_type": "stream",
          "name": "stdout",
          "text": [
            "epoch 6 valid_avg_loss 3.259459972381592\n",
            "epoch 7 started\n"
          ]
        },
        {
          "output_type": "stream",
          "name": "stderr",
          "text": [
            "100%|██████████| 54/54 [00:44<00:00,  1.20it/s]\n"
          ]
        },
        {
          "output_type": "stream",
          "name": "stdout",
          "text": [
            "epoch 7 train_avg_loss 3.7785913944244385\n"
          ]
        },
        {
          "output_type": "stream",
          "name": "stderr",
          "text": [
            "100%|██████████| 12/12 [00:03<00:00,  3.39it/s]\n"
          ]
        },
        {
          "output_type": "stream",
          "name": "stdout",
          "text": [
            "epoch 7 valid_avg_loss 3.259459972381592\n",
            "epoch 8 started\n"
          ]
        },
        {
          "output_type": "stream",
          "name": "stderr",
          "text": [
            "100%|██████████| 54/54 [00:44<00:00,  1.20it/s]\n"
          ]
        },
        {
          "output_type": "stream",
          "name": "stdout",
          "text": [
            "epoch 8 train_avg_loss 3.791487216949463\n"
          ]
        },
        {
          "output_type": "stream",
          "name": "stderr",
          "text": [
            "100%|██████████| 12/12 [00:03<00:00,  3.40it/s]\n"
          ]
        },
        {
          "output_type": "stream",
          "name": "stdout",
          "text": [
            "epoch 8 valid_avg_loss 3.259459972381592\n",
            "epoch 9 started\n"
          ]
        },
        {
          "output_type": "stream",
          "name": "stderr",
          "text": [
            "100%|██████████| 54/54 [00:44<00:00,  1.21it/s]\n"
          ]
        },
        {
          "output_type": "stream",
          "name": "stdout",
          "text": [
            "epoch 9 train_avg_loss 3.811190605163574\n"
          ]
        },
        {
          "output_type": "stream",
          "name": "stderr",
          "text": [
            "100%|██████████| 12/12 [00:03<00:00,  3.40it/s]\n"
          ]
        },
        {
          "output_type": "stream",
          "name": "stdout",
          "text": [
            "epoch 9 valid_avg_loss 3.259459972381592\n",
            "epoch 10 started\n"
          ]
        },
        {
          "output_type": "stream",
          "name": "stderr",
          "text": [
            "100%|██████████| 54/54 [00:44<00:00,  1.20it/s]\n"
          ]
        },
        {
          "output_type": "stream",
          "name": "stdout",
          "text": [
            "epoch 10 train_avg_loss 3.7945632934570312\n"
          ]
        },
        {
          "output_type": "stream",
          "name": "stderr",
          "text": [
            "100%|██████████| 12/12 [00:03<00:00,  3.40it/s]\n"
          ]
        },
        {
          "output_type": "stream",
          "name": "stdout",
          "text": [
            "epoch 10 valid_avg_loss 3.259459972381592\n",
            "epoch 11 started\n"
          ]
        },
        {
          "output_type": "stream",
          "name": "stderr",
          "text": [
            "100%|██████████| 54/54 [00:44<00:00,  1.21it/s]\n"
          ]
        },
        {
          "output_type": "stream",
          "name": "stdout",
          "text": [
            "epoch 11 train_avg_loss 3.806506395339966\n"
          ]
        },
        {
          "output_type": "stream",
          "name": "stderr",
          "text": [
            "100%|██████████| 12/12 [00:03<00:00,  3.37it/s]\n"
          ]
        },
        {
          "output_type": "stream",
          "name": "stdout",
          "text": [
            "epoch 11 valid_avg_loss 3.259459972381592\n",
            "epoch 12 started\n"
          ]
        },
        {
          "output_type": "stream",
          "name": "stderr",
          "text": [
            "100%|██████████| 54/54 [00:44<00:00,  1.21it/s]\n"
          ]
        },
        {
          "output_type": "stream",
          "name": "stdout",
          "text": [
            "epoch 12 train_avg_loss 3.780658721923828\n"
          ]
        },
        {
          "output_type": "stream",
          "name": "stderr",
          "text": [
            "100%|██████████| 12/12 [00:03<00:00,  3.39it/s]\n"
          ]
        },
        {
          "output_type": "stream",
          "name": "stdout",
          "text": [
            "epoch 12 valid_avg_loss 3.259459972381592\n",
            "epoch 13 started\n"
          ]
        },
        {
          "output_type": "stream",
          "name": "stderr",
          "text": [
            "100%|██████████| 54/54 [00:44<00:00,  1.21it/s]\n"
          ]
        },
        {
          "output_type": "stream",
          "name": "stdout",
          "text": [
            "epoch 13 train_avg_loss 3.7908599376678467\n"
          ]
        },
        {
          "output_type": "stream",
          "name": "stderr",
          "text": [
            "100%|██████████| 12/12 [00:03<00:00,  3.41it/s]\n"
          ]
        },
        {
          "output_type": "stream",
          "name": "stdout",
          "text": [
            "epoch 13 valid_avg_loss 3.259459972381592\n",
            "epoch 14 started\n"
          ]
        },
        {
          "output_type": "stream",
          "name": "stderr",
          "text": [
            "100%|██████████| 54/54 [00:44<00:00,  1.21it/s]\n"
          ]
        },
        {
          "output_type": "stream",
          "name": "stdout",
          "text": [
            "epoch 14 train_avg_loss 3.7951552867889404\n"
          ]
        },
        {
          "output_type": "stream",
          "name": "stderr",
          "text": [
            "100%|██████████| 12/12 [00:03<00:00,  3.36it/s]\n"
          ]
        },
        {
          "output_type": "stream",
          "name": "stdout",
          "text": [
            "epoch 14 valid_avg_loss 3.259459972381592\n",
            "epoch 15 started\n"
          ]
        },
        {
          "output_type": "stream",
          "name": "stderr",
          "text": [
            "100%|██████████| 54/54 [00:44<00:00,  1.20it/s]\n"
          ]
        },
        {
          "output_type": "stream",
          "name": "stdout",
          "text": [
            "epoch 15 train_avg_loss 3.8093388080596924\n"
          ]
        },
        {
          "output_type": "stream",
          "name": "stderr",
          "text": [
            "100%|██████████| 12/12 [00:03<00:00,  3.38it/s]\n"
          ]
        },
        {
          "output_type": "stream",
          "name": "stdout",
          "text": [
            "epoch 15 valid_avg_loss 3.259459972381592\n",
            "epoch 16 started\n"
          ]
        },
        {
          "output_type": "stream",
          "name": "stderr",
          "text": [
            "100%|██████████| 54/54 [00:44<00:00,  1.20it/s]\n"
          ]
        },
        {
          "output_type": "stream",
          "name": "stdout",
          "text": [
            "epoch 16 train_avg_loss 3.7909939289093018\n"
          ]
        },
        {
          "output_type": "stream",
          "name": "stderr",
          "text": [
            "100%|██████████| 12/12 [00:03<00:00,  3.39it/s]\n"
          ]
        },
        {
          "output_type": "stream",
          "name": "stdout",
          "text": [
            "epoch 16 valid_avg_loss 3.259459972381592\n",
            "epoch 17 started\n"
          ]
        },
        {
          "output_type": "stream",
          "name": "stderr",
          "text": [
            "100%|██████████| 54/54 [00:44<00:00,  1.21it/s]\n"
          ]
        },
        {
          "output_type": "stream",
          "name": "stdout",
          "text": [
            "epoch 17 train_avg_loss 3.774015426635742\n"
          ]
        },
        {
          "output_type": "stream",
          "name": "stderr",
          "text": [
            "100%|██████████| 12/12 [00:03<00:00,  3.38it/s]\n"
          ]
        },
        {
          "output_type": "stream",
          "name": "stdout",
          "text": [
            "epoch 17 valid_avg_loss 3.259459972381592\n",
            "epoch 18 started\n"
          ]
        },
        {
          "output_type": "stream",
          "name": "stderr",
          "text": [
            "100%|██████████| 54/54 [00:44<00:00,  1.21it/s]\n"
          ]
        },
        {
          "output_type": "stream",
          "name": "stdout",
          "text": [
            "epoch 18 train_avg_loss 3.7832679748535156\n"
          ]
        },
        {
          "output_type": "stream",
          "name": "stderr",
          "text": [
            "100%|██████████| 12/12 [00:03<00:00,  3.39it/s]\n"
          ]
        },
        {
          "output_type": "stream",
          "name": "stdout",
          "text": [
            "epoch 18 valid_avg_loss 3.259459972381592\n",
            "epoch 19 started\n"
          ]
        },
        {
          "output_type": "stream",
          "name": "stderr",
          "text": [
            "100%|██████████| 54/54 [00:44<00:00,  1.21it/s]\n"
          ]
        },
        {
          "output_type": "stream",
          "name": "stdout",
          "text": [
            "epoch 19 train_avg_loss 3.7959961891174316\n"
          ]
        },
        {
          "output_type": "stream",
          "name": "stderr",
          "text": [
            "100%|██████████| 12/12 [00:03<00:00,  3.37it/s]"
          ]
        },
        {
          "output_type": "stream",
          "name": "stdout",
          "text": [
            "epoch 19 valid_avg_loss 3.259459972381592\n"
          ]
        },
        {
          "output_type": "stream",
          "name": "stderr",
          "text": [
            "\n"
          ]
        }
      ]
    }
  ]
}